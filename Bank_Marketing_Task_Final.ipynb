{
  "nbformat": 4,
  "nbformat_minor": 0,
  "metadata": {
    "kernelspec": {
      "display_name": "Python 3",
      "language": "python",
      "name": "python3"
    },
    "colab": {
      "name": "Bank Marketing Task Final.ipynb",
      "provenance": [],
      "collapsed_sections": []
    }
  },
  "cells": [
    {
      "cell_type": "markdown",
      "metadata": {
        "id": "z6Da0FNsuVnK"
      },
      "source": [
        "# Bank Marketing "
      ]
    },
    {
      "cell_type": "markdown",
      "metadata": {
        "id": "cq8KKUEpuVnh"
      },
      "source": [
        "The aim here is to classify whether a client will subscribe to a term deposit plan or not. (Binary Classification)\n",
        "Dataset url: https://www.kaggle.com/henriqueyamahata/bank-marketing"
      ]
    },
    {
      "cell_type": "code",
      "metadata": {
        "id": "9uaM_FzWvMkM"
      },
      "source": [
        "## Performance \r\n",
        "### Hyper parameter tuning:\r\n",
        "\r\n",
        "# xgboost : 0.9460779708783467\r\n",
        "# RandomForestClassifier : 0.8956317519962423\r\n",
        "\r\n",
        "\r\n",
        "### UP SAMPLING and One Hot encoding\r\n",
        "\r\n",
        "# Catboost : 0.9428839830906529\r\n",
        "# LightGBM : 0.9457022076092062\r\n",
        "\r\n",
        "\r\n",
        "### No Up sampling and LabelEncoding\r\n",
        "\r\n",
        "# Catboost : 0.9081063340991139\r\n",
        "# LightGBM : 0.9043321299638989\r\n",
        "\r\n",
        "\r\n",
        "### Voting Classifier ( Logistic Regression, KNN, Decision Tree Classifier)\r\n",
        "\r\n",
        "## Accuracy : 0.9389384687646782"
      ],
      "execution_count": null,
      "outputs": []
    },
    {
      "cell_type": "code",
      "metadata": {
        "id": "EfcnhfepuVnk"
      },
      "source": [
        "import numpy as np\n",
        "import pandas as pd\n",
        "import matplotlib.pyplot as plt\n",
        "import seaborn as sns"
      ],
      "execution_count": null,
      "outputs": []
    },
    {
      "cell_type": "code",
      "metadata": {
        "id": "up7d8Il7uVnn"
      },
      "source": [
        "from sklearn.decomposition import PCA"
      ],
      "execution_count": null,
      "outputs": []
    },
    {
      "cell_type": "code",
      "metadata": {
        "id": "0tEnsDWyuVnq"
      },
      "source": [
        "df = pd.read_csv(r'E:\\MSC BDA SEM 3\\Bank Marketing Task\\bank-additional-full.csv', sep=';')"
      ],
      "execution_count": null,
      "outputs": []
    },
    {
      "cell_type": "code",
      "metadata": {
        "id": "KrjTThCiuVnr"
      },
      "source": [
        "df.drop_duplicates(keep=False, inplace=True) "
      ],
      "execution_count": null,
      "outputs": []
    },
    {
      "cell_type": "code",
      "metadata": {
        "id": "04TComFUuVnv"
      },
      "source": [
        "columns = df.columns.tolist()\n",
        "numerical = [feature for feature in columns if df[feature].dtypes!='O']\n",
        "categorical = [feature for feature in columns if feature not in numerical]\n",
        "polychotomus = [feature for feature in categorical if feature not in ['default','housing','loan','contact','y']]"
      ],
      "execution_count": null,
      "outputs": []
    },
    {
      "cell_type": "markdown",
      "metadata": {
        "id": "n27HH2vduVnx"
      },
      "source": [
        "## Preprocessing  "
      ]
    },
    {
      "cell_type": "markdown",
      "metadata": {
        "id": "BuIlOIDUuVnz"
      },
      "source": [
        "### Missing Values ( Unknown, 999 ) "
      ]
    },
    {
      "cell_type": "markdown",
      "metadata": {
        "id": "Y49SbvU0uVn1"
      },
      "source": [
        "The Dataset contains missing values in categorical varaibles as \"Unknown\" and in numerical variables as \"999\" "
      ]
    },
    {
      "cell_type": "code",
      "metadata": {
        "id": "ydGW7zBjuVn2",
        "outputId": "998d989b-a0b7-4e95-d50b-55b556b88139"
      },
      "source": [
        "for feature in columns:\n",
        "    df[feature] = np.where(df[feature]=='unknown',np.nan,df[feature])"
      ],
      "execution_count": null,
      "outputs": [
        {
          "output_type": "stream",
          "text": [
            "C:\\Users\\test\\anaconda3\\lib\\site-packages\\pandas\\core\\ops\\array_ops.py:253: FutureWarning: elementwise comparison failed; returning scalar instead, but in the future will perform elementwise comparison\n",
            "  res_values = method(rvalues)\n"
          ],
          "name": "stderr"
        }
      ]
    },
    {
      "cell_type": "code",
      "metadata": {
        "id": "h2WthWHTuVn9"
      },
      "source": [
        "## Missing values in Categorical\n",
        "\n",
        "def Missing(df,columns):\n",
        "    missing = []\n",
        "    for feature in columns:\n",
        "        missing_val = np.round(df[feature].isna().sum()/len(df), 3)*100\n",
        "        missing.append([feature, missing_val])\n",
        "    miss_df = pd.DataFrame(missing, columns=['Feature', '% Missing'])\n",
        "    miss_df = miss_df[miss_df['% Missing'] != 0]\n",
        "    return miss_df"
      ],
      "execution_count": null,
      "outputs": []
    },
    {
      "cell_type": "code",
      "metadata": {
        "id": "z5AzJ1D1uVn_",
        "outputId": "42fad643-9fca-4d14-f8ac-26891382d742"
      },
      "source": [
        "Missing(df, columns)"
      ],
      "execution_count": null,
      "outputs": [
        {
          "output_type": "execute_result",
          "data": {
            "text/html": [
              "<div>\n",
              "<style scoped>\n",
              "    .dataframe tbody tr th:only-of-type {\n",
              "        vertical-align: middle;\n",
              "    }\n",
              "\n",
              "    .dataframe tbody tr th {\n",
              "        vertical-align: top;\n",
              "    }\n",
              "\n",
              "    .dataframe thead th {\n",
              "        text-align: right;\n",
              "    }\n",
              "</style>\n",
              "<table border=\"1\" class=\"dataframe\">\n",
              "  <thead>\n",
              "    <tr style=\"text-align: right;\">\n",
              "      <th></th>\n",
              "      <th>Feature</th>\n",
              "      <th>% Missing</th>\n",
              "    </tr>\n",
              "  </thead>\n",
              "  <tbody>\n",
              "    <tr>\n",
              "      <th>1</th>\n",
              "      <td>job</td>\n",
              "      <td>0.8</td>\n",
              "    </tr>\n",
              "    <tr>\n",
              "      <th>2</th>\n",
              "      <td>marital</td>\n",
              "      <td>0.2</td>\n",
              "    </tr>\n",
              "    <tr>\n",
              "      <th>3</th>\n",
              "      <td>education</td>\n",
              "      <td>4.2</td>\n",
              "    </tr>\n",
              "    <tr>\n",
              "      <th>4</th>\n",
              "      <td>default</td>\n",
              "      <td>20.9</td>\n",
              "    </tr>\n",
              "    <tr>\n",
              "      <th>5</th>\n",
              "      <td>housing</td>\n",
              "      <td>2.4</td>\n",
              "    </tr>\n",
              "    <tr>\n",
              "      <th>6</th>\n",
              "      <td>loan</td>\n",
              "      <td>2.4</td>\n",
              "    </tr>\n",
              "  </tbody>\n",
              "</table>\n",
              "</div>"
            ],
            "text/plain": [
              "     Feature  % Missing\n",
              "1        job        0.8\n",
              "2    marital        0.2\n",
              "3  education        4.2\n",
              "4    default       20.9\n",
              "5    housing        2.4\n",
              "6       loan        2.4"
            ]
          },
          "metadata": {
            "tags": []
          },
          "execution_count": 9
        }
      ]
    },
    {
      "cell_type": "code",
      "metadata": {
        "id": "kXMhbzsIuVoB",
        "outputId": "e7fbc66f-ca6f-4458-e2a7-068946f4b77b"
      },
      "source": [
        "# Missing values in Numerical\n",
        "\n",
        "count_999 = []\n",
        "for feature in numerical:\n",
        "    if (999 in df[feature].unique()):\n",
        "        count_val = np.round((df[feature].value_counts()[999]/len(df[feature])),4)*100\n",
        "        count_999.append([feature, count_val])\n",
        "    else:\n",
        "        pass\n",
        "pd.DataFrame(count_999, columns=['Feature', '% Missing'])"
      ],
      "execution_count": null,
      "outputs": [
        {
          "output_type": "execute_result",
          "data": {
            "text/html": [
              "<div>\n",
              "<style scoped>\n",
              "    .dataframe tbody tr th:only-of-type {\n",
              "        vertical-align: middle;\n",
              "    }\n",
              "\n",
              "    .dataframe tbody tr th {\n",
              "        vertical-align: top;\n",
              "    }\n",
              "\n",
              "    .dataframe thead th {\n",
              "        text-align: right;\n",
              "    }\n",
              "</style>\n",
              "<table border=\"1\" class=\"dataframe\">\n",
              "  <thead>\n",
              "    <tr style=\"text-align: right;\">\n",
              "      <th></th>\n",
              "      <th>Feature</th>\n",
              "      <th>% Missing</th>\n",
              "    </tr>\n",
              "  </thead>\n",
              "  <tbody>\n",
              "    <tr>\n",
              "      <th>0</th>\n",
              "      <td>duration</td>\n",
              "      <td>0.00</td>\n",
              "    </tr>\n",
              "    <tr>\n",
              "      <th>1</th>\n",
              "      <td>pdays</td>\n",
              "      <td>96.32</td>\n",
              "    </tr>\n",
              "  </tbody>\n",
              "</table>\n",
              "</div>"
            ],
            "text/plain": [
              "    Feature  % Missing\n",
              "0  duration       0.00\n",
              "1     pdays      96.32"
            ]
          },
          "metadata": {
            "tags": []
          },
          "execution_count": 10
        }
      ]
    },
    {
      "cell_type": "markdown",
      "metadata": {
        "id": "l9LHdDGnuVoE"
      },
      "source": [
        "pdays and default have 96.32 and 20.9 percent missing values respectively hence need to drop these two columns. Also the rest of the columns having missing values, the rows have been dropped."
      ]
    },
    {
      "cell_type": "code",
      "metadata": {
        "id": "0-rXfYXKuVoF"
      },
      "source": [
        "df.dropna(axis=0,inplace=True)"
      ],
      "execution_count": null,
      "outputs": []
    },
    {
      "cell_type": "code",
      "metadata": {
        "id": "6hZ2CnfPuVoG"
      },
      "source": [
        "df.drop(['pdays','default'],axis=1, inplace=True)\n",
        "columns.remove('pdays')\n",
        "columns.remove('default')"
      ],
      "execution_count": null,
      "outputs": []
    },
    {
      "cell_type": "code",
      "metadata": {
        "id": "JsRbr4r0uVoI"
      },
      "source": [
        "numerical = [feature for feature in columns if df[feature].dtypes!='O']\n",
        "categorical = [feature for feature in columns if feature not in numerical]\n",
        "polychotomus = [feature for feature in categorical if feature not in ['housing','loan','contact','y']]"
      ],
      "execution_count": null,
      "outputs": []
    },
    {
      "cell_type": "markdown",
      "metadata": {
        "id": "l_CAGUJ-uVoI"
      },
      "source": [
        "### Unique Values  "
      ]
    },
    {
      "cell_type": "code",
      "metadata": {
        "id": "AL3NZ0bfuVoI"
      },
      "source": [
        "def unique(df, column):\n",
        "    unique_vals = []\n",
        "    for feature in column:\n",
        "        val1 = df[feature].nunique()\n",
        "        unique_vals.append([feature, val1])\n",
        "    unique_df = pd.DataFrame(unique_vals, columns=['Feature', 'No. Unique'])\n",
        "\n",
        "    return unique_df"
      ],
      "execution_count": null,
      "outputs": []
    },
    {
      "cell_type": "code",
      "metadata": {
        "id": "mSY0IrmsuVoJ"
      },
      "source": [
        "## Numerical Variables Describe\n",
        "def describe_num(df,numerical):\n",
        "    vals = []\n",
        "    for feature in numerical:\n",
        "        feat_des = [feature, df[feature].nunique(),np.round(df[feature].mean(),2), min(df[feature]),\n",
        "                    np.quantile(df[feature],0.25),np.quantile(df[feature],0.5),np.quantile(df[feature],0.75),\n",
        "                    max(df[feature])]\n",
        "        vals.append(feat_des)\n",
        "    desc_num = pd.DataFrame(vals, columns=['Feature','No. Unique','Mean','Min','Q1','Q2','Q3','Max'])\n",
        "    return desc_num"
      ],
      "execution_count": null,
      "outputs": []
    },
    {
      "cell_type": "code",
      "metadata": {
        "id": "QKTIHve4uVoJ",
        "outputId": "d39ace21-f21e-496d-b32c-33617f065387"
      },
      "source": [
        "describe_num(df,numerical)"
      ],
      "execution_count": null,
      "outputs": [
        {
          "output_type": "execute_result",
          "data": {
            "text/html": [
              "<div>\n",
              "<style scoped>\n",
              "    .dataframe tbody tr th:only-of-type {\n",
              "        vertical-align: middle;\n",
              "    }\n",
              "\n",
              "    .dataframe tbody tr th {\n",
              "        vertical-align: top;\n",
              "    }\n",
              "\n",
              "    .dataframe thead th {\n",
              "        text-align: right;\n",
              "    }\n",
              "</style>\n",
              "<table border=\"1\" class=\"dataframe\">\n",
              "  <thead>\n",
              "    <tr style=\"text-align: right;\">\n",
              "      <th></th>\n",
              "      <th>Feature</th>\n",
              "      <th>No. Unique</th>\n",
              "      <th>Mean</th>\n",
              "      <th>Min</th>\n",
              "      <th>Q1</th>\n",
              "      <th>Q2</th>\n",
              "      <th>Q3</th>\n",
              "      <th>Max</th>\n",
              "    </tr>\n",
              "  </thead>\n",
              "  <tbody>\n",
              "    <tr>\n",
              "      <th>0</th>\n",
              "      <td>age</td>\n",
              "      <td>76</td>\n",
              "      <td>39.03</td>\n",
              "      <td>17.000</td>\n",
              "      <td>31.000</td>\n",
              "      <td>37.000</td>\n",
              "      <td>45.000</td>\n",
              "      <td>95.000</td>\n",
              "    </tr>\n",
              "    <tr>\n",
              "      <th>1</th>\n",
              "      <td>duration</td>\n",
              "      <td>1441</td>\n",
              "      <td>259.54</td>\n",
              "      <td>0.000</td>\n",
              "      <td>103.000</td>\n",
              "      <td>181.000</td>\n",
              "      <td>321.000</td>\n",
              "      <td>4918.000</td>\n",
              "    </tr>\n",
              "    <tr>\n",
              "      <th>2</th>\n",
              "      <td>campaign</td>\n",
              "      <td>41</td>\n",
              "      <td>2.52</td>\n",
              "      <td>1.000</td>\n",
              "      <td>1.000</td>\n",
              "      <td>2.000</td>\n",
              "      <td>3.000</td>\n",
              "      <td>43.000</td>\n",
              "    </tr>\n",
              "    <tr>\n",
              "      <th>3</th>\n",
              "      <td>previous</td>\n",
              "      <td>8</td>\n",
              "      <td>0.19</td>\n",
              "      <td>0.000</td>\n",
              "      <td>0.000</td>\n",
              "      <td>0.000</td>\n",
              "      <td>0.000</td>\n",
              "      <td>7.000</td>\n",
              "    </tr>\n",
              "    <tr>\n",
              "      <th>4</th>\n",
              "      <td>emp.var.rate</td>\n",
              "      <td>10</td>\n",
              "      <td>-0.07</td>\n",
              "      <td>-3.400</td>\n",
              "      <td>-1.800</td>\n",
              "      <td>1.100</td>\n",
              "      <td>1.400</td>\n",
              "      <td>1.400</td>\n",
              "    </tr>\n",
              "    <tr>\n",
              "      <th>5</th>\n",
              "      <td>cons.price.idx</td>\n",
              "      <td>26</td>\n",
              "      <td>93.52</td>\n",
              "      <td>92.201</td>\n",
              "      <td>93.075</td>\n",
              "      <td>93.444</td>\n",
              "      <td>93.994</td>\n",
              "      <td>94.767</td>\n",
              "    </tr>\n",
              "    <tr>\n",
              "      <th>6</th>\n",
              "      <td>cons.conf.idx</td>\n",
              "      <td>26</td>\n",
              "      <td>-40.60</td>\n",
              "      <td>-50.800</td>\n",
              "      <td>-42.700</td>\n",
              "      <td>-41.800</td>\n",
              "      <td>-36.400</td>\n",
              "      <td>-26.900</td>\n",
              "    </tr>\n",
              "    <tr>\n",
              "      <th>7</th>\n",
              "      <td>euribor3m</td>\n",
              "      <td>314</td>\n",
              "      <td>3.46</td>\n",
              "      <td>0.634</td>\n",
              "      <td>1.313</td>\n",
              "      <td>4.856</td>\n",
              "      <td>4.961</td>\n",
              "      <td>5.045</td>\n",
              "    </tr>\n",
              "    <tr>\n",
              "      <th>8</th>\n",
              "      <td>nr.employed</td>\n",
              "      <td>11</td>\n",
              "      <td>5160.81</td>\n",
              "      <td>4963.600</td>\n",
              "      <td>5099.100</td>\n",
              "      <td>5191.000</td>\n",
              "      <td>5228.100</td>\n",
              "      <td>5228.100</td>\n",
              "    </tr>\n",
              "  </tbody>\n",
              "</table>\n",
              "</div>"
            ],
            "text/plain": [
              "          Feature  No. Unique     Mean       Min        Q1        Q2  \\\n",
              "0             age          76    39.03    17.000    31.000    37.000   \n",
              "1        duration        1441   259.54     0.000   103.000   181.000   \n",
              "2        campaign          41     2.52     1.000     1.000     2.000   \n",
              "3        previous           8     0.19     0.000     0.000     0.000   \n",
              "4    emp.var.rate          10    -0.07    -3.400    -1.800     1.100   \n",
              "5  cons.price.idx          26    93.52    92.201    93.075    93.444   \n",
              "6   cons.conf.idx          26   -40.60   -50.800   -42.700   -41.800   \n",
              "7       euribor3m         314     3.46     0.634     1.313     4.856   \n",
              "8     nr.employed          11  5160.81  4963.600  5099.100  5191.000   \n",
              "\n",
              "         Q3       Max  \n",
              "0    45.000    95.000  \n",
              "1   321.000  4918.000  \n",
              "2     3.000    43.000  \n",
              "3     0.000     7.000  \n",
              "4     1.400     1.400  \n",
              "5    93.994    94.767  \n",
              "6   -36.400   -26.900  \n",
              "7     4.961     5.045  \n",
              "8  5228.100  5228.100  "
            ]
          },
          "metadata": {
            "tags": []
          },
          "execution_count": 16
        }
      ]
    },
    {
      "cell_type": "code",
      "metadata": {
        "id": "wgJiPcKvuVoK",
        "outputId": "7cb14386-67f6-448d-d0c8-4168b98a8904"
      },
      "source": [
        "unique(df, categorical)"
      ],
      "execution_count": null,
      "outputs": [
        {
          "output_type": "execute_result",
          "data": {
            "text/html": [
              "<div>\n",
              "<style scoped>\n",
              "    .dataframe tbody tr th:only-of-type {\n",
              "        vertical-align: middle;\n",
              "    }\n",
              "\n",
              "    .dataframe tbody tr th {\n",
              "        vertical-align: top;\n",
              "    }\n",
              "\n",
              "    .dataframe thead th {\n",
              "        text-align: right;\n",
              "    }\n",
              "</style>\n",
              "<table border=\"1\" class=\"dataframe\">\n",
              "  <thead>\n",
              "    <tr style=\"text-align: right;\">\n",
              "      <th></th>\n",
              "      <th>Feature</th>\n",
              "      <th>No. Unique</th>\n",
              "    </tr>\n",
              "  </thead>\n",
              "  <tbody>\n",
              "    <tr>\n",
              "      <th>0</th>\n",
              "      <td>job</td>\n",
              "      <td>11</td>\n",
              "    </tr>\n",
              "    <tr>\n",
              "      <th>1</th>\n",
              "      <td>marital</td>\n",
              "      <td>3</td>\n",
              "    </tr>\n",
              "    <tr>\n",
              "      <th>2</th>\n",
              "      <td>education</td>\n",
              "      <td>7</td>\n",
              "    </tr>\n",
              "    <tr>\n",
              "      <th>3</th>\n",
              "      <td>housing</td>\n",
              "      <td>2</td>\n",
              "    </tr>\n",
              "    <tr>\n",
              "      <th>4</th>\n",
              "      <td>loan</td>\n",
              "      <td>2</td>\n",
              "    </tr>\n",
              "    <tr>\n",
              "      <th>5</th>\n",
              "      <td>contact</td>\n",
              "      <td>2</td>\n",
              "    </tr>\n",
              "    <tr>\n",
              "      <th>6</th>\n",
              "      <td>month</td>\n",
              "      <td>10</td>\n",
              "    </tr>\n",
              "    <tr>\n",
              "      <th>7</th>\n",
              "      <td>day_of_week</td>\n",
              "      <td>5</td>\n",
              "    </tr>\n",
              "    <tr>\n",
              "      <th>8</th>\n",
              "      <td>poutcome</td>\n",
              "      <td>3</td>\n",
              "    </tr>\n",
              "    <tr>\n",
              "      <th>9</th>\n",
              "      <td>y</td>\n",
              "      <td>2</td>\n",
              "    </tr>\n",
              "  </tbody>\n",
              "</table>\n",
              "</div>"
            ],
            "text/plain": [
              "       Feature  No. Unique\n",
              "0          job          11\n",
              "1      marital           3\n",
              "2    education           7\n",
              "3      housing           2\n",
              "4         loan           2\n",
              "5      contact           2\n",
              "6        month          10\n",
              "7  day_of_week           5\n",
              "8     poutcome           3\n",
              "9            y           2"
            ]
          },
          "metadata": {
            "tags": []
          },
          "execution_count": 17
        }
      ]
    },
    {
      "cell_type": "markdown",
      "metadata": {
        "id": "PFSRMp17uVoL"
      },
      "source": [
        "## Exploratory Data Analysis "
      ]
    },
    {
      "cell_type": "code",
      "metadata": {
        "id": "2h6h2n7-uVoL",
        "outputId": "71ca263f-385b-4e47-832c-a2ad8f20b3a8"
      },
      "source": [
        "ax = sns.countplot(df['y'])\n",
        "for p in ax.patches:\n",
        "        ax.annotate('%{:.1f}'.format(np.round(p.get_height()/len(df),3)), (p.get_x()+0.3, p.get_height()+100))"
      ],
      "execution_count": null,
      "outputs": [
        {
          "output_type": "display_data",
          "data": {
            "image/png": "[encoded data removed]",
            "text/plain": [
              "<Figure size 432x288 with 1 Axes>"
            ]
          },
          "metadata": {
            "tags": [],
            "needs_background": "light"
          }
        }
      ]
    },
    {
      "cell_type": "markdown",
      "metadata": {
        "id": "tpMlUaPYuVoN"
      },
      "source": [
        "Dataset is highly imbalanced 9:1"
      ]
    },
    {
      "cell_type": "code",
      "metadata": {
        "id": "2IAo063ZuVoN",
        "outputId": "94168aa8-e679-4df5-f086-f3d2b2755e58"
      },
      "source": [
        "## Duration among the people who have and haven't agreed to the plan\n",
        "\n",
        "plt.figure(figsize=(10,6))\n",
        "sns.distplot(df[df['y']=='yes']['duration'])\n",
        "sns.distplot(df[df['y']=='no']['duration'])\n",
        "plt.legend(labels=['Yes','No'])\n",
        "plt.show()"
      ],
      "execution_count": null,
      "outputs": [
        {
          "output_type": "display_data",
          "data": {
            "image/png": "[encoded data removed]",
            "text/plain": [
              "<Figure size 720x432 with 1 Axes>"
            ]
          },
          "metadata": {
            "tags": [],
            "needs_background": "light"
          }
        }
      ]
    },
    {
      "cell_type": "markdown",
      "metadata": {
        "id": "bSomEaLIuVoP"
      },
      "source": [
        "Clients who have agreed for a term deposit plan tend to have a larger duration of conversation. Probably to get to know more about the details of the term deposit plan. On the other hand, the clients who are not interested donot attend the call for a long duration"
      ]
    },
    {
      "cell_type": "code",
      "metadata": {
        "id": "drdeb1xguVoP",
        "outputId": "c58a8e6b-765d-4f92-f900-0afe606ccfe9"
      },
      "source": [
        "plt.figure(figsize=(15,6))\n",
        "\n",
        "\n",
        "plt.subplot(1,2,1)\n",
        "sns.distplot(df[df['y']=='yes']['campaign'])\n",
        "sns.distplot(df[df['y']=='no']['campaign'])\n",
        "plt.title('Campaign vs target')\n",
        "plt.legend(labels=['Yes','No'])\n",
        "\n",
        "plt.subplot(1,2,2)\n",
        "sns.distplot(df[df['y']=='yes']['campaign'])\n",
        "sns.distplot(df[df['y']=='no']['campaign'])\n",
        "plt.title('Zoom to Peak')\n",
        "plt.xlim([0,20])\n",
        "plt.ylim([0.2,1.2])\n",
        "plt.legend(labels=['Yes','No'])\n",
        "\n",
        "plt.show()"
      ],
      "execution_count": null,
      "outputs": [
        {
          "output_type": "display_data",
          "data": {
            "image/png": "[encoded data removed]",
            "text/plain": [
              "<Figure size 1080x432 with 2 Axes>"
            ]
          },
          "metadata": {
            "tags": [],
            "needs_background": "light"
          }
        }
      ]
    },
    {
      "cell_type": "code",
      "metadata": {
        "id": "9LtziIqNuVoQ",
        "outputId": "0bb1aec8-9f1e-4f3b-f565-f32f8a48d131"
      },
      "source": [
        "## Month \n",
        "\n",
        "plt.figure(figsize=(10,5))\n",
        "sns.countplot(df['month'], order=['mar','apr','may','jun','jul','aug','sep','oct','nov','dec'], hue=df['y'])\n",
        "plt.show()"
      ],
      "execution_count": null,
      "outputs": [
        {
          "output_type": "display_data",
          "data": {
            "image/png": "[encoded data removed]",
            "text/plain": [
              "<Figure size 720x360 with 1 Axes>"
            ]
          },
          "metadata": {
            "tags": [],
            "needs_background": "light"
          }
        }
      ]
    },
    {
      "cell_type": "markdown",
      "metadata": {
        "id": "S51H6eXsuVoR"
      },
      "source": [
        "Most Employees have been contacted in May followed by July, August and then June. The percent of people agreeing to a Term deposit plan are also significantly large as compared in other months. "
      ]
    },
    {
      "cell_type": "markdown",
      "metadata": {
        "id": "FGFFE25DuVoS"
      },
      "source": [
        "## Feature Engineering"
      ]
    },
    {
      "cell_type": "markdown",
      "metadata": {
        "id": "EyhHILbPuVoS"
      },
      "source": [
        "### Feature Creation "
      ]
    },
    {
      "cell_type": "code",
      "metadata": {
        "id": "v6pzdPXguVoS"
      },
      "source": [
        "# Age Bin\n",
        "\n",
        "def feat_creat(df):\n",
        "    ## Age Binn\n",
        "    age_bin = []\n",
        "    for val in df['age']:\n",
        "        if (val <= 32):\n",
        "            age_bin.append(1)\n",
        "        elif (val>32 and val<=38):\n",
        "            age_bin.append(2)\n",
        "        elif (val>38 and val<=47):\n",
        "            age_bin.append(3)\n",
        "        else:\n",
        "            age_bin.append(4)\n",
        "    df['Age_Bin'] = age_bin"
      ],
      "execution_count": null,
      "outputs": []
    },
    {
      "cell_type": "code",
      "metadata": {
        "id": "wIZlmGCpuVoT"
      },
      "source": [
        "## Principal Component Analysis\n",
        "\n",
        "pca = PCA(n_components=1)\n",
        "\n",
        "pca.fit(df[numerical])\n",
        "l1 = pca.transform(df[numerical])\n",
        "df['PCA'] = l1\n",
        "\n",
        "feat_creat(df)"
      ],
      "execution_count": null,
      "outputs": []
    },
    {
      "cell_type": "markdown",
      "metadata": {
        "id": "UbHuKNRHuVoU"
      },
      "source": [
        "### Encoding "
      ]
    },
    {
      "cell_type": "code",
      "metadata": {
        "id": "r38Mdht9uVoU"
      },
      "source": [
        "## Housing, Loan : Dichotomus (yes, no)\n",
        "\n",
        "map_dichot = {'yes':1,'no':0}\n",
        "for feature in ['housing','loan','y']:\n",
        "    df[feature] = df[feature].map(map_dichot)\n",
        "\n",
        "## Contact : Dichotomus (Telephone, cellular)\n",
        "df['contact'] = df['contact'].map({'telephone':1,'cellular':0})\n"
      ],
      "execution_count": null,
      "outputs": []
    },
    {
      "cell_type": "code",
      "metadata": {
        "id": "l1hWvCMiuVoU"
      },
      "source": [
        "## df1 = label Encoding\n",
        "## df2 = one hot encoding\n",
        "\n",
        "df1 = df.copy()\n",
        "df2 = df.copy()"
      ],
      "execution_count": null,
      "outputs": []
    },
    {
      "cell_type": "code",
      "metadata": {
        "id": "RnLDtAQ0uVoV"
      },
      "source": [
        "## Label Encoding Polychotomus Features\n",
        "\n",
        "from sklearn.preprocessing import LabelEncoder\n",
        "le = LabelEncoder()"
      ],
      "execution_count": null,
      "outputs": []
    },
    {
      "cell_type": "code",
      "metadata": {
        "id": "vLwkKtNiuVoV"
      },
      "source": [
        "for feature in polychotomus:\n",
        "    df1[feature] = le.fit_transform(df1[feature])"
      ],
      "execution_count": null,
      "outputs": []
    },
    {
      "cell_type": "code",
      "metadata": {
        "id": "QqM4dFNFuVoW"
      },
      "source": [
        "## One Hot Encoding Categorical Features\n",
        "\n",
        "df2 = pd.get_dummies(df, columns=polychotomus, drop_first=True)"
      ],
      "execution_count": null,
      "outputs": []
    },
    {
      "cell_type": "markdown",
      "metadata": {
        "id": "Xv4lpc2_uVoX"
      },
      "source": [
        "### Upsampling using Smote "
      ]
    },
    {
      "cell_type": "code",
      "metadata": {
        "id": "G8WraGXouVoX"
      },
      "source": [
        "## Label Encoded variables\n",
        "\n",
        "x1 = df1.drop(['y'],axis=1)\n",
        "y1 = df1['y']"
      ],
      "execution_count": null,
      "outputs": []
    },
    {
      "cell_type": "code",
      "metadata": {
        "id": "fHN317eyuVoX"
      },
      "source": [
        "## One Hot Encoded Variables\n",
        "\n",
        "x2 = df2.drop(['y'],axis=1)\n",
        "y2 = df2['y']"
      ],
      "execution_count": null,
      "outputs": []
    },
    {
      "cell_type": "code",
      "metadata": {
        "id": "E5MVi3UPuVoY"
      },
      "source": [
        "from imblearn.over_sampling import SMOTE\n",
        "\n",
        "SMOTE_OBJ = SMOTE()\n",
        "xu,yu = SMOTE_OBJ.fit_sample(x2,y2)### Imp note hereee "
      ],
      "execution_count": null,
      "outputs": []
    },
    {
      "cell_type": "markdown",
      "metadata": {
        "id": "kSxLGrWLuVoY"
      },
      "source": [
        "## Modelling "
      ]
    },
    {
      "cell_type": "code",
      "metadata": {
        "id": "C1NNxGfhuVoZ"
      },
      "source": [
        "from sklearn.ensemble import RandomForestClassifier\n",
        "from catboost import CatBoostClassifier\n",
        "from xgboost.sklearn import XGBClassifier\n",
        "from sklearn.neighbors import KNeighborsClassifier \n",
        "from lightgbm import LGBMClassifier\n",
        "from sklearn.linear_model import LogisticRegression\n",
        "from sklearn.tree import DecisionTreeClassifier\n",
        "from sklearn.ensemble import VotingClassifier\n",
        "\n",
        "\n",
        "from sklearn.model_selection import RandomizedSearchCV\n",
        "from sklearn.model_selection import train_test_split\n",
        "import pickle\n",
        "from sklearn.metrics import classification_report"
      ],
      "execution_count": null,
      "outputs": []
    },
    {
      "cell_type": "code",
      "metadata": {
        "id": "rXEbzTbduVoZ"
      },
      "source": [
        "### UP SAMPLING TRAIN TEST SPLIT\n",
        "\n",
        "x_train,x_test,y_train,y_test = train_test_split(xu,yu,test_size=0.2,random_state=42)"
      ],
      "execution_count": null,
      "outputs": []
    },
    {
      "cell_type": "markdown",
      "metadata": {
        "id": "HOMKH4QfuVob"
      },
      "source": [
        "### Random Forest  and XGBoost Hyperparameter tuning "
      ]
    },
    {
      "cell_type": "markdown",
      "metadata": {
        "id": "edSmkdGiuVob"
      },
      "source": [
        "#### XGBoost "
      ]
    },
    {
      "cell_type": "code",
      "metadata": {
        "id": "Plcm6o6muVoc"
      },
      "source": [
        "## XGB\n",
        "\n",
        "xgb = XGBClassifier()\n",
        "\n",
        "param_grid = dict(learning_rate = [0.05, 0.1, 0.15, 0.2, 0.25, 0.3],\n",
        "                  boosting_type=['gbdt','dart','goss','rf'],\n",
        "                 n_estimators=[100, 200, 350, 400])\n",
        "xgb_ran = RandomizedSearchCV(xgb, param_grid, cv=5, n_jobs=-1)"
      ],
      "execution_count": null,
      "outputs": []
    },
    {
      "cell_type": "code",
      "metadata": {
        "scrolled": true,
        "id": "3UsBgIo7uVod",
        "outputId": "60d477eb-c028-44d9-953c-24d627cde561"
      },
      "source": [
        "xgb_ran.fit(x_train, y_train)"
      ],
      "execution_count": null,
      "outputs": [
        {
          "output_type": "stream",
          "text": [
            "[18:54:02] WARNING: C:\\Users\\Administrator\\workspace\\xgboost-win64_release_1.2.0\\src\\learner.cc:516: \n",
            "Parameters: { boosting_type } might not be used.\n",
            "\n",
            "  This may not be accurate due to some parameters are only used in language bindings but\n",
            "  passed down to XGBoost core.  Or some parameters are not used but slip through this\n",
            "  verification. Please open an issue if you find above cases.\n",
            "\n",
            "\n"
          ],
          "name": "stdout"
        },
        {
          "output_type": "execute_result",
          "data": {
            "text/plain": [
              "RandomizedSearchCV(cv=5,\n",
              "                   estimator=XGBClassifier(base_score=None, booster=None,\n",
              "                                           colsample_bylevel=None,\n",
              "                                           colsample_bynode=None,\n",
              "                                           colsample_bytree=None, gamma=None,\n",
              "                                           gpu_id=None, importance_type='gain',\n",
              "                                           interaction_constraints=None,\n",
              "                                           learning_rate=None,\n",
              "                                           max_delta_step=None, max_depth=None,\n",
              "                                           min_child_weight=None, missing=nan,\n",
              "                                           monotone_constraints=None,\n",
              "                                           n_estimators=100, n_jobs=None,\n",
              "                                           num_parallel_tree=None,\n",
              "                                           random_state=None, reg_alpha=None,\n",
              "                                           reg_lambda=None,\n",
              "                                           scale_pos_weight=None,\n",
              "                                           subsample=None, tree_method=None,\n",
              "                                           validate_parameters=None,\n",
              "                                           verbosity=None),\n",
              "                   n_jobs=-1,\n",
              "                   param_distributions={'boosting_type': ['gbdt', 'dart',\n",
              "                                                          'goss', 'rf'],\n",
              "                                        'learning_rate': [0.05, 0.1, 0.15, 0.2,\n",
              "                                                          0.25, 0.3],\n",
              "                                        'n_estimators': [100, 200, 350, 400]})"
            ]
          },
          "metadata": {
            "tags": []
          },
          "execution_count": 91
        }
      ]
    },
    {
      "cell_type": "code",
      "metadata": {
        "id": "eqDLC1SNuVoe",
        "outputId": "2a3bcf4f-e272-4477-cc54-a2d1737906ff"
      },
      "source": [
        "xgb_ran.score(x_test, y_test)"
      ],
      "execution_count": null,
      "outputs": [
        {
          "output_type": "execute_result",
          "data": {
            "text/plain": [
              "0.9460779708783467"
            ]
          },
          "metadata": {
            "tags": []
          },
          "execution_count": 36
        }
      ]
    },
    {
      "cell_type": "code",
      "metadata": {
        "id": "W8vZPJvquVoe",
        "outputId": "6d139a08-327b-48f0-b6fe-9e9ec7f1398a"
      },
      "source": [
        "print(xgb_ran.best_params_)"
      ],
      "execution_count": null,
      "outputs": [
        {
          "output_type": "stream",
          "text": [
            "{'n_estimators': 400, 'learning_rate': 0.15, 'boosting_type': 'gbdt'}\n"
          ],
          "name": "stdout"
        }
      ]
    },
    {
      "cell_type": "code",
      "metadata": {
        "id": "MAn4u-w_uVog"
      },
      "source": [
        "pickle.dump(xgb_ran, open(\"E:/MSC BDA SEM 3/Bank Marketing Task/xgb_ran_hyp.pkl\",'wb'))"
      ],
      "execution_count": null,
      "outputs": []
    },
    {
      "cell_type": "code",
      "metadata": {
        "id": "jKXctJCQuVoh"
      },
      "source": [
        "xgb_ran = pickle.load(open(\"E:/MSC BDA SEM 3/Bank Marketing Task/xgb_ran_hyp.pkl\",'rb'))"
      ],
      "execution_count": null,
      "outputs": []
    },
    {
      "cell_type": "code",
      "metadata": {
        "id": "AhsW8a88uVoh"
      },
      "source": [
        "pred_xgb = xgb_ran.predict(x_test)"
      ],
      "execution_count": null,
      "outputs": []
    },
    {
      "cell_type": "code",
      "metadata": {
        "id": "e_bFlCQnuVoh",
        "outputId": "1d309e15-e7f1-4c3a-fc0f-12b711c0f679"
      },
      "source": [
        "print(classification_report(y_test, pred_xgb))"
      ],
      "execution_count": null,
      "outputs": [
        {
          "output_type": "stream",
          "text": [
            "              precision    recall  f1-score   support\n",
            "\n",
            "           0       0.94      0.95      0.95      5278\n",
            "           1       0.95      0.94      0.95      5367\n",
            "\n",
            "    accuracy                           0.95     10645\n",
            "   macro avg       0.95      0.95      0.95     10645\n",
            "weighted avg       0.95      0.95      0.95     10645\n",
            "\n"
          ],
          "name": "stdout"
        }
      ]
    },
    {
      "cell_type": "markdown",
      "metadata": {
        "id": "iphEfZZuuVoj"
      },
      "source": [
        "#### Random Forest "
      ]
    },
    {
      "cell_type": "code",
      "metadata": {
        "id": "VYUZTQRQuVoj"
      },
      "source": [
        "## RFC\n",
        "\n",
        "random_grid = {'n_estimators': [100,200,400,300],\n",
        "               'max_features': ['auto','sqrt'],\n",
        "               'max_depth': [1, 3, 5],\n",
        "               'min_samples_split': [5,10,15]}\n",
        "\n",
        "rfc_ran = RandomizedSearchCV(estimator = RandomForestClassifier(), param_distributions = random_grid, \n",
        "                               n_iter = 7, cv = 5, random_state=42, n_jobs = -1)"
      ],
      "execution_count": null,
      "outputs": []
    },
    {
      "cell_type": "code",
      "metadata": {
        "id": "E4xhegkOuVoj",
        "outputId": "c08e6417-a70e-41b9-998c-502d8a9fcb8e"
      },
      "source": [
        "rfc_ran.fit(x_train, y_train)"
      ],
      "execution_count": null,
      "outputs": [
        {
          "output_type": "execute_result",
          "data": {
            "text/plain": [
              "RandomizedSearchCV(cv=5, estimator=RandomForestClassifier(), n_iter=7,\n",
              "                   n_jobs=-1,\n",
              "                   param_distributions={'max_depth': [1, 3, 5],\n",
              "                                        'max_features': ['auto', 'sqrt'],\n",
              "                                        'min_samples_split': [5, 10, 15],\n",
              "                                        'n_estimators': [100, 200, 400, 300]},\n",
              "                   random_state=42)"
            ]
          },
          "metadata": {
            "tags": []
          },
          "execution_count": 41
        }
      ]
    },
    {
      "cell_type": "code",
      "metadata": {
        "id": "T_Ep6Fu6uVok",
        "outputId": "aac1eaf7-7b8e-4cd2-b8a6-117cc84b3972"
      },
      "source": [
        "print(rfc_ran.best_params_)"
      ],
      "execution_count": null,
      "outputs": [
        {
          "output_type": "stream",
          "text": [
            "{'n_estimators': 400, 'min_samples_split': 5, 'max_features': 'sqrt', 'max_depth': 5}\n"
          ],
          "name": "stdout"
        }
      ]
    },
    {
      "cell_type": "code",
      "metadata": {
        "id": "ewkZkPfMuVok"
      },
      "source": [
        "pickle.dump(rfc_ran, open(\"E:/MSC BDA SEM 3/Bank Marketing Task/rfc_ran_hyp.pkl\",'wb'))"
      ],
      "execution_count": null,
      "outputs": []
    },
    {
      "cell_type": "code",
      "metadata": {
        "id": "dJ_I_Hq6uVol"
      },
      "source": [
        "rfc_ran = pickle.load(open(\"E:/MSC BDA SEM 3/Bank Marketing Task/rfc_ran_hyp.pkl\",\"rb\"))"
      ],
      "execution_count": null,
      "outputs": []
    },
    {
      "cell_type": "code",
      "metadata": {
        "id": "a6Hn5up5uVol",
        "outputId": "7dc009df-2b9d-4b8f-d108-964a2066bba3"
      },
      "source": [
        "rfc_ran.score(x_test, y_test)"
      ],
      "execution_count": null,
      "outputs": [
        {
          "output_type": "execute_result",
          "data": {
            "text/plain": [
              "0.8956317519962423"
            ]
          },
          "metadata": {
            "tags": []
          },
          "execution_count": 47
        }
      ]
    },
    {
      "cell_type": "code",
      "metadata": {
        "id": "9IBr8b-AuVom",
        "outputId": "9398d3dc-bcbf-4930-bfd6-6c0456c1f24b"
      },
      "source": [
        "pred_rfc = rfc_ran.predict(x_test)\n",
        "print(classification_report(y_test, pred_rfc))"
      ],
      "execution_count": null,
      "outputs": [
        {
          "output_type": "stream",
          "text": [
            "              precision    recall  f1-score   support\n",
            "\n",
            "           0       0.94      0.85      0.89      5278\n",
            "           1       0.86      0.94      0.90      5367\n",
            "\n",
            "    accuracy                           0.90     10645\n",
            "   macro avg       0.90      0.90      0.90     10645\n",
            "weighted avg       0.90      0.90      0.90     10645\n",
            "\n"
          ],
          "name": "stdout"
        }
      ]
    },
    {
      "cell_type": "markdown",
      "metadata": {
        "id": "Av8IdX7yuVom"
      },
      "source": [
        "### Upsampling and One Hot Encoding"
      ]
    },
    {
      "cell_type": "markdown",
      "metadata": {
        "id": "iHtNZ6tLuVon"
      },
      "source": [
        "#### Catboost  "
      ]
    },
    {
      "cell_type": "code",
      "metadata": {
        "id": "ZVxKFwpkuVon",
        "outputId": "c0b6c359-7226-4170-842c-e457770435f4"
      },
      "source": [
        "## cat boost upsampling\n",
        "\n",
        "cat = CatBoostClassifier()\n",
        "cat.fit(x_train,y_train)"
      ],
      "execution_count": null,
      "outputs": [
        {
          "output_type": "stream",
          "text": [
            "Learning rate set to 0.05112\n",
            "0:\tlearn: 0.6385107\ttotal: 258ms\tremaining: 4m 17s\n",
            "1:\tlearn: 0.5930022\ttotal: 283ms\tremaining: 2m 21s\n",
            "2:\tlearn: 0.5534247\ttotal: 304ms\tremaining: 1m 41s\n",
            "3:\tlearn: 0.5188584\ttotal: 325ms\tremaining: 1m 20s\n",
            "4:\tlearn: 0.4928691\ttotal: 346ms\tremaining: 1m 8s\n",
            "5:\tlearn: 0.4674434\ttotal: 368ms\tremaining: 1m\n",
            "6:\tlearn: 0.4452523\ttotal: 390ms\tremaining: 55.3s\n",
            "7:\tlearn: 0.4271523\ttotal: 413ms\tremaining: 51.2s\n",
            "8:\tlearn: 0.4097073\ttotal: 436ms\tremaining: 48s\n",
            "9:\tlearn: 0.3886918\ttotal: 468ms\tremaining: 46.3s\n",
            "10:\tlearn: 0.3730056\ttotal: 494ms\tremaining: 44.4s\n",
            "11:\tlearn: 0.3616646\ttotal: 518ms\tremaining: 42.6s\n",
            "12:\tlearn: 0.3527856\ttotal: 540ms\tremaining: 41s\n",
            "13:\tlearn: 0.3408701\ttotal: 561ms\tremaining: 39.5s\n",
            "14:\tlearn: 0.3331890\ttotal: 584ms\tremaining: 38.4s\n",
            "15:\tlearn: 0.3220784\ttotal: 617ms\tremaining: 37.9s\n",
            "16:\tlearn: 0.3158197\ttotal: 643ms\tremaining: 37.2s\n",
            "17:\tlearn: 0.3096502\ttotal: 665ms\tremaining: 36.3s\n",
            "18:\tlearn: 0.3029590\ttotal: 696ms\tremaining: 36s\n",
            "19:\tlearn: 0.2982549\ttotal: 722ms\tremaining: 35.4s\n",
            "20:\tlearn: 0.2907588\ttotal: 743ms\tremaining: 34.6s\n",
            "21:\tlearn: 0.2859214\ttotal: 765ms\tremaining: 34s\n",
            "22:\tlearn: 0.2810748\ttotal: 786ms\tremaining: 33.4s\n",
            "23:\tlearn: 0.2748438\ttotal: 809ms\tremaining: 32.9s\n",
            "24:\tlearn: 0.2712725\ttotal: 829ms\tremaining: 32.3s\n",
            "25:\tlearn: 0.2664650\ttotal: 850ms\tremaining: 31.9s\n",
            "26:\tlearn: 0.2622874\ttotal: 886ms\tremaining: 31.9s\n",
            "27:\tlearn: 0.2566532\ttotal: 908ms\tremaining: 31.5s\n",
            "28:\tlearn: 0.2531359\ttotal: 926ms\tremaining: 31s\n",
            "29:\tlearn: 0.2479642\ttotal: 946ms\tremaining: 30.6s\n",
            "30:\tlearn: 0.2446329\ttotal: 968ms\tremaining: 30.2s\n",
            "31:\tlearn: 0.2417482\ttotal: 989ms\tremaining: 29.9s\n",
            "32:\tlearn: 0.2396736\ttotal: 1.01s\tremaining: 29.6s\n",
            "33:\tlearn: 0.2359697\ttotal: 1.03s\tremaining: 29.3s\n",
            "34:\tlearn: 0.2337286\ttotal: 1.06s\tremaining: 29.3s\n",
            "35:\tlearn: 0.2313893\ttotal: 1.09s\tremaining: 29.1s\n",
            "36:\tlearn: 0.2291187\ttotal: 1.11s\tremaining: 28.8s\n",
            "37:\tlearn: 0.2267227\ttotal: 1.13s\tremaining: 28.6s\n",
            "38:\tlearn: 0.2238569\ttotal: 1.15s\tremaining: 28.3s\n",
            "39:\tlearn: 0.2219137\ttotal: 1.17s\tremaining: 28.1s\n",
            "40:\tlearn: 0.2190430\ttotal: 1.19s\tremaining: 27.9s\n",
            "41:\tlearn: 0.2172497\ttotal: 1.21s\tremaining: 27.6s\n",
            "42:\tlearn: 0.2089934\ttotal: 1.23s\tremaining: 27.4s\n",
            "43:\tlearn: 0.2076774\ttotal: 1.26s\tremaining: 27.5s\n",
            "44:\tlearn: 0.2052579\ttotal: 1.28s\tremaining: 27.3s\n",
            "45:\tlearn: 0.2039904\ttotal: 1.31s\tremaining: 27.1s\n",
            "46:\tlearn: 0.2029300\ttotal: 1.33s\tremaining: 26.9s\n",
            "47:\tlearn: 0.1999669\ttotal: 1.35s\tremaining: 26.8s\n",
            "48:\tlearn: 0.1948788\ttotal: 1.37s\tremaining: 26.6s\n",
            "49:\tlearn: 0.1932873\ttotal: 1.39s\tremaining: 26.4s\n",
            "50:\tlearn: 0.1918833\ttotal: 1.41s\tremaining: 26.3s\n",
            "51:\tlearn: 0.1899795\ttotal: 1.44s\tremaining: 26.3s\n",
            "52:\tlearn: 0.1887495\ttotal: 1.47s\tremaining: 26.2s\n",
            "53:\tlearn: 0.1861676\ttotal: 1.49s\tremaining: 26.1s\n",
            "54:\tlearn: 0.1849456\ttotal: 1.51s\tremaining: 26s\n",
            "55:\tlearn: 0.1841387\ttotal: 1.53s\tremaining: 25.8s\n",
            "56:\tlearn: 0.1829104\ttotal: 1.55s\tremaining: 25.7s\n",
            "57:\tlearn: 0.1805424\ttotal: 1.57s\tremaining: 25.6s\n",
            "58:\tlearn: 0.1794948\ttotal: 1.6s\tremaining: 25.5s\n",
            "59:\tlearn: 0.1788505\ttotal: 1.63s\tremaining: 25.5s\n",
            "60:\tlearn: 0.1779138\ttotal: 1.65s\tremaining: 25.4s\n",
            "61:\tlearn: 0.1772431\ttotal: 1.67s\tremaining: 25.3s\n",
            "62:\tlearn: 0.1763865\ttotal: 1.7s\tremaining: 25.2s\n",
            "63:\tlearn: 0.1757770\ttotal: 1.72s\tremaining: 25.1s\n",
            "64:\tlearn: 0.1752642\ttotal: 1.74s\tremaining: 25s\n",
            "65:\tlearn: 0.1746895\ttotal: 1.76s\tremaining: 24.9s\n",
            "66:\tlearn: 0.1742657\ttotal: 1.78s\tremaining: 24.8s\n",
            "67:\tlearn: 0.1738323\ttotal: 1.81s\tremaining: 24.9s\n",
            "68:\tlearn: 0.1732969\ttotal: 1.84s\tremaining: 24.9s\n",
            "69:\tlearn: 0.1716814\ttotal: 1.87s\tremaining: 24.8s\n",
            "70:\tlearn: 0.1712257\ttotal: 1.89s\tremaining: 24.8s\n",
            "71:\tlearn: 0.1705332\ttotal: 1.91s\tremaining: 24.7s\n",
            "72:\tlearn: 0.1698362\ttotal: 1.94s\tremaining: 24.6s\n",
            "73:\tlearn: 0.1693131\ttotal: 1.96s\tremaining: 24.5s\n",
            "74:\tlearn: 0.1689527\ttotal: 1.98s\tremaining: 24.5s\n",
            "75:\tlearn: 0.1665857\ttotal: 2.02s\tremaining: 24.5s\n",
            "76:\tlearn: 0.1659998\ttotal: 2.04s\tremaining: 24.5s\n",
            "77:\tlearn: 0.1652756\ttotal: 2.06s\tremaining: 24.4s\n",
            "78:\tlearn: 0.1649482\ttotal: 2.08s\tremaining: 24.3s\n",
            "79:\tlearn: 0.1644448\ttotal: 2.1s\tremaining: 24.2s\n",
            "80:\tlearn: 0.1641388\ttotal: 2.13s\tremaining: 24.1s\n",
            "81:\tlearn: 0.1634272\ttotal: 2.15s\tremaining: 24.1s\n",
            "82:\tlearn: 0.1630168\ttotal: 2.17s\tremaining: 24s\n",
            "83:\tlearn: 0.1623773\ttotal: 2.2s\tremaining: 24s\n",
            "84:\tlearn: 0.1616827\ttotal: 2.23s\tremaining: 24s\n",
            "85:\tlearn: 0.1607294\ttotal: 2.25s\tremaining: 23.9s\n",
            "86:\tlearn: 0.1601726\ttotal: 2.27s\tremaining: 23.8s\n",
            "87:\tlearn: 0.1598802\ttotal: 2.29s\tremaining: 23.7s\n",
            "88:\tlearn: 0.1596188\ttotal: 2.31s\tremaining: 23.7s\n",
            "89:\tlearn: 0.1591896\ttotal: 2.33s\tremaining: 23.6s\n",
            "90:\tlearn: 0.1589130\ttotal: 2.36s\tremaining: 23.5s\n",
            "91:\tlearn: 0.1585785\ttotal: 2.39s\tremaining: 23.6s\n",
            "92:\tlearn: 0.1583388\ttotal: 2.41s\tremaining: 23.5s\n",
            "93:\tlearn: 0.1580586\ttotal: 2.44s\tremaining: 23.5s\n",
            "94:\tlearn: 0.1577417\ttotal: 2.46s\tremaining: 23.4s\n",
            "95:\tlearn: 0.1574902\ttotal: 2.48s\tremaining: 23.3s\n",
            "96:\tlearn: 0.1568607\ttotal: 2.5s\tremaining: 23.3s\n",
            "97:\tlearn: 0.1566300\ttotal: 2.52s\tremaining: 23.2s\n",
            "98:\tlearn: 0.1563929\ttotal: 2.54s\tremaining: 23.1s\n",
            "99:\tlearn: 0.1561346\ttotal: 2.57s\tremaining: 23.1s\n",
            "100:\tlearn: 0.1558980\ttotal: 2.59s\tremaining: 23.1s\n",
            "101:\tlearn: 0.1556113\ttotal: 2.62s\tremaining: 23s\n",
            "102:\tlearn: 0.1552420\ttotal: 2.64s\tremaining: 23s\n",
            "103:\tlearn: 0.1548995\ttotal: 2.65s\tremaining: 22.9s\n",
            "104:\tlearn: 0.1546022\ttotal: 2.68s\tremaining: 22.8s\n",
            "105:\tlearn: 0.1543427\ttotal: 2.7s\tremaining: 22.8s\n",
            "106:\tlearn: 0.1541797\ttotal: 2.72s\tremaining: 22.7s\n",
            "107:\tlearn: 0.1538940\ttotal: 2.75s\tremaining: 22.7s\n",
            "108:\tlearn: 0.1536228\ttotal: 2.78s\tremaining: 22.7s\n",
            "109:\tlearn: 0.1531753\ttotal: 2.8s\tremaining: 22.6s\n",
            "110:\tlearn: 0.1513794\ttotal: 2.82s\tremaining: 22.6s\n",
            "111:\tlearn: 0.1508142\ttotal: 2.84s\tremaining: 22.5s\n",
            "112:\tlearn: 0.1506436\ttotal: 2.86s\tremaining: 22.5s\n",
            "113:\tlearn: 0.1504314\ttotal: 2.88s\tremaining: 22.4s\n",
            "114:\tlearn: 0.1502128\ttotal: 2.9s\tremaining: 22.4s\n",
            "115:\tlearn: 0.1499724\ttotal: 2.93s\tremaining: 22.3s\n",
            "116:\tlearn: 0.1498102\ttotal: 2.96s\tremaining: 22.3s\n",
            "117:\tlearn: 0.1493360\ttotal: 2.98s\tremaining: 22.3s\n",
            "118:\tlearn: 0.1491051\ttotal: 3.01s\tremaining: 22.3s\n",
            "119:\tlearn: 0.1488681\ttotal: 3.03s\tremaining: 22.2s\n",
            "120:\tlearn: 0.1484730\ttotal: 3.05s\tremaining: 22.2s\n",
            "121:\tlearn: 0.1478985\ttotal: 3.08s\tremaining: 22.1s\n",
            "122:\tlearn: 0.1477271\ttotal: 3.1s\tremaining: 22.1s\n",
            "123:\tlearn: 0.1475427\ttotal: 3.12s\tremaining: 22s\n",
            "124:\tlearn: 0.1472608\ttotal: 3.14s\tremaining: 22s\n",
            "125:\tlearn: 0.1471136\ttotal: 3.16s\tremaining: 22s\n",
            "126:\tlearn: 0.1467038\ttotal: 3.19s\tremaining: 21.9s\n",
            "127:\tlearn: 0.1465073\ttotal: 3.21s\tremaining: 21.9s\n",
            "128:\tlearn: 0.1463590\ttotal: 3.24s\tremaining: 21.9s\n",
            "129:\tlearn: 0.1459467\ttotal: 3.26s\tremaining: 21.8s\n",
            "130:\tlearn: 0.1458108\ttotal: 3.29s\tremaining: 21.8s\n",
            "131:\tlearn: 0.1450032\ttotal: 3.31s\tremaining: 21.8s\n",
            "132:\tlearn: 0.1442730\ttotal: 3.34s\tremaining: 21.8s\n",
            "133:\tlearn: 0.1441342\ttotal: 3.36s\tremaining: 21.7s\n",
            "134:\tlearn: 0.1439820\ttotal: 3.38s\tremaining: 21.7s\n",
            "135:\tlearn: 0.1438117\ttotal: 3.4s\tremaining: 21.6s\n",
            "136:\tlearn: 0.1435423\ttotal: 3.43s\tremaining: 21.6s\n",
            "137:\tlearn: 0.1432322\ttotal: 3.45s\tremaining: 21.5s\n",
            "138:\tlearn: 0.1430080\ttotal: 3.47s\tremaining: 21.5s\n",
            "139:\tlearn: 0.1428370\ttotal: 3.49s\tremaining: 21.4s\n",
            "140:\tlearn: 0.1426720\ttotal: 3.52s\tremaining: 21.5s\n",
            "141:\tlearn: 0.1424656\ttotal: 3.54s\tremaining: 21.4s\n",
            "142:\tlearn: 0.1423022\ttotal: 3.57s\tremaining: 21.4s\n",
            "143:\tlearn: 0.1421778\ttotal: 3.59s\tremaining: 21.3s\n",
            "144:\tlearn: 0.1419027\ttotal: 3.61s\tremaining: 21.3s\n",
            "145:\tlearn: 0.1415424\ttotal: 3.63s\tremaining: 21.2s\n",
            "146:\tlearn: 0.1412834\ttotal: 3.65s\tremaining: 21.2s\n",
            "147:\tlearn: 0.1411571\ttotal: 3.67s\tremaining: 21.2s\n",
            "148:\tlearn: 0.1409879\ttotal: 3.7s\tremaining: 21.1s\n",
            "149:\tlearn: 0.1408262\ttotal: 3.72s\tremaining: 21.1s\n",
            "150:\tlearn: 0.1406442\ttotal: 3.75s\tremaining: 21.1s\n",
            "151:\tlearn: 0.1405138\ttotal: 3.77s\tremaining: 21s\n",
            "152:\tlearn: 0.1403646\ttotal: 3.79s\tremaining: 21s\n",
            "153:\tlearn: 0.1401993\ttotal: 3.81s\tremaining: 20.9s\n",
            "154:\tlearn: 0.1400799\ttotal: 3.83s\tremaining: 20.9s\n",
            "155:\tlearn: 0.1399457\ttotal: 3.85s\tremaining: 20.8s\n",
            "156:\tlearn: 0.1398149\ttotal: 3.88s\tremaining: 20.8s\n",
            "157:\tlearn: 0.1396745\ttotal: 3.9s\tremaining: 20.8s\n",
            "158:\tlearn: 0.1394714\ttotal: 3.93s\tremaining: 20.8s\n",
            "159:\tlearn: 0.1393291\ttotal: 3.95s\tremaining: 20.7s\n",
            "160:\tlearn: 0.1391638\ttotal: 3.97s\tremaining: 20.7s\n",
            "161:\tlearn: 0.1389990\ttotal: 3.99s\tremaining: 20.7s\n",
            "162:\tlearn: 0.1389080\ttotal: 4.01s\tremaining: 20.6s\n",
            "163:\tlearn: 0.1385075\ttotal: 4.03s\tremaining: 20.6s\n",
            "164:\tlearn: 0.1383918\ttotal: 4.05s\tremaining: 20.5s\n",
            "165:\tlearn: 0.1383295\ttotal: 4.08s\tremaining: 20.5s\n",
            "166:\tlearn: 0.1382136\ttotal: 4.1s\tremaining: 20.5s\n",
            "167:\tlearn: 0.1372927\ttotal: 4.13s\tremaining: 20.5s\n",
            "168:\tlearn: 0.1370568\ttotal: 4.16s\tremaining: 20.5s\n",
            "169:\tlearn: 0.1369593\ttotal: 4.18s\tremaining: 20.4s\n",
            "170:\tlearn: 0.1366949\ttotal: 4.21s\tremaining: 20.4s\n",
            "171:\tlearn: 0.1366056\ttotal: 4.23s\tremaining: 20.3s\n",
            "172:\tlearn: 0.1364968\ttotal: 4.25s\tremaining: 20.3s\n",
            "173:\tlearn: 0.1359561\ttotal: 4.27s\tremaining: 20.3s\n",
            "174:\tlearn: 0.1358618\ttotal: 4.3s\tremaining: 20.3s\n",
            "175:\tlearn: 0.1357338\ttotal: 4.32s\tremaining: 20.2s\n",
            "176:\tlearn: 0.1355003\ttotal: 4.34s\tremaining: 20.2s\n",
            "177:\tlearn: 0.1353681\ttotal: 4.36s\tremaining: 20.1s\n",
            "178:\tlearn: 0.1352440\ttotal: 4.38s\tremaining: 20.1s\n",
            "179:\tlearn: 0.1350762\ttotal: 4.4s\tremaining: 20.1s\n",
            "180:\tlearn: 0.1347351\ttotal: 4.42s\tremaining: 20s\n",
            "181:\tlearn: 0.1345851\ttotal: 4.45s\tremaining: 20s\n",
            "182:\tlearn: 0.1345121\ttotal: 4.47s\tremaining: 20s\n",
            "183:\tlearn: 0.1343881\ttotal: 4.5s\tremaining: 19.9s\n",
            "184:\tlearn: 0.1342688\ttotal: 4.52s\tremaining: 19.9s\n",
            "185:\tlearn: 0.1341726\ttotal: 4.54s\tremaining: 19.9s\n",
            "186:\tlearn: 0.1340738\ttotal: 4.56s\tremaining: 19.8s\n",
            "187:\tlearn: 0.1339582\ttotal: 4.58s\tremaining: 19.8s\n",
            "188:\tlearn: 0.1338375\ttotal: 4.6s\tremaining: 19.7s\n",
            "189:\tlearn: 0.1333812\ttotal: 4.62s\tremaining: 19.7s\n",
            "190:\tlearn: 0.1331980\ttotal: 4.65s\tremaining: 19.7s\n",
            "191:\tlearn: 0.1330541\ttotal: 4.67s\tremaining: 19.7s\n",
            "192:\tlearn: 0.1329673\ttotal: 4.69s\tremaining: 19.6s\n",
            "193:\tlearn: 0.1328776\ttotal: 4.71s\tremaining: 19.6s\n",
            "194:\tlearn: 0.1327876\ttotal: 4.74s\tremaining: 19.5s\n",
            "195:\tlearn: 0.1326793\ttotal: 4.76s\tremaining: 19.5s\n",
            "196:\tlearn: 0.1325319\ttotal: 4.78s\tremaining: 19.5s\n",
            "197:\tlearn: 0.1323902\ttotal: 4.8s\tremaining: 19.4s\n",
            "198:\tlearn: 0.1322384\ttotal: 4.82s\tremaining: 19.4s\n",
            "199:\tlearn: 0.1320843\ttotal: 4.85s\tremaining: 19.4s\n",
            "200:\tlearn: 0.1319313\ttotal: 4.87s\tremaining: 19.4s\n",
            "201:\tlearn: 0.1317800\ttotal: 4.89s\tremaining: 19.3s\n",
            "202:\tlearn: 0.1315438\ttotal: 4.91s\tremaining: 19.3s\n",
            "203:\tlearn: 0.1314630\ttotal: 4.93s\tremaining: 19.3s\n",
            "204:\tlearn: 0.1311242\ttotal: 4.96s\tremaining: 19.2s\n",
            "205:\tlearn: 0.1309197\ttotal: 4.98s\tremaining: 19.2s\n",
            "206:\tlearn: 0.1307781\ttotal: 5s\tremaining: 19.1s\n",
            "207:\tlearn: 0.1306947\ttotal: 5.02s\tremaining: 19.1s\n",
            "208:\tlearn: 0.1305095\ttotal: 5.04s\tremaining: 19.1s\n",
            "209:\tlearn: 0.1304350\ttotal: 5.07s\tremaining: 19.1s\n",
            "210:\tlearn: 0.1303049\ttotal: 5.09s\tremaining: 19s\n",
            "211:\tlearn: 0.1302102\ttotal: 5.11s\tremaining: 19s\n",
            "212:\tlearn: 0.1301165\ttotal: 5.13s\tremaining: 19s\n",
            "213:\tlearn: 0.1300157\ttotal: 5.15s\tremaining: 18.9s\n",
            "214:\tlearn: 0.1299090\ttotal: 5.17s\tremaining: 18.9s\n",
            "215:\tlearn: 0.1294824\ttotal: 5.19s\tremaining: 18.8s\n",
            "216:\tlearn: 0.1293686\ttotal: 5.21s\tremaining: 18.8s\n",
            "217:\tlearn: 0.1292451\ttotal: 5.24s\tremaining: 18.8s\n",
            "218:\tlearn: 0.1291645\ttotal: 5.26s\tremaining: 18.8s\n",
            "219:\tlearn: 0.1290815\ttotal: 5.28s\tremaining: 18.7s\n",
            "220:\tlearn: 0.1288799\ttotal: 5.3s\tremaining: 18.7s\n",
            "221:\tlearn: 0.1287654\ttotal: 5.33s\tremaining: 18.7s\n",
            "222:\tlearn: 0.1286573\ttotal: 5.35s\tremaining: 18.6s\n",
            "223:\tlearn: 0.1285667\ttotal: 5.37s\tremaining: 18.6s\n",
            "224:\tlearn: 0.1284783\ttotal: 5.39s\tremaining: 18.6s\n",
            "225:\tlearn: 0.1283693\ttotal: 5.42s\tremaining: 18.5s\n",
            "226:\tlearn: 0.1282885\ttotal: 5.44s\tremaining: 18.5s\n",
            "227:\tlearn: 0.1281068\ttotal: 5.46s\tremaining: 18.5s\n",
            "228:\tlearn: 0.1280062\ttotal: 5.48s\tremaining: 18.5s\n",
            "229:\tlearn: 0.1279138\ttotal: 5.5s\tremaining: 18.4s\n",
            "230:\tlearn: 0.1278415\ttotal: 5.52s\tremaining: 18.4s\n",
            "231:\tlearn: 0.1277666\ttotal: 5.54s\tremaining: 18.3s\n",
            "232:\tlearn: 0.1276482\ttotal: 5.56s\tremaining: 18.3s\n",
            "233:\tlearn: 0.1275287\ttotal: 5.58s\tremaining: 18.3s\n",
            "234:\tlearn: 0.1273738\ttotal: 5.61s\tremaining: 18.3s\n",
            "235:\tlearn: 0.1272956\ttotal: 5.63s\tremaining: 18.2s\n",
            "236:\tlearn: 0.1272052\ttotal: 5.65s\tremaining: 18.2s\n",
            "237:\tlearn: 0.1271229\ttotal: 5.68s\tremaining: 18.2s\n",
            "238:\tlearn: 0.1269550\ttotal: 5.7s\tremaining: 18.1s\n",
            "239:\tlearn: 0.1267214\ttotal: 5.72s\tremaining: 18.1s\n",
            "240:\tlearn: 0.1265316\ttotal: 5.74s\tremaining: 18.1s\n",
            "241:\tlearn: 0.1264443\ttotal: 5.77s\tremaining: 18.1s\n",
            "242:\tlearn: 0.1263598\ttotal: 5.79s\tremaining: 18.1s\n",
            "243:\tlearn: 0.1262505\ttotal: 5.82s\tremaining: 18s\n",
            "244:\tlearn: 0.1260301\ttotal: 5.84s\tremaining: 18s\n",
            "245:\tlearn: 0.1259433\ttotal: 5.87s\tremaining: 18s\n",
            "246:\tlearn: 0.1258799\ttotal: 5.89s\tremaining: 18s\n",
            "247:\tlearn: 0.1257831\ttotal: 5.91s\tremaining: 17.9s\n",
            "248:\tlearn: 0.1256420\ttotal: 5.93s\tremaining: 17.9s\n",
            "249:\tlearn: 0.1253385\ttotal: 5.95s\tremaining: 17.9s\n",
            "250:\tlearn: 0.1252640\ttotal: 5.98s\tremaining: 17.8s\n",
            "251:\tlearn: 0.1251882\ttotal: 6s\tremaining: 17.8s\n",
            "252:\tlearn: 0.1250560\ttotal: 6.03s\tremaining: 17.8s\n",
            "253:\tlearn: 0.1249664\ttotal: 6.05s\tremaining: 17.8s\n",
            "254:\tlearn: 0.1248532\ttotal: 6.07s\tremaining: 17.7s\n",
            "255:\tlearn: 0.1247534\ttotal: 6.1s\tremaining: 17.7s\n",
            "256:\tlearn: 0.1246491\ttotal: 6.12s\tremaining: 17.7s\n",
            "257:\tlearn: 0.1245331\ttotal: 6.14s\tremaining: 17.7s\n",
            "258:\tlearn: 0.1243600\ttotal: 6.16s\tremaining: 17.6s\n",
            "259:\tlearn: 0.1242290\ttotal: 6.19s\tremaining: 17.6s\n",
            "260:\tlearn: 0.1241432\ttotal: 6.21s\tremaining: 17.6s\n",
            "261:\tlearn: 0.1238917\ttotal: 6.24s\tremaining: 17.6s\n",
            "262:\tlearn: 0.1237431\ttotal: 6.26s\tremaining: 17.5s\n",
            "263:\tlearn: 0.1236352\ttotal: 6.28s\tremaining: 17.5s\n",
            "264:\tlearn: 0.1235433\ttotal: 6.3s\tremaining: 17.5s\n",
            "265:\tlearn: 0.1234756\ttotal: 6.33s\tremaining: 17.5s\n",
            "266:\tlearn: 0.1234115\ttotal: 6.35s\tremaining: 17.4s\n",
            "267:\tlearn: 0.1232627\ttotal: 6.37s\tremaining: 17.4s\n",
            "268:\tlearn: 0.1229762\ttotal: 6.4s\tremaining: 17.4s\n",
            "269:\tlearn: 0.1229070\ttotal: 6.42s\tremaining: 17.4s\n",
            "270:\tlearn: 0.1228003\ttotal: 6.44s\tremaining: 17.3s\n",
            "271:\tlearn: 0.1227316\ttotal: 6.46s\tremaining: 17.3s\n",
            "272:\tlearn: 0.1226254\ttotal: 6.49s\tremaining: 17.3s\n",
            "273:\tlearn: 0.1225557\ttotal: 6.51s\tremaining: 17.2s\n",
            "274:\tlearn: 0.1224529\ttotal: 6.53s\tremaining: 17.2s\n",
            "275:\tlearn: 0.1223519\ttotal: 6.55s\tremaining: 17.2s\n",
            "276:\tlearn: 0.1222465\ttotal: 6.58s\tremaining: 17.2s\n",
            "277:\tlearn: 0.1221407\ttotal: 6.61s\tremaining: 17.2s\n",
            "278:\tlearn: 0.1220564\ttotal: 6.63s\tremaining: 17.1s\n",
            "279:\tlearn: 0.1219787\ttotal: 6.65s\tremaining: 17.1s\n",
            "280:\tlearn: 0.1218833\ttotal: 6.67s\tremaining: 17.1s\n",
            "281:\tlearn: 0.1217743\ttotal: 6.7s\tremaining: 17s\n",
            "282:\tlearn: 0.1213790\ttotal: 6.72s\tremaining: 17s\n",
            "283:\tlearn: 0.1213078\ttotal: 6.74s\tremaining: 17s\n",
            "284:\tlearn: 0.1212327\ttotal: 6.77s\tremaining: 17s\n",
            "285:\tlearn: 0.1211809\ttotal: 6.79s\tremaining: 16.9s\n",
            "286:\tlearn: 0.1209730\ttotal: 6.81s\tremaining: 16.9s\n",
            "287:\tlearn: 0.1208787\ttotal: 6.83s\tremaining: 16.9s\n",
            "288:\tlearn: 0.1207858\ttotal: 6.86s\tremaining: 16.9s\n",
            "289:\tlearn: 0.1207093\ttotal: 6.88s\tremaining: 16.8s\n",
            "290:\tlearn: 0.1205937\ttotal: 6.9s\tremaining: 16.8s\n",
            "291:\tlearn: 0.1204845\ttotal: 6.92s\tremaining: 16.8s\n",
            "292:\tlearn: 0.1204011\ttotal: 6.95s\tremaining: 16.8s\n",
            "293:\tlearn: 0.1203162\ttotal: 6.97s\tremaining: 16.7s\n",
            "294:\tlearn: 0.1202223\ttotal: 7s\tremaining: 16.7s\n",
            "295:\tlearn: 0.1201491\ttotal: 7.02s\tremaining: 16.7s\n",
            "296:\tlearn: 0.1200656\ttotal: 7.04s\tremaining: 16.7s\n",
            "297:\tlearn: 0.1199761\ttotal: 7.07s\tremaining: 16.6s\n",
            "298:\tlearn: 0.1198926\ttotal: 7.09s\tremaining: 16.6s\n",
            "299:\tlearn: 0.1197849\ttotal: 7.11s\tremaining: 16.6s\n",
            "300:\tlearn: 0.1197382\ttotal: 7.13s\tremaining: 16.6s\n",
            "301:\tlearn: 0.1196556\ttotal: 7.16s\tremaining: 16.6s\n",
            "302:\tlearn: 0.1195193\ttotal: 7.18s\tremaining: 16.5s\n",
            "303:\tlearn: 0.1194423\ttotal: 7.21s\tremaining: 16.5s\n",
            "304:\tlearn: 0.1193648\ttotal: 7.23s\tremaining: 16.5s\n",
            "305:\tlearn: 0.1192868\ttotal: 7.25s\tremaining: 16.4s\n",
            "306:\tlearn: 0.1192124\ttotal: 7.27s\tremaining: 16.4s\n",
            "307:\tlearn: 0.1191588\ttotal: 7.29s\tremaining: 16.4s\n",
            "308:\tlearn: 0.1190674\ttotal: 7.32s\tremaining: 16.4s\n",
            "309:\tlearn: 0.1190163\ttotal: 7.34s\tremaining: 16.3s\n",
            "310:\tlearn: 0.1189589\ttotal: 7.37s\tremaining: 16.3s\n",
            "311:\tlearn: 0.1187786\ttotal: 7.39s\tremaining: 16.3s\n",
            "312:\tlearn: 0.1186880\ttotal: 7.41s\tremaining: 16.3s\n",
            "313:\tlearn: 0.1185901\ttotal: 7.43s\tremaining: 16.2s\n",
            "314:\tlearn: 0.1184765\ttotal: 7.46s\tremaining: 16.2s\n",
            "315:\tlearn: 0.1184013\ttotal: 7.48s\tremaining: 16.2s\n",
            "316:\tlearn: 0.1183191\ttotal: 7.5s\tremaining: 16.2s\n",
            "317:\tlearn: 0.1182189\ttotal: 7.53s\tremaining: 16.1s\n",
            "318:\tlearn: 0.1180926\ttotal: 7.55s\tremaining: 16.1s\n",
            "319:\tlearn: 0.1179453\ttotal: 7.58s\tremaining: 16.1s\n",
            "320:\tlearn: 0.1178588\ttotal: 7.6s\tremaining: 16.1s\n",
            "321:\tlearn: 0.1177787\ttotal: 7.63s\tremaining: 16.1s\n",
            "322:\tlearn: 0.1176908\ttotal: 7.65s\tremaining: 16s\n",
            "323:\tlearn: 0.1175802\ttotal: 7.67s\tremaining: 16s\n",
            "324:\tlearn: 0.1174917\ttotal: 7.69s\tremaining: 16s\n",
            "325:\tlearn: 0.1174225\ttotal: 7.73s\tremaining: 16s\n",
            "326:\tlearn: 0.1173606\ttotal: 7.75s\tremaining: 15.9s\n",
            "327:\tlearn: 0.1172785\ttotal: 7.77s\tremaining: 15.9s\n",
            "328:\tlearn: 0.1171894\ttotal: 7.8s\tremaining: 15.9s\n",
            "329:\tlearn: 0.1171139\ttotal: 7.82s\tremaining: 15.9s\n",
            "330:\tlearn: 0.1170741\ttotal: 7.84s\tremaining: 15.8s\n",
            "331:\tlearn: 0.1169955\ttotal: 7.86s\tremaining: 15.8s\n",
            "332:\tlearn: 0.1169206\ttotal: 7.88s\tremaining: 15.8s\n",
            "333:\tlearn: 0.1168816\ttotal: 7.91s\tremaining: 15.8s\n",
            "334:\tlearn: 0.1168001\ttotal: 7.93s\tremaining: 15.7s\n",
            "335:\tlearn: 0.1167441\ttotal: 7.95s\tremaining: 15.7s\n",
            "336:\tlearn: 0.1166743\ttotal: 7.98s\tremaining: 15.7s\n",
            "337:\tlearn: 0.1165282\ttotal: 8s\tremaining: 15.7s\n",
            "338:\tlearn: 0.1164781\ttotal: 8.02s\tremaining: 15.6s\n",
            "339:\tlearn: 0.1160937\ttotal: 8.04s\tremaining: 15.6s\n",
            "340:\tlearn: 0.1159965\ttotal: 8.06s\tremaining: 15.6s\n",
            "341:\tlearn: 0.1159306\ttotal: 8.09s\tremaining: 15.6s\n",
            "342:\tlearn: 0.1158456\ttotal: 8.12s\tremaining: 15.5s\n",
            "343:\tlearn: 0.1157942\ttotal: 8.14s\tremaining: 15.5s\n",
            "344:\tlearn: 0.1154853\ttotal: 8.16s\tremaining: 15.5s\n",
            "345:\tlearn: 0.1151523\ttotal: 8.18s\tremaining: 15.5s\n",
            "346:\tlearn: 0.1151004\ttotal: 8.21s\tremaining: 15.4s\n",
            "347:\tlearn: 0.1149855\ttotal: 8.23s\tremaining: 15.4s\n",
            "348:\tlearn: 0.1149154\ttotal: 8.25s\tremaining: 15.4s\n",
            "349:\tlearn: 0.1148264\ttotal: 8.28s\tremaining: 15.4s\n",
            "350:\tlearn: 0.1147240\ttotal: 8.3s\tremaining: 15.3s\n",
            "351:\tlearn: 0.1146592\ttotal: 8.32s\tremaining: 15.3s\n",
            "352:\tlearn: 0.1146162\ttotal: 8.35s\tremaining: 15.3s\n",
            "353:\tlearn: 0.1145362\ttotal: 8.37s\tremaining: 15.3s\n",
            "354:\tlearn: 0.1144842\ttotal: 8.39s\tremaining: 15.2s\n",
            "355:\tlearn: 0.1144156\ttotal: 8.41s\tremaining: 15.2s\n",
            "356:\tlearn: 0.1143378\ttotal: 8.43s\tremaining: 15.2s\n",
            "357:\tlearn: 0.1142678\ttotal: 8.45s\tremaining: 15.2s\n",
            "358:\tlearn: 0.1141870\ttotal: 8.48s\tremaining: 15.1s\n",
            "359:\tlearn: 0.1140954\ttotal: 8.51s\tremaining: 15.1s\n",
            "360:\tlearn: 0.1139694\ttotal: 8.53s\tremaining: 15.1s\n",
            "361:\tlearn: 0.1138799\ttotal: 8.55s\tremaining: 15.1s\n",
            "362:\tlearn: 0.1138326\ttotal: 8.57s\tremaining: 15s\n",
            "363:\tlearn: 0.1137478\ttotal: 8.6s\tremaining: 15s\n",
            "364:\tlearn: 0.1136767\ttotal: 8.62s\tremaining: 15s\n",
            "365:\tlearn: 0.1136067\ttotal: 8.64s\tremaining: 15s\n",
            "366:\tlearn: 0.1135068\ttotal: 8.67s\tremaining: 15s\n",
            "367:\tlearn: 0.1134179\ttotal: 8.69s\tremaining: 14.9s\n",
            "368:\tlearn: 0.1133664\ttotal: 8.71s\tremaining: 14.9s\n",
            "369:\tlearn: 0.1132961\ttotal: 8.74s\tremaining: 14.9s\n",
            "370:\tlearn: 0.1132245\ttotal: 8.76s\tremaining: 14.9s\n",
            "371:\tlearn: 0.1130003\ttotal: 8.78s\tremaining: 14.8s\n",
            "372:\tlearn: 0.1129373\ttotal: 8.8s\tremaining: 14.8s\n",
            "373:\tlearn: 0.1129005\ttotal: 8.83s\tremaining: 14.8s\n",
            "374:\tlearn: 0.1128337\ttotal: 8.85s\tremaining: 14.8s\n",
            "375:\tlearn: 0.1127700\ttotal: 8.88s\tremaining: 14.7s\n",
            "376:\tlearn: 0.1126853\ttotal: 8.9s\tremaining: 14.7s\n",
            "377:\tlearn: 0.1126298\ttotal: 8.92s\tremaining: 14.7s\n",
            "378:\tlearn: 0.1125802\ttotal: 8.94s\tremaining: 14.7s\n",
            "379:\tlearn: 0.1125277\ttotal: 8.96s\tremaining: 14.6s\n",
            "380:\tlearn: 0.1124411\ttotal: 8.98s\tremaining: 14.6s\n",
            "381:\tlearn: 0.1123537\ttotal: 9.01s\tremaining: 14.6s\n",
            "382:\tlearn: 0.1122912\ttotal: 9.04s\tremaining: 14.6s\n",
            "383:\tlearn: 0.1122041\ttotal: 9.06s\tremaining: 14.5s\n",
            "384:\tlearn: 0.1121400\ttotal: 9.08s\tremaining: 14.5s\n",
            "385:\tlearn: 0.1120653\ttotal: 9.11s\tremaining: 14.5s\n",
            "386:\tlearn: 0.1119939\ttotal: 9.13s\tremaining: 14.5s\n",
            "387:\tlearn: 0.1119538\ttotal: 9.15s\tremaining: 14.4s\n",
            "388:\tlearn: 0.1118792\ttotal: 9.17s\tremaining: 14.4s\n",
            "389:\tlearn: 0.1118195\ttotal: 9.19s\tremaining: 14.4s\n",
            "390:\tlearn: 0.1117572\ttotal: 9.22s\tremaining: 14.4s\n",
            "391:\tlearn: 0.1117079\ttotal: 9.24s\tremaining: 14.3s\n",
            "392:\tlearn: 0.1116507\ttotal: 9.26s\tremaining: 14.3s\n",
            "393:\tlearn: 0.1115989\ttotal: 9.28s\tremaining: 14.3s\n",
            "394:\tlearn: 0.1115435\ttotal: 9.31s\tremaining: 14.3s\n",
            "395:\tlearn: 0.1114689\ttotal: 9.33s\tremaining: 14.2s\n",
            "396:\tlearn: 0.1113933\ttotal: 9.35s\tremaining: 14.2s\n",
            "397:\tlearn: 0.1113525\ttotal: 9.37s\tremaining: 14.2s\n",
            "398:\tlearn: 0.1112962\ttotal: 9.39s\tremaining: 14.2s\n",
            "399:\tlearn: 0.1112354\ttotal: 9.42s\tremaining: 14.1s\n",
            "400:\tlearn: 0.1111651\ttotal: 9.44s\tremaining: 14.1s\n",
            "401:\tlearn: 0.1110860\ttotal: 9.47s\tremaining: 14.1s\n",
            "402:\tlearn: 0.1110312\ttotal: 9.49s\tremaining: 14.1s\n",
            "403:\tlearn: 0.1109737\ttotal: 9.51s\tremaining: 14s\n",
            "404:\tlearn: 0.1109192\ttotal: 9.53s\tremaining: 14s\n",
            "405:\tlearn: 0.1108691\ttotal: 9.55s\tremaining: 14s\n",
            "406:\tlearn: 0.1107994\ttotal: 9.57s\tremaining: 13.9s\n",
            "407:\tlearn: 0.1107612\ttotal: 9.61s\tremaining: 13.9s\n",
            "408:\tlearn: 0.1106947\ttotal: 9.63s\tremaining: 13.9s\n",
            "409:\tlearn: 0.1105454\ttotal: 9.65s\tremaining: 13.9s\n",
            "410:\tlearn: 0.1104627\ttotal: 9.67s\tremaining: 13.9s\n",
            "411:\tlearn: 0.1104151\ttotal: 9.69s\tremaining: 13.8s\n",
            "412:\tlearn: 0.1103786\ttotal: 9.71s\tremaining: 13.8s\n",
            "413:\tlearn: 0.1103283\ttotal: 9.74s\tremaining: 13.8s\n",
            "414:\tlearn: 0.1103005\ttotal: 9.76s\tremaining: 13.8s\n",
            "415:\tlearn: 0.1102384\ttotal: 9.78s\tremaining: 13.7s\n",
            "416:\tlearn: 0.1101872\ttotal: 9.81s\tremaining: 13.7s\n",
            "417:\tlearn: 0.1101130\ttotal: 9.83s\tremaining: 13.7s\n",
            "418:\tlearn: 0.1100616\ttotal: 9.85s\tremaining: 13.7s\n",
            "419:\tlearn: 0.1100075\ttotal: 9.87s\tremaining: 13.6s\n",
            "420:\tlearn: 0.1099564\ttotal: 9.9s\tremaining: 13.6s\n",
            "421:\tlearn: 0.1098869\ttotal: 9.92s\tremaining: 13.6s\n",
            "422:\tlearn: 0.1098436\ttotal: 9.94s\tremaining: 13.6s\n",
            "423:\tlearn: 0.1096702\ttotal: 9.96s\tremaining: 13.5s\n",
            "424:\tlearn: 0.1095882\ttotal: 10s\tremaining: 13.5s\n",
            "425:\tlearn: 0.1095247\ttotal: 10s\tremaining: 13.5s\n",
            "426:\tlearn: 0.1094011\ttotal: 10s\tremaining: 13.5s\n",
            "427:\tlearn: 0.1093414\ttotal: 10.1s\tremaining: 13.4s\n",
            "428:\tlearn: 0.1092884\ttotal: 10.1s\tremaining: 13.4s\n",
            "429:\tlearn: 0.1091315\ttotal: 10.1s\tremaining: 13.4s\n",
            "430:\tlearn: 0.1090509\ttotal: 10.1s\tremaining: 13.4s\n",
            "431:\tlearn: 0.1089854\ttotal: 10.2s\tremaining: 13.3s\n",
            "432:\tlearn: 0.1089294\ttotal: 10.2s\tremaining: 13.3s\n",
            "433:\tlearn: 0.1088968\ttotal: 10.2s\tremaining: 13.3s\n",
            "434:\tlearn: 0.1088210\ttotal: 10.2s\tremaining: 13.3s\n",
            "435:\tlearn: 0.1087701\ttotal: 10.3s\tremaining: 13.3s\n",
            "436:\tlearn: 0.1086908\ttotal: 10.3s\tremaining: 13.2s\n",
            "437:\tlearn: 0.1086326\ttotal: 10.3s\tremaining: 13.2s\n",
            "438:\tlearn: 0.1085782\ttotal: 10.3s\tremaining: 13.2s\n",
            "439:\tlearn: 0.1084986\ttotal: 10.3s\tremaining: 13.2s\n",
            "440:\tlearn: 0.1084513\ttotal: 10.4s\tremaining: 13.2s\n",
            "441:\tlearn: 0.1083976\ttotal: 10.4s\tremaining: 13.1s\n",
            "442:\tlearn: 0.1083261\ttotal: 10.4s\tremaining: 13.1s\n",
            "443:\tlearn: 0.1082251\ttotal: 10.4s\tremaining: 13.1s\n",
            "444:\tlearn: 0.1081500\ttotal: 10.5s\tremaining: 13.1s\n",
            "445:\tlearn: 0.1081063\ttotal: 10.5s\tremaining: 13s\n",
            "446:\tlearn: 0.1080387\ttotal: 10.5s\tremaining: 13s\n",
            "447:\tlearn: 0.1079959\ttotal: 10.5s\tremaining: 13s\n",
            "448:\tlearn: 0.1079502\ttotal: 10.6s\tremaining: 13s\n",
            "449:\tlearn: 0.1078889\ttotal: 10.6s\tremaining: 12.9s\n",
            "450:\tlearn: 0.1078353\ttotal: 10.6s\tremaining: 12.9s\n",
            "451:\tlearn: 0.1077922\ttotal: 10.6s\tremaining: 12.9s\n",
            "452:\tlearn: 0.1077335\ttotal: 10.6s\tremaining: 12.9s\n",
            "453:\tlearn: 0.1076545\ttotal: 10.7s\tremaining: 12.8s\n",
            "454:\tlearn: 0.1075751\ttotal: 10.7s\tremaining: 12.8s\n",
            "455:\tlearn: 0.1074883\ttotal: 10.7s\tremaining: 12.8s\n",
            "456:\tlearn: 0.1074224\ttotal: 10.7s\tremaining: 12.8s\n",
            "457:\tlearn: 0.1073308\ttotal: 10.8s\tremaining: 12.7s\n",
            "458:\tlearn: 0.1072865\ttotal: 10.8s\tremaining: 12.7s\n",
            "459:\tlearn: 0.1072507\ttotal: 10.8s\tremaining: 12.7s\n",
            "460:\tlearn: 0.1072117\ttotal: 10.8s\tremaining: 12.7s\n",
            "461:\tlearn: 0.1071603\ttotal: 10.9s\tremaining: 12.6s\n",
            "462:\tlearn: 0.1071126\ttotal: 10.9s\tremaining: 12.6s\n",
            "463:\tlearn: 0.1070414\ttotal: 10.9s\tremaining: 12.6s\n",
            "464:\tlearn: 0.1069059\ttotal: 10.9s\tremaining: 12.6s\n",
            "465:\tlearn: 0.1068357\ttotal: 11s\tremaining: 12.6s\n",
            "466:\tlearn: 0.1067941\ttotal: 11s\tremaining: 12.5s\n",
            "467:\tlearn: 0.1067472\ttotal: 11s\tremaining: 12.5s\n",
            "468:\tlearn: 0.1066602\ttotal: 11s\tremaining: 12.5s\n",
            "469:\tlearn: 0.1066294\ttotal: 11s\tremaining: 12.5s\n",
            "470:\tlearn: 0.1065796\ttotal: 11.1s\tremaining: 12.4s\n",
            "471:\tlearn: 0.1065154\ttotal: 11.1s\tremaining: 12.4s\n",
            "472:\tlearn: 0.1064292\ttotal: 11.1s\tremaining: 12.4s\n",
            "473:\tlearn: 0.1063747\ttotal: 11.1s\tremaining: 12.4s\n",
            "474:\tlearn: 0.1062941\ttotal: 11.2s\tremaining: 12.3s\n",
            "475:\tlearn: 0.1062418\ttotal: 11.2s\tremaining: 12.3s\n",
            "476:\tlearn: 0.1061626\ttotal: 11.2s\tremaining: 12.3s\n",
            "477:\tlearn: 0.1061066\ttotal: 11.2s\tremaining: 12.3s\n",
            "478:\tlearn: 0.1060576\ttotal: 11.3s\tremaining: 12.2s\n",
            "479:\tlearn: 0.1059947\ttotal: 11.3s\tremaining: 12.2s\n",
            "480:\tlearn: 0.1059431\ttotal: 11.3s\tremaining: 12.2s\n",
            "481:\tlearn: 0.1058903\ttotal: 11.3s\tremaining: 12.2s\n",
            "482:\tlearn: 0.1058469\ttotal: 11.3s\tremaining: 12.1s\n",
            "483:\tlearn: 0.1057737\ttotal: 11.4s\tremaining: 12.1s\n",
            "484:\tlearn: 0.1057314\ttotal: 11.4s\tremaining: 12.1s\n",
            "485:\tlearn: 0.1056968\ttotal: 11.4s\tremaining: 12.1s\n",
            "486:\tlearn: 0.1056239\ttotal: 11.4s\tremaining: 12s\n",
            "487:\tlearn: 0.1055769\ttotal: 11.5s\tremaining: 12s\n",
            "488:\tlearn: 0.1055318\ttotal: 11.5s\tremaining: 12s\n",
            "489:\tlearn: 0.1054725\ttotal: 11.5s\tremaining: 12s\n",
            "490:\tlearn: 0.1053752\ttotal: 11.5s\tremaining: 12s\n",
            "491:\tlearn: 0.1053077\ttotal: 11.6s\tremaining: 11.9s\n",
            "492:\tlearn: 0.1052604\ttotal: 11.6s\tremaining: 11.9s\n",
            "493:\tlearn: 0.1051851\ttotal: 11.6s\tremaining: 11.9s\n",
            "494:\tlearn: 0.1051308\ttotal: 11.6s\tremaining: 11.9s\n",
            "495:\tlearn: 0.1050750\ttotal: 11.6s\tremaining: 11.8s\n",
            "496:\tlearn: 0.1050339\ttotal: 11.7s\tremaining: 11.8s\n",
            "497:\tlearn: 0.1049491\ttotal: 11.7s\tremaining: 11.8s\n",
            "498:\tlearn: 0.1048880\ttotal: 11.7s\tremaining: 11.8s\n",
            "499:\tlearn: 0.1048007\ttotal: 11.7s\tremaining: 11.7s\n",
            "500:\tlearn: 0.1046942\ttotal: 11.8s\tremaining: 11.7s\n",
            "501:\tlearn: 0.1046458\ttotal: 11.8s\tremaining: 11.7s\n",
            "502:\tlearn: 0.1046006\ttotal: 11.8s\tremaining: 11.7s\n",
            "503:\tlearn: 0.1045491\ttotal: 11.8s\tremaining: 11.6s\n",
            "504:\tlearn: 0.1045076\ttotal: 11.9s\tremaining: 11.6s\n",
            "505:\tlearn: 0.1044534\ttotal: 11.9s\tremaining: 11.6s\n",
            "506:\tlearn: 0.1044229\ttotal: 11.9s\tremaining: 11.6s\n",
            "507:\tlearn: 0.1043641\ttotal: 11.9s\tremaining: 11.6s\n",
            "508:\tlearn: 0.1043042\ttotal: 11.9s\tremaining: 11.5s\n",
            "509:\tlearn: 0.1042484\ttotal: 12s\tremaining: 11.5s\n",
            "510:\tlearn: 0.1041826\ttotal: 12s\tremaining: 11.5s\n",
            "511:\tlearn: 0.1041383\ttotal: 12s\tremaining: 11.5s\n",
            "512:\tlearn: 0.1040738\ttotal: 12s\tremaining: 11.4s\n",
            "513:\tlearn: 0.1040366\ttotal: 12.1s\tremaining: 11.4s\n",
            "514:\tlearn: 0.1039892\ttotal: 12.1s\tremaining: 11.4s\n",
            "515:\tlearn: 0.1039117\ttotal: 12.1s\tremaining: 11.4s\n",
            "516:\tlearn: 0.1038576\ttotal: 12.1s\tremaining: 11.3s\n",
            "517:\tlearn: 0.1038228\ttotal: 12.2s\tremaining: 11.3s\n",
            "518:\tlearn: 0.1037645\ttotal: 12.2s\tremaining: 11.3s\n",
            "519:\tlearn: 0.1037277\ttotal: 12.2s\tremaining: 11.3s\n",
            "520:\tlearn: 0.1036499\ttotal: 12.2s\tremaining: 11.2s\n",
            "521:\tlearn: 0.1035831\ttotal: 12.2s\tremaining: 11.2s\n",
            "522:\tlearn: 0.1035349\ttotal: 12.3s\tremaining: 11.2s\n",
            "523:\tlearn: 0.1034456\ttotal: 12.3s\tremaining: 11.2s\n",
            "524:\tlearn: 0.1033826\ttotal: 12.3s\tremaining: 11.1s\n",
            "525:\tlearn: 0.1033401\ttotal: 12.3s\tremaining: 11.1s\n",
            "526:\tlearn: 0.1033008\ttotal: 12.4s\tremaining: 11.1s\n",
            "527:\tlearn: 0.1032571\ttotal: 12.4s\tremaining: 11.1s\n",
            "528:\tlearn: 0.1031998\ttotal: 12.4s\tremaining: 11s\n",
            "529:\tlearn: 0.1031477\ttotal: 12.4s\tremaining: 11s\n",
            "530:\tlearn: 0.1030975\ttotal: 12.5s\tremaining: 11s\n",
            "531:\tlearn: 0.1030447\ttotal: 12.5s\tremaining: 11s\n",
            "532:\tlearn: 0.1030029\ttotal: 12.5s\tremaining: 11s\n",
            "533:\tlearn: 0.1029485\ttotal: 12.5s\tremaining: 10.9s\n",
            "534:\tlearn: 0.1028998\ttotal: 12.6s\tremaining: 10.9s\n",
            "535:\tlearn: 0.1028538\ttotal: 12.6s\tremaining: 10.9s\n",
            "536:\tlearn: 0.1028053\ttotal: 12.6s\tremaining: 10.9s\n",
            "537:\tlearn: 0.1027600\ttotal: 12.6s\tremaining: 10.8s\n",
            "538:\tlearn: 0.1027026\ttotal: 12.6s\tremaining: 10.8s\n",
            "539:\tlearn: 0.1026500\ttotal: 12.7s\tremaining: 10.8s\n",
            "540:\tlearn: 0.1026200\ttotal: 12.7s\tremaining: 10.8s\n",
            "541:\tlearn: 0.1025583\ttotal: 12.7s\tremaining: 10.7s\n",
            "542:\tlearn: 0.1024940\ttotal: 12.7s\tremaining: 10.7s\n",
            "543:\tlearn: 0.1024498\ttotal: 12.8s\tremaining: 10.7s\n",
            "544:\tlearn: 0.1023396\ttotal: 12.8s\tremaining: 10.7s\n",
            "545:\tlearn: 0.1022742\ttotal: 12.8s\tremaining: 10.6s\n",
            "546:\tlearn: 0.1021997\ttotal: 12.8s\tremaining: 10.6s\n",
            "547:\tlearn: 0.1021671\ttotal: 12.9s\tremaining: 10.6s\n",
            "548:\tlearn: 0.1020916\ttotal: 12.9s\tremaining: 10.6s\n",
            "549:\tlearn: 0.1020698\ttotal: 12.9s\tremaining: 10.6s\n",
            "550:\tlearn: 0.1020012\ttotal: 12.9s\tremaining: 10.5s\n",
            "551:\tlearn: 0.1019561\ttotal: 13s\tremaining: 10.5s\n",
            "552:\tlearn: 0.1018837\ttotal: 13s\tremaining: 10.5s\n",
            "553:\tlearn: 0.1018294\ttotal: 13s\tremaining: 10.5s\n",
            "554:\tlearn: 0.1017812\ttotal: 13s\tremaining: 10.4s\n",
            "555:\tlearn: 0.1017176\ttotal: 13s\tremaining: 10.4s\n",
            "556:\tlearn: 0.1016697\ttotal: 13.1s\tremaining: 10.4s\n",
            "557:\tlearn: 0.1016263\ttotal: 13.1s\tremaining: 10.4s\n",
            "558:\tlearn: 0.1015569\ttotal: 13.1s\tremaining: 10.3s\n",
            "559:\tlearn: 0.1015290\ttotal: 13.1s\tremaining: 10.3s\n",
            "560:\tlearn: 0.1014700\ttotal: 13.2s\tremaining: 10.3s\n",
            "561:\tlearn: 0.1014094\ttotal: 13.2s\tremaining: 10.3s\n",
            "562:\tlearn: 0.1013642\ttotal: 13.2s\tremaining: 10.3s\n",
            "563:\tlearn: 0.1012894\ttotal: 13.2s\tremaining: 10.2s\n",
            "564:\tlearn: 0.1012409\ttotal: 13.3s\tremaining: 10.2s\n",
            "565:\tlearn: 0.1012121\ttotal: 13.3s\tremaining: 10.2s\n",
            "566:\tlearn: 0.1011750\ttotal: 13.3s\tremaining: 10.2s\n",
            "567:\tlearn: 0.1011123\ttotal: 13.3s\tremaining: 10.1s\n",
            "568:\tlearn: 0.1010397\ttotal: 13.3s\tremaining: 10.1s\n",
            "569:\tlearn: 0.1009942\ttotal: 13.4s\tremaining: 10.1s\n",
            "570:\tlearn: 0.1009316\ttotal: 13.4s\tremaining: 10.1s\n",
            "571:\tlearn: 0.1008736\ttotal: 13.4s\tremaining: 10s\n",
            "572:\tlearn: 0.1008278\ttotal: 13.4s\tremaining: 10s\n",
            "573:\tlearn: 0.1007940\ttotal: 13.5s\tremaining: 9.99s\n",
            "574:\tlearn: 0.1007464\ttotal: 13.5s\tremaining: 9.97s\n",
            "575:\tlearn: 0.1007148\ttotal: 13.5s\tremaining: 9.94s\n",
            "576:\tlearn: 0.1006614\ttotal: 13.5s\tremaining: 9.92s\n",
            "577:\tlearn: 0.1006376\ttotal: 13.6s\tremaining: 9.89s\n",
            "578:\tlearn: 0.1005755\ttotal: 13.6s\tremaining: 9.87s\n",
            "579:\tlearn: 0.1004953\ttotal: 13.6s\tremaining: 9.85s\n",
            "580:\tlearn: 0.1004656\ttotal: 13.6s\tremaining: 9.82s\n",
            "581:\tlearn: 0.1004206\ttotal: 13.6s\tremaining: 9.8s\n",
            "582:\tlearn: 0.1002908\ttotal: 13.7s\tremaining: 9.78s\n",
            "583:\tlearn: 0.1000712\ttotal: 13.7s\tremaining: 9.75s\n",
            "584:\tlearn: 0.1000268\ttotal: 13.7s\tremaining: 9.73s\n",
            "585:\tlearn: 0.0999691\ttotal: 13.7s\tremaining: 9.71s\n",
            "586:\tlearn: 0.0999289\ttotal: 13.8s\tremaining: 9.69s\n",
            "587:\tlearn: 0.0998778\ttotal: 13.8s\tremaining: 9.66s\n",
            "588:\tlearn: 0.0998454\ttotal: 13.8s\tremaining: 9.64s\n",
            "589:\tlearn: 0.0998048\ttotal: 13.8s\tremaining: 9.61s\n",
            "590:\tlearn: 0.0997662\ttotal: 13.9s\tremaining: 9.59s\n",
            "591:\tlearn: 0.0997187\ttotal: 13.9s\tremaining: 9.56s\n",
            "592:\tlearn: 0.0996749\ttotal: 13.9s\tremaining: 9.54s\n",
            "593:\tlearn: 0.0996194\ttotal: 13.9s\tremaining: 9.52s\n",
            "594:\tlearn: 0.0995914\ttotal: 14s\tremaining: 9.5s\n",
            "595:\tlearn: 0.0995492\ttotal: 14s\tremaining: 9.47s\n",
            "596:\tlearn: 0.0995180\ttotal: 14s\tremaining: 9.45s\n",
            "597:\tlearn: 0.0994472\ttotal: 14s\tremaining: 9.42s\n",
            "598:\tlearn: 0.0994179\ttotal: 14s\tremaining: 9.4s\n",
            "599:\tlearn: 0.0993600\ttotal: 14.1s\tremaining: 9.37s\n",
            "600:\tlearn: 0.0993211\ttotal: 14.1s\tremaining: 9.35s\n",
            "601:\tlearn: 0.0992661\ttotal: 14.1s\tremaining: 9.32s\n",
            "602:\tlearn: 0.0991933\ttotal: 14.1s\tremaining: 9.3s\n",
            "603:\tlearn: 0.0991451\ttotal: 14.2s\tremaining: 9.28s\n",
            "604:\tlearn: 0.0991013\ttotal: 14.2s\tremaining: 9.26s\n",
            "605:\tlearn: 0.0990275\ttotal: 14.2s\tremaining: 9.23s\n",
            "606:\tlearn: 0.0989992\ttotal: 14.2s\tremaining: 9.21s\n",
            "607:\tlearn: 0.0989694\ttotal: 14.2s\tremaining: 9.18s\n",
            "608:\tlearn: 0.0989212\ttotal: 14.3s\tremaining: 9.16s\n",
            "609:\tlearn: 0.0988579\ttotal: 14.3s\tremaining: 9.14s\n",
            "610:\tlearn: 0.0988082\ttotal: 14.3s\tremaining: 9.12s\n",
            "611:\tlearn: 0.0987734\ttotal: 14.4s\tremaining: 9.11s\n",
            "612:\tlearn: 0.0987463\ttotal: 14.4s\tremaining: 9.08s\n",
            "613:\tlearn: 0.0987002\ttotal: 14.4s\tremaining: 9.06s\n",
            "614:\tlearn: 0.0986675\ttotal: 14.4s\tremaining: 9.04s\n",
            "615:\tlearn: 0.0986030\ttotal: 14.5s\tremaining: 9.01s\n",
            "616:\tlearn: 0.0985759\ttotal: 14.5s\tremaining: 8.99s\n",
            "617:\tlearn: 0.0985422\ttotal: 14.5s\tremaining: 8.96s\n",
            "618:\tlearn: 0.0984657\ttotal: 14.5s\tremaining: 8.95s\n",
            "619:\tlearn: 0.0984240\ttotal: 14.6s\tremaining: 8.93s\n",
            "620:\tlearn: 0.0983379\ttotal: 14.6s\tremaining: 8.91s\n",
            "621:\tlearn: 0.0982962\ttotal: 14.6s\tremaining: 8.88s\n",
            "622:\tlearn: 0.0982419\ttotal: 14.6s\tremaining: 8.86s\n",
            "623:\tlearn: 0.0981313\ttotal: 14.7s\tremaining: 8.84s\n",
            "624:\tlearn: 0.0981136\ttotal: 14.7s\tremaining: 8.82s\n",
            "625:\tlearn: 0.0980426\ttotal: 14.7s\tremaining: 8.79s\n",
            "626:\tlearn: 0.0980058\ttotal: 14.7s\tremaining: 8.77s\n",
            "627:\tlearn: 0.0979771\ttotal: 14.8s\tremaining: 8.74s\n",
            "628:\tlearn: 0.0979535\ttotal: 14.8s\tremaining: 8.72s\n",
            "629:\tlearn: 0.0979128\ttotal: 14.8s\tremaining: 8.69s\n",
            "630:\tlearn: 0.0978731\ttotal: 14.8s\tremaining: 8.67s\n",
            "631:\tlearn: 0.0978299\ttotal: 14.8s\tremaining: 8.64s\n",
            "632:\tlearn: 0.0977870\ttotal: 14.9s\tremaining: 8.62s\n",
            "633:\tlearn: 0.0977208\ttotal: 14.9s\tremaining: 8.6s\n",
            "634:\tlearn: 0.0976434\ttotal: 14.9s\tremaining: 8.58s\n",
            "635:\tlearn: 0.0976005\ttotal: 14.9s\tremaining: 8.55s\n",
            "636:\tlearn: 0.0975613\ttotal: 15s\tremaining: 8.53s\n",
            "637:\tlearn: 0.0974777\ttotal: 15s\tremaining: 8.5s\n",
            "638:\tlearn: 0.0974215\ttotal: 15s\tremaining: 8.48s\n",
            "639:\tlearn: 0.0973796\ttotal: 15s\tremaining: 8.45s\n",
            "640:\tlearn: 0.0973379\ttotal: 15s\tremaining: 8.43s\n",
            "641:\tlearn: 0.0972835\ttotal: 15.1s\tremaining: 8.41s\n",
            "642:\tlearn: 0.0972511\ttotal: 15.1s\tremaining: 8.38s\n",
            "643:\tlearn: 0.0972168\ttotal: 15.1s\tremaining: 8.36s\n",
            "644:\tlearn: 0.0971891\ttotal: 15.1s\tremaining: 8.33s\n",
            "645:\tlearn: 0.0971398\ttotal: 15.2s\tremaining: 8.31s\n",
            "646:\tlearn: 0.0971086\ttotal: 15.2s\tremaining: 8.28s\n",
            "647:\tlearn: 0.0970566\ttotal: 15.2s\tremaining: 8.26s\n",
            "648:\tlearn: 0.0970045\ttotal: 15.2s\tremaining: 8.23s\n",
            "649:\tlearn: 0.0969576\ttotal: 15.3s\tremaining: 8.21s\n",
            "650:\tlearn: 0.0969228\ttotal: 15.3s\tremaining: 8.19s\n",
            "651:\tlearn: 0.0968836\ttotal: 15.3s\tremaining: 8.16s\n",
            "652:\tlearn: 0.0968270\ttotal: 15.3s\tremaining: 8.14s\n",
            "653:\tlearn: 0.0968013\ttotal: 15.3s\tremaining: 8.11s\n",
            "654:\tlearn: 0.0967601\ttotal: 15.4s\tremaining: 8.09s\n",
            "655:\tlearn: 0.0967081\ttotal: 15.4s\tremaining: 8.06s\n",
            "656:\tlearn: 0.0966499\ttotal: 15.4s\tremaining: 8.04s\n",
            "657:\tlearn: 0.0966063\ttotal: 15.4s\tremaining: 8.02s\n",
            "658:\tlearn: 0.0965632\ttotal: 15.5s\tremaining: 8s\n",
            "659:\tlearn: 0.0965261\ttotal: 15.5s\tremaining: 7.97s\n",
            "660:\tlearn: 0.0965008\ttotal: 15.5s\tremaining: 7.95s\n",
            "661:\tlearn: 0.0964573\ttotal: 15.5s\tremaining: 7.92s\n",
            "662:\tlearn: 0.0963974\ttotal: 15.5s\tremaining: 7.9s\n",
            "663:\tlearn: 0.0963637\ttotal: 15.6s\tremaining: 7.87s\n",
            "664:\tlearn: 0.0963301\ttotal: 15.6s\tremaining: 7.85s\n",
            "665:\tlearn: 0.0962947\ttotal: 15.6s\tremaining: 7.83s\n",
            "666:\tlearn: 0.0962283\ttotal: 15.6s\tremaining: 7.8s\n",
            "667:\tlearn: 0.0962092\ttotal: 15.7s\tremaining: 7.78s\n",
            "668:\tlearn: 0.0961635\ttotal: 15.7s\tremaining: 7.75s\n",
            "669:\tlearn: 0.0961279\ttotal: 15.7s\tremaining: 7.73s\n",
            "670:\tlearn: 0.0960744\ttotal: 15.7s\tremaining: 7.71s\n",
            "671:\tlearn: 0.0960446\ttotal: 15.7s\tremaining: 7.68s\n",
            "672:\tlearn: 0.0959670\ttotal: 15.8s\tremaining: 7.66s\n",
            "673:\tlearn: 0.0958808\ttotal: 15.8s\tremaining: 7.63s\n",
            "674:\tlearn: 0.0958411\ttotal: 15.8s\tremaining: 7.61s\n",
            "675:\tlearn: 0.0958109\ttotal: 15.8s\tremaining: 7.58s\n",
            "676:\tlearn: 0.0957719\ttotal: 15.8s\tremaining: 7.56s\n",
            "677:\tlearn: 0.0957232\ttotal: 15.9s\tremaining: 7.54s\n",
            "678:\tlearn: 0.0956867\ttotal: 15.9s\tremaining: 7.51s\n",
            "679:\tlearn: 0.0956438\ttotal: 15.9s\tremaining: 7.49s\n",
            "680:\tlearn: 0.0956027\ttotal: 15.9s\tremaining: 7.46s\n",
            "681:\tlearn: 0.0955583\ttotal: 16s\tremaining: 7.44s\n",
            "682:\tlearn: 0.0955081\ttotal: 16s\tremaining: 7.41s\n",
            "683:\tlearn: 0.0954777\ttotal: 16s\tremaining: 7.39s\n",
            "684:\tlearn: 0.0954320\ttotal: 16s\tremaining: 7.37s\n",
            "685:\tlearn: 0.0953705\ttotal: 16s\tremaining: 7.34s\n",
            "686:\tlearn: 0.0953166\ttotal: 16.1s\tremaining: 7.32s\n",
            "687:\tlearn: 0.0952768\ttotal: 16.1s\tremaining: 7.29s\n",
            "688:\tlearn: 0.0952384\ttotal: 16.1s\tremaining: 7.27s\n",
            "689:\tlearn: 0.0952068\ttotal: 16.1s\tremaining: 7.25s\n",
            "690:\tlearn: 0.0951284\ttotal: 16.1s\tremaining: 7.22s\n",
            "691:\tlearn: 0.0950917\ttotal: 16.2s\tremaining: 7.2s\n",
            "692:\tlearn: 0.0949990\ttotal: 16.2s\tremaining: 7.18s\n",
            "693:\tlearn: 0.0949713\ttotal: 16.2s\tremaining: 7.15s\n",
            "694:\tlearn: 0.0949331\ttotal: 16.2s\tremaining: 7.13s\n",
            "695:\tlearn: 0.0949005\ttotal: 16.3s\tremaining: 7.1s\n",
            "696:\tlearn: 0.0948456\ttotal: 16.3s\tremaining: 7.08s\n",
            "697:\tlearn: 0.0948212\ttotal: 16.3s\tremaining: 7.05s\n",
            "698:\tlearn: 0.0947689\ttotal: 16.3s\tremaining: 7.03s\n",
            "699:\tlearn: 0.0947334\ttotal: 16.3s\tremaining: 7s\n",
            "700:\tlearn: 0.0945727\ttotal: 16.4s\tremaining: 6.98s\n",
            "701:\tlearn: 0.0945446\ttotal: 16.4s\tremaining: 6.96s\n",
            "702:\tlearn: 0.0945139\ttotal: 16.4s\tremaining: 6.93s\n",
            "703:\tlearn: 0.0944776\ttotal: 16.4s\tremaining: 6.91s\n",
            "704:\tlearn: 0.0944365\ttotal: 16.5s\tremaining: 6.88s\n",
            "705:\tlearn: 0.0943598\ttotal: 16.5s\tremaining: 6.86s\n",
            "706:\tlearn: 0.0943284\ttotal: 16.5s\tremaining: 6.84s\n",
            "707:\tlearn: 0.0942868\ttotal: 16.5s\tremaining: 6.81s\n",
            "708:\tlearn: 0.0942350\ttotal: 16.5s\tremaining: 6.79s\n",
            "709:\tlearn: 0.0941761\ttotal: 16.6s\tremaining: 6.77s\n",
            "710:\tlearn: 0.0941420\ttotal: 16.6s\tremaining: 6.74s\n",
            "711:\tlearn: 0.0940669\ttotal: 16.6s\tremaining: 6.72s\n",
            "712:\tlearn: 0.0940279\ttotal: 16.6s\tremaining: 6.69s\n",
            "713:\tlearn: 0.0939844\ttotal: 16.7s\tremaining: 6.67s\n",
            "714:\tlearn: 0.0939500\ttotal: 16.7s\tremaining: 6.65s\n",
            "715:\tlearn: 0.0939041\ttotal: 16.7s\tremaining: 6.62s\n",
            "716:\tlearn: 0.0938482\ttotal: 16.7s\tremaining: 6.6s\n",
            "717:\tlearn: 0.0937949\ttotal: 16.7s\tremaining: 6.58s\n",
            "718:\tlearn: 0.0937732\ttotal: 16.8s\tremaining: 6.55s\n",
            "719:\tlearn: 0.0937268\ttotal: 16.8s\tremaining: 6.53s\n",
            "720:\tlearn: 0.0936889\ttotal: 16.8s\tremaining: 6.5s\n",
            "721:\tlearn: 0.0936526\ttotal: 16.8s\tremaining: 6.48s\n",
            "722:\tlearn: 0.0936244\ttotal: 16.8s\tremaining: 6.45s\n",
            "723:\tlearn: 0.0935875\ttotal: 16.9s\tremaining: 6.43s\n",
            "724:\tlearn: 0.0935445\ttotal: 16.9s\tremaining: 6.41s\n",
            "725:\tlearn: 0.0935236\ttotal: 16.9s\tremaining: 6.38s\n",
            "726:\tlearn: 0.0934858\ttotal: 16.9s\tremaining: 6.36s\n",
            "727:\tlearn: 0.0934545\ttotal: 17s\tremaining: 6.34s\n",
            "728:\tlearn: 0.0934079\ttotal: 17s\tremaining: 6.31s\n",
            "729:\tlearn: 0.0933766\ttotal: 17s\tremaining: 6.29s\n",
            "730:\tlearn: 0.0933310\ttotal: 17s\tremaining: 6.27s\n",
            "731:\tlearn: 0.0932889\ttotal: 17.1s\tremaining: 6.24s\n",
            "732:\tlearn: 0.0932534\ttotal: 17.1s\tremaining: 6.22s\n",
            "733:\tlearn: 0.0931962\ttotal: 17.1s\tremaining: 6.2s\n",
            "734:\tlearn: 0.0931681\ttotal: 17.1s\tremaining: 6.17s\n",
            "735:\tlearn: 0.0931155\ttotal: 17.2s\tremaining: 6.15s\n",
            "736:\tlearn: 0.0930754\ttotal: 17.2s\tremaining: 6.13s\n",
            "737:\tlearn: 0.0930476\ttotal: 17.2s\tremaining: 6.11s\n",
            "738:\tlearn: 0.0930071\ttotal: 17.2s\tremaining: 6.08s\n",
            "739:\tlearn: 0.0929551\ttotal: 17.2s\tremaining: 6.06s\n",
            "740:\tlearn: 0.0929147\ttotal: 17.3s\tremaining: 6.04s\n",
            "741:\tlearn: 0.0928315\ttotal: 17.3s\tremaining: 6.01s\n",
            "742:\tlearn: 0.0927821\ttotal: 17.3s\tremaining: 5.99s\n",
            "743:\tlearn: 0.0927447\ttotal: 17.3s\tremaining: 5.97s\n",
            "744:\tlearn: 0.0927064\ttotal: 17.4s\tremaining: 5.95s\n",
            "745:\tlearn: 0.0926740\ttotal: 17.4s\tremaining: 5.92s\n",
            "746:\tlearn: 0.0926405\ttotal: 17.4s\tremaining: 5.9s\n",
            "747:\tlearn: 0.0925932\ttotal: 17.4s\tremaining: 5.88s\n",
            "748:\tlearn: 0.0925476\ttotal: 17.5s\tremaining: 5.86s\n",
            "749:\tlearn: 0.0925046\ttotal: 17.5s\tremaining: 5.83s\n",
            "750:\tlearn: 0.0924301\ttotal: 17.5s\tremaining: 5.81s\n",
            "751:\tlearn: 0.0923751\ttotal: 17.5s\tremaining: 5.79s\n",
            "752:\tlearn: 0.0923008\ttotal: 17.6s\tremaining: 5.76s\n",
            "753:\tlearn: 0.0922495\ttotal: 17.6s\tremaining: 5.74s\n",
            "754:\tlearn: 0.0922233\ttotal: 17.6s\tremaining: 5.71s\n",
            "755:\tlearn: 0.0921796\ttotal: 17.6s\tremaining: 5.69s\n",
            "756:\tlearn: 0.0921581\ttotal: 17.7s\tremaining: 5.67s\n",
            "757:\tlearn: 0.0921005\ttotal: 17.7s\tremaining: 5.64s\n",
            "758:\tlearn: 0.0920673\ttotal: 17.7s\tremaining: 5.62s\n",
            "759:\tlearn: 0.0920165\ttotal: 17.7s\tremaining: 5.6s\n",
            "760:\tlearn: 0.0919647\ttotal: 17.7s\tremaining: 5.57s\n",
            "761:\tlearn: 0.0919284\ttotal: 17.8s\tremaining: 5.55s\n",
            "762:\tlearn: 0.0918885\ttotal: 17.8s\tremaining: 5.53s\n",
            "763:\tlearn: 0.0918380\ttotal: 17.8s\tremaining: 5.5s\n",
            "764:\tlearn: 0.0918016\ttotal: 17.8s\tremaining: 5.48s\n",
            "765:\tlearn: 0.0917814\ttotal: 17.9s\tremaining: 5.45s\n",
            "766:\tlearn: 0.0917456\ttotal: 17.9s\tremaining: 5.43s\n",
            "767:\tlearn: 0.0917056\ttotal: 17.9s\tremaining: 5.41s\n",
            "768:\tlearn: 0.0916183\ttotal: 17.9s\tremaining: 5.38s\n",
            "769:\tlearn: 0.0915879\ttotal: 17.9s\tremaining: 5.36s\n",
            "770:\tlearn: 0.0915472\ttotal: 18s\tremaining: 5.34s\n",
            "771:\tlearn: 0.0915086\ttotal: 18s\tremaining: 5.31s\n",
            "772:\tlearn: 0.0914719\ttotal: 18s\tremaining: 5.29s\n",
            "773:\tlearn: 0.0914187\ttotal: 18s\tremaining: 5.26s\n",
            "774:\tlearn: 0.0913742\ttotal: 18.1s\tremaining: 5.24s\n",
            "775:\tlearn: 0.0913477\ttotal: 18.1s\tremaining: 5.22s\n",
            "776:\tlearn: 0.0913096\ttotal: 18.1s\tremaining: 5.2s\n",
            "777:\tlearn: 0.0912655\ttotal: 18.1s\tremaining: 5.17s\n",
            "778:\tlearn: 0.0912345\ttotal: 18.1s\tremaining: 5.15s\n",
            "779:\tlearn: 0.0911989\ttotal: 18.2s\tremaining: 5.12s\n",
            "780:\tlearn: 0.0911423\ttotal: 18.2s\tremaining: 5.1s\n",
            "781:\tlearn: 0.0911076\ttotal: 18.2s\tremaining: 5.08s\n",
            "782:\tlearn: 0.0910734\ttotal: 18.2s\tremaining: 5.05s\n",
            "783:\tlearn: 0.0910442\ttotal: 18.3s\tremaining: 5.03s\n",
            "784:\tlearn: 0.0909964\ttotal: 18.3s\tremaining: 5s\n",
            "785:\tlearn: 0.0909620\ttotal: 18.3s\tremaining: 4.98s\n",
            "786:\tlearn: 0.0909261\ttotal: 18.3s\tremaining: 4.96s\n",
            "787:\tlearn: 0.0908957\ttotal: 18.3s\tremaining: 4.93s\n",
            "788:\tlearn: 0.0908482\ttotal: 18.4s\tremaining: 4.91s\n",
            "789:\tlearn: 0.0908171\ttotal: 18.4s\tremaining: 4.89s\n",
            "790:\tlearn: 0.0907706\ttotal: 18.4s\tremaining: 4.86s\n",
            "791:\tlearn: 0.0907210\ttotal: 18.4s\tremaining: 4.84s\n",
            "792:\tlearn: 0.0906939\ttotal: 18.4s\tremaining: 4.82s\n",
            "793:\tlearn: 0.0906643\ttotal: 18.5s\tremaining: 4.79s\n",
            "794:\tlearn: 0.0906364\ttotal: 18.5s\tremaining: 4.77s\n",
            "795:\tlearn: 0.0905881\ttotal: 18.5s\tremaining: 4.75s\n",
            "796:\tlearn: 0.0905470\ttotal: 18.5s\tremaining: 4.72s\n",
            "797:\tlearn: 0.0905164\ttotal: 18.6s\tremaining: 4.7s\n",
            "798:\tlearn: 0.0905019\ttotal: 18.6s\tremaining: 4.67s\n",
            "799:\tlearn: 0.0904261\ttotal: 18.6s\tremaining: 4.65s\n",
            "800:\tlearn: 0.0904038\ttotal: 18.6s\tremaining: 4.63s\n",
            "801:\tlearn: 0.0903648\ttotal: 18.6s\tremaining: 4.6s\n",
            "802:\tlearn: 0.0903157\ttotal: 18.7s\tremaining: 4.58s\n",
            "803:\tlearn: 0.0902815\ttotal: 18.7s\tremaining: 4.56s\n",
            "804:\tlearn: 0.0902612\ttotal: 18.7s\tremaining: 4.53s\n",
            "805:\tlearn: 0.0902339\ttotal: 18.7s\tremaining: 4.51s\n",
            "806:\tlearn: 0.0901918\ttotal: 18.8s\tremaining: 4.49s\n",
            "807:\tlearn: 0.0901649\ttotal: 18.8s\tremaining: 4.46s\n",
            "808:\tlearn: 0.0901204\ttotal: 18.8s\tremaining: 4.44s\n",
            "809:\tlearn: 0.0900908\ttotal: 18.8s\tremaining: 4.42s\n",
            "810:\tlearn: 0.0900593\ttotal: 18.8s\tremaining: 4.39s\n",
            "811:\tlearn: 0.0899842\ttotal: 18.9s\tremaining: 4.37s\n",
            "812:\tlearn: 0.0899420\ttotal: 18.9s\tremaining: 4.35s\n",
            "813:\tlearn: 0.0899052\ttotal: 18.9s\tremaining: 4.32s\n",
            "814:\tlearn: 0.0898643\ttotal: 18.9s\tremaining: 4.3s\n",
            "815:\tlearn: 0.0898203\ttotal: 19s\tremaining: 4.28s\n",
            "816:\tlearn: 0.0897632\ttotal: 19s\tremaining: 4.25s\n",
            "817:\tlearn: 0.0897395\ttotal: 19s\tremaining: 4.23s\n",
            "818:\tlearn: 0.0897011\ttotal: 19s\tremaining: 4.2s\n",
            "819:\tlearn: 0.0896190\ttotal: 19.1s\tremaining: 4.18s\n",
            "820:\tlearn: 0.0895649\ttotal: 19.1s\tremaining: 4.16s\n",
            "821:\tlearn: 0.0895260\ttotal: 19.1s\tremaining: 4.13s\n",
            "822:\tlearn: 0.0894812\ttotal: 19.1s\tremaining: 4.11s\n",
            "823:\tlearn: 0.0894372\ttotal: 19.1s\tremaining: 4.09s\n",
            "824:\tlearn: 0.0894007\ttotal: 19.2s\tremaining: 4.07s\n",
            "825:\tlearn: 0.0893607\ttotal: 19.2s\tremaining: 4.04s\n",
            "826:\tlearn: 0.0893247\ttotal: 19.2s\tremaining: 4.02s\n",
            "827:\tlearn: 0.0892977\ttotal: 19.2s\tremaining: 4s\n",
            "828:\tlearn: 0.0892603\ttotal: 19.3s\tremaining: 3.98s\n",
            "829:\tlearn: 0.0892247\ttotal: 19.3s\tremaining: 3.95s\n",
            "830:\tlearn: 0.0891932\ttotal: 19.3s\tremaining: 3.93s\n",
            "831:\tlearn: 0.0891682\ttotal: 19.4s\tremaining: 3.91s\n",
            "832:\tlearn: 0.0891449\ttotal: 19.4s\tremaining: 3.88s\n",
            "833:\tlearn: 0.0891039\ttotal: 19.4s\tremaining: 3.86s\n",
            "834:\tlearn: 0.0890657\ttotal: 19.4s\tremaining: 3.84s\n",
            "835:\tlearn: 0.0890419\ttotal: 19.5s\tremaining: 3.82s\n",
            "836:\tlearn: 0.0890112\ttotal: 19.5s\tremaining: 3.79s\n",
            "837:\tlearn: 0.0889900\ttotal: 19.5s\tremaining: 3.77s\n",
            "838:\tlearn: 0.0889610\ttotal: 19.5s\tremaining: 3.75s\n",
            "839:\tlearn: 0.0889229\ttotal: 19.5s\tremaining: 3.72s\n",
            "840:\tlearn: 0.0888724\ttotal: 19.6s\tremaining: 3.7s\n",
            "841:\tlearn: 0.0888502\ttotal: 19.6s\tremaining: 3.67s\n",
            "842:\tlearn: 0.0887706\ttotal: 19.6s\tremaining: 3.65s\n",
            "843:\tlearn: 0.0887395\ttotal: 19.6s\tremaining: 3.63s\n",
            "844:\tlearn: 0.0887066\ttotal: 19.7s\tremaining: 3.6s\n",
            "845:\tlearn: 0.0886676\ttotal: 19.7s\tremaining: 3.58s\n",
            "846:\tlearn: 0.0886209\ttotal: 19.7s\tremaining: 3.56s\n",
            "847:\tlearn: 0.0885931\ttotal: 19.7s\tremaining: 3.53s\n",
            "848:\tlearn: 0.0885352\ttotal: 19.7s\tremaining: 3.51s\n",
            "849:\tlearn: 0.0884973\ttotal: 19.8s\tremaining: 3.49s\n",
            "850:\tlearn: 0.0884543\ttotal: 19.8s\tremaining: 3.46s\n",
            "851:\tlearn: 0.0884233\ttotal: 19.8s\tremaining: 3.44s\n",
            "852:\tlearn: 0.0883994\ttotal: 19.8s\tremaining: 3.42s\n",
            "853:\tlearn: 0.0883734\ttotal: 19.8s\tremaining: 3.39s\n",
            "854:\tlearn: 0.0883470\ttotal: 19.9s\tremaining: 3.37s\n",
            "855:\tlearn: 0.0883101\ttotal: 19.9s\tremaining: 3.35s\n",
            "856:\tlearn: 0.0882885\ttotal: 19.9s\tremaining: 3.32s\n",
            "857:\tlearn: 0.0882641\ttotal: 19.9s\tremaining: 3.3s\n",
            "858:\tlearn: 0.0882401\ttotal: 20s\tremaining: 3.27s\n",
            "859:\tlearn: 0.0882029\ttotal: 20s\tremaining: 3.25s\n",
            "860:\tlearn: 0.0881654\ttotal: 20s\tremaining: 3.23s\n",
            "861:\tlearn: 0.0881264\ttotal: 20s\tremaining: 3.21s\n",
            "862:\tlearn: 0.0880979\ttotal: 20s\tremaining: 3.18s\n",
            "863:\tlearn: 0.0880518\ttotal: 20.1s\tremaining: 3.16s\n",
            "864:\tlearn: 0.0880142\ttotal: 20.1s\tremaining: 3.13s\n",
            "865:\tlearn: 0.0879989\ttotal: 20.1s\tremaining: 3.11s\n",
            "866:\tlearn: 0.0879629\ttotal: 20.1s\tremaining: 3.09s\n",
            "867:\tlearn: 0.0879258\ttotal: 20.1s\tremaining: 3.06s\n",
            "868:\tlearn: 0.0878878\ttotal: 20.2s\tremaining: 3.04s\n",
            "869:\tlearn: 0.0878633\ttotal: 20.2s\tremaining: 3.02s\n",
            "870:\tlearn: 0.0878298\ttotal: 20.2s\tremaining: 2.99s\n",
            "871:\tlearn: 0.0877999\ttotal: 20.2s\tremaining: 2.97s\n",
            "872:\tlearn: 0.0877574\ttotal: 20.3s\tremaining: 2.95s\n",
            "873:\tlearn: 0.0877151\ttotal: 20.3s\tremaining: 2.92s\n",
            "874:\tlearn: 0.0876660\ttotal: 20.3s\tremaining: 2.9s\n",
            "875:\tlearn: 0.0876183\ttotal: 20.3s\tremaining: 2.88s\n",
            "876:\tlearn: 0.0875819\ttotal: 20.3s\tremaining: 2.85s\n",
            "877:\tlearn: 0.0875481\ttotal: 20.4s\tremaining: 2.83s\n",
            "878:\tlearn: 0.0875027\ttotal: 20.4s\tremaining: 2.81s\n",
            "879:\tlearn: 0.0874819\ttotal: 20.4s\tremaining: 2.78s\n",
            "880:\tlearn: 0.0874484\ttotal: 20.4s\tremaining: 2.76s\n",
            "881:\tlearn: 0.0874099\ttotal: 20.5s\tremaining: 2.74s\n",
            "882:\tlearn: 0.0873553\ttotal: 20.5s\tremaining: 2.71s\n",
            "883:\tlearn: 0.0873346\ttotal: 20.5s\tremaining: 2.69s\n",
            "884:\tlearn: 0.0873007\ttotal: 20.5s\tremaining: 2.67s\n",
            "885:\tlearn: 0.0872664\ttotal: 20.5s\tremaining: 2.64s\n",
            "886:\tlearn: 0.0872371\ttotal: 20.6s\tremaining: 2.62s\n",
            "887:\tlearn: 0.0871998\ttotal: 20.6s\tremaining: 2.6s\n",
            "888:\tlearn: 0.0871389\ttotal: 20.6s\tremaining: 2.57s\n",
            "889:\tlearn: 0.0870849\ttotal: 20.6s\tremaining: 2.55s\n",
            "890:\tlearn: 0.0870507\ttotal: 20.7s\tremaining: 2.53s\n",
            "891:\tlearn: 0.0870208\ttotal: 20.7s\tremaining: 2.5s\n",
            "892:\tlearn: 0.0870023\ttotal: 20.7s\tremaining: 2.48s\n",
            "893:\tlearn: 0.0869461\ttotal: 20.7s\tremaining: 2.46s\n",
            "894:\tlearn: 0.0869170\ttotal: 20.8s\tremaining: 2.43s\n",
            "895:\tlearn: 0.0868913\ttotal: 20.8s\tremaining: 2.41s\n",
            "896:\tlearn: 0.0868621\ttotal: 20.8s\tremaining: 2.39s\n",
            "897:\tlearn: 0.0868247\ttotal: 20.8s\tremaining: 2.37s\n",
            "898:\tlearn: 0.0868012\ttotal: 20.8s\tremaining: 2.34s\n",
            "899:\tlearn: 0.0867720\ttotal: 20.9s\tremaining: 2.32s\n",
            "900:\tlearn: 0.0867454\ttotal: 20.9s\tremaining: 2.29s\n",
            "901:\tlearn: 0.0867101\ttotal: 20.9s\tremaining: 2.27s\n",
            "902:\tlearn: 0.0866797\ttotal: 20.9s\tremaining: 2.25s\n",
            "903:\tlearn: 0.0866366\ttotal: 21s\tremaining: 2.23s\n",
            "904:\tlearn: 0.0865745\ttotal: 21s\tremaining: 2.2s\n",
            "905:\tlearn: 0.0865379\ttotal: 21s\tremaining: 2.18s\n",
            "906:\tlearn: 0.0865166\ttotal: 21s\tremaining: 2.15s\n",
            "907:\tlearn: 0.0864863\ttotal: 21s\tremaining: 2.13s\n",
            "908:\tlearn: 0.0864494\ttotal: 21.1s\tremaining: 2.11s\n",
            "909:\tlearn: 0.0864152\ttotal: 21.1s\tremaining: 2.08s\n",
            "910:\tlearn: 0.0863819\ttotal: 21.1s\tremaining: 2.06s\n",
            "911:\tlearn: 0.0863311\ttotal: 21.1s\tremaining: 2.04s\n",
            "912:\tlearn: 0.0862959\ttotal: 21.2s\tremaining: 2.02s\n",
            "913:\tlearn: 0.0862700\ttotal: 21.2s\tremaining: 1.99s\n",
            "914:\tlearn: 0.0862165\ttotal: 21.2s\tremaining: 1.97s\n",
            "915:\tlearn: 0.0861570\ttotal: 21.2s\tremaining: 1.95s\n",
            "916:\tlearn: 0.0861337\ttotal: 21.2s\tremaining: 1.92s\n",
            "917:\tlearn: 0.0860946\ttotal: 21.3s\tremaining: 1.9s\n",
            "918:\tlearn: 0.0860756\ttotal: 21.3s\tremaining: 1.88s\n",
            "919:\tlearn: 0.0860515\ttotal: 21.3s\tremaining: 1.85s\n",
            "920:\tlearn: 0.0860403\ttotal: 21.3s\tremaining: 1.83s\n",
            "921:\tlearn: 0.0860080\ttotal: 21.4s\tremaining: 1.81s\n",
            "922:\tlearn: 0.0859755\ttotal: 21.4s\tremaining: 1.78s\n",
            "923:\tlearn: 0.0859540\ttotal: 21.4s\tremaining: 1.76s\n",
            "924:\tlearn: 0.0859185\ttotal: 21.4s\tremaining: 1.74s\n",
            "925:\tlearn: 0.0858856\ttotal: 21.4s\tremaining: 1.71s\n",
            "926:\tlearn: 0.0858482\ttotal: 21.5s\tremaining: 1.69s\n",
            "927:\tlearn: 0.0858122\ttotal: 21.5s\tremaining: 1.67s\n",
            "928:\tlearn: 0.0857807\ttotal: 21.5s\tremaining: 1.64s\n",
            "929:\tlearn: 0.0857455\ttotal: 21.5s\tremaining: 1.62s\n",
            "930:\tlearn: 0.0857036\ttotal: 21.6s\tremaining: 1.6s\n",
            "931:\tlearn: 0.0856758\ttotal: 21.6s\tremaining: 1.57s\n",
            "932:\tlearn: 0.0856458\ttotal: 21.6s\tremaining: 1.55s\n",
            "933:\tlearn: 0.0855979\ttotal: 21.6s\tremaining: 1.53s\n",
            "934:\tlearn: 0.0855637\ttotal: 21.6s\tremaining: 1.5s\n",
            "935:\tlearn: 0.0855211\ttotal: 21.7s\tremaining: 1.48s\n",
            "936:\tlearn: 0.0854911\ttotal: 21.7s\tremaining: 1.46s\n",
            "937:\tlearn: 0.0854561\ttotal: 21.7s\tremaining: 1.44s\n",
            "938:\tlearn: 0.0854168\ttotal: 21.7s\tremaining: 1.41s\n",
            "939:\tlearn: 0.0853827\ttotal: 21.8s\tremaining: 1.39s\n",
            "940:\tlearn: 0.0853624\ttotal: 21.8s\tremaining: 1.36s\n",
            "941:\tlearn: 0.0853258\ttotal: 21.8s\tremaining: 1.34s\n",
            "942:\tlearn: 0.0852698\ttotal: 21.8s\tremaining: 1.32s\n",
            "943:\tlearn: 0.0852427\ttotal: 21.8s\tremaining: 1.3s\n",
            "944:\tlearn: 0.0852093\ttotal: 21.9s\tremaining: 1.27s\n",
            "945:\tlearn: 0.0851842\ttotal: 21.9s\tremaining: 1.25s\n",
            "946:\tlearn: 0.0851392\ttotal: 21.9s\tremaining: 1.23s\n",
            "947:\tlearn: 0.0851177\ttotal: 21.9s\tremaining: 1.2s\n",
            "948:\tlearn: 0.0850920\ttotal: 22s\tremaining: 1.18s\n",
            "949:\tlearn: 0.0850645\ttotal: 22s\tremaining: 1.16s\n",
            "950:\tlearn: 0.0850101\ttotal: 22s\tremaining: 1.13s\n",
            "951:\tlearn: 0.0849484\ttotal: 22s\tremaining: 1.11s\n",
            "952:\tlearn: 0.0849085\ttotal: 22.1s\tremaining: 1.09s\n",
            "953:\tlearn: 0.0848784\ttotal: 22.1s\tremaining: 1.06s\n",
            "954:\tlearn: 0.0848424\ttotal: 22.1s\tremaining: 1.04s\n",
            "955:\tlearn: 0.0848322\ttotal: 22.1s\tremaining: 1.02s\n",
            "956:\tlearn: 0.0848126\ttotal: 22.1s\tremaining: 995ms\n",
            "957:\tlearn: 0.0847936\ttotal: 22.2s\tremaining: 972ms\n",
            "958:\tlearn: 0.0847612\ttotal: 22.2s\tremaining: 949ms\n",
            "959:\tlearn: 0.0847143\ttotal: 22.2s\tremaining: 925ms\n",
            "960:\tlearn: 0.0846726\ttotal: 22.2s\tremaining: 902ms\n",
            "961:\tlearn: 0.0846411\ttotal: 22.3s\tremaining: 879ms\n",
            "962:\tlearn: 0.0845869\ttotal: 22.3s\tremaining: 856ms\n",
            "963:\tlearn: 0.0845610\ttotal: 22.3s\tremaining: 833ms\n",
            "964:\tlearn: 0.0845170\ttotal: 22.3s\tremaining: 810ms\n",
            "965:\tlearn: 0.0844818\ttotal: 22.3s\tremaining: 787ms\n",
            "966:\tlearn: 0.0844394\ttotal: 22.4s\tremaining: 763ms\n",
            "967:\tlearn: 0.0843934\ttotal: 22.4s\tremaining: 740ms\n",
            "968:\tlearn: 0.0843545\ttotal: 22.4s\tremaining: 717ms\n",
            "969:\tlearn: 0.0843165\ttotal: 22.4s\tremaining: 694ms\n",
            "970:\tlearn: 0.0842736\ttotal: 22.5s\tremaining: 671ms\n",
            "971:\tlearn: 0.0842432\ttotal: 22.5s\tremaining: 648ms\n",
            "972:\tlearn: 0.0842195\ttotal: 22.5s\tremaining: 625ms\n",
            "973:\tlearn: 0.0841643\ttotal: 22.5s\tremaining: 601ms\n",
            "974:\tlearn: 0.0841427\ttotal: 22.6s\tremaining: 578ms\n",
            "975:\tlearn: 0.0840917\ttotal: 22.6s\tremaining: 555ms\n",
            "976:\tlearn: 0.0840628\ttotal: 22.6s\tremaining: 532ms\n",
            "977:\tlearn: 0.0840277\ttotal: 22.6s\tremaining: 509ms\n",
            "978:\tlearn: 0.0839986\ttotal: 22.6s\tremaining: 486ms\n",
            "979:\tlearn: 0.0839812\ttotal: 22.7s\tremaining: 462ms\n",
            "980:\tlearn: 0.0839463\ttotal: 22.7s\tremaining: 439ms\n",
            "981:\tlearn: 0.0839005\ttotal: 22.7s\tremaining: 416ms\n",
            "982:\tlearn: 0.0838503\ttotal: 22.7s\tremaining: 393ms\n",
            "983:\tlearn: 0.0838141\ttotal: 22.8s\tremaining: 370ms\n",
            "984:\tlearn: 0.0837856\ttotal: 22.8s\tremaining: 347ms\n",
            "985:\tlearn: 0.0837436\ttotal: 22.8s\tremaining: 324ms\n",
            "986:\tlearn: 0.0837033\ttotal: 22.8s\tremaining: 301ms\n",
            "987:\tlearn: 0.0836768\ttotal: 22.8s\tremaining: 277ms\n",
            "988:\tlearn: 0.0836580\ttotal: 22.9s\tremaining: 254ms\n",
            "989:\tlearn: 0.0836438\ttotal: 22.9s\tremaining: 231ms\n",
            "990:\tlearn: 0.0835977\ttotal: 22.9s\tremaining: 208ms\n",
            "991:\tlearn: 0.0835642\ttotal: 22.9s\tremaining: 185ms\n",
            "992:\tlearn: 0.0835331\ttotal: 22.9s\tremaining: 162ms\n",
            "993:\tlearn: 0.0834936\ttotal: 23s\tremaining: 139ms\n",
            "994:\tlearn: 0.0834534\ttotal: 23s\tremaining: 116ms\n",
            "995:\tlearn: 0.0834173\ttotal: 23s\tremaining: 92.4ms\n",
            "996:\tlearn: 0.0834071\ttotal: 23s\tremaining: 69.3ms\n",
            "997:\tlearn: 0.0833695\ttotal: 23.1s\tremaining: 46.2ms\n",
            "998:\tlearn: 0.0833392\ttotal: 23.1s\tremaining: 23.1ms\n",
            "999:\tlearn: 0.0833137\ttotal: 23.1s\tremaining: 0us\n"
          ],
          "name": "stdout"
        },
        {
          "output_type": "execute_result",
          "data": {
            "text/plain": [
              "<catboost.core.CatBoostClassifier at 0x1ddae3e4280>"
            ]
          },
          "metadata": {
            "tags": []
          },
          "execution_count": 49
        }
      ]
    },
    {
      "cell_type": "code",
      "metadata": {
        "id": "5u9oXrtTuVoo",
        "outputId": "07640304-9c1c-4be5-b51d-4a617ea4a97b"
      },
      "source": [
        "cat.score(x_test, y_test)"
      ],
      "execution_count": null,
      "outputs": [
        {
          "output_type": "execute_result",
          "data": {
            "text/plain": [
              "0.9428839830906529"
            ]
          },
          "metadata": {
            "tags": []
          },
          "execution_count": 50
        }
      ]
    },
    {
      "cell_type": "code",
      "metadata": {
        "id": "DevOgrIJuVoo",
        "outputId": "3faf39e4-97ef-4b54-dce4-48ba6b610c95"
      },
      "source": [
        "pred_cat = cat.predict(x_test)\n",
        "print(classification_report(y_test, pred_cat))"
      ],
      "execution_count": null,
      "outputs": [
        {
          "output_type": "stream",
          "text": [
            "              precision    recall  f1-score   support\n",
            "\n",
            "           0       0.94      0.95      0.94      5278\n",
            "           1       0.95      0.94      0.94      5367\n",
            "\n",
            "    accuracy                           0.94     10645\n",
            "   macro avg       0.94      0.94      0.94     10645\n",
            "weighted avg       0.94      0.94      0.94     10645\n",
            "\n"
          ],
          "name": "stdout"
        }
      ]
    },
    {
      "cell_type": "markdown",
      "metadata": {
        "id": "B4ecr8mpuVop"
      },
      "source": [
        "#### LGBM "
      ]
    },
    {
      "cell_type": "code",
      "metadata": {
        "id": "Dmd597BfuVoq",
        "outputId": "b5831185-c7df-4133-aacd-9601c754e6fa"
      },
      "source": [
        "lgb = LGBMClassifier()\n",
        "lgb.fit(x_train, y_train)"
      ],
      "execution_count": null,
      "outputs": [
        {
          "output_type": "execute_result",
          "data": {
            "text/plain": [
              "LGBMClassifier()"
            ]
          },
          "metadata": {
            "tags": []
          },
          "execution_count": 86
        }
      ]
    },
    {
      "cell_type": "code",
      "metadata": {
        "id": "P2QFKGuEuVoq",
        "outputId": "3bfc8ca2-93f2-4a67-b5d5-73c3efd36a28"
      },
      "source": [
        "lgb.score(x_test, y_test)"
      ],
      "execution_count": null,
      "outputs": [
        {
          "output_type": "execute_result",
          "data": {
            "text/plain": [
              "0.9457022076092062"
            ]
          },
          "metadata": {
            "tags": []
          },
          "execution_count": 87
        }
      ]
    },
    {
      "cell_type": "code",
      "metadata": {
        "id": "JJj45HGFuVor",
        "outputId": "1e056195-484a-45d2-a5a1-b3bf47d447ba"
      },
      "source": [
        "pred_lgb = lgb.predict(x_test)\n",
        "print(classification_report(y_test, pred_lgb))"
      ],
      "execution_count": null,
      "outputs": [
        {
          "output_type": "stream",
          "text": [
            "              precision    recall  f1-score   support\n",
            "\n",
            "           0       0.94      0.95      0.95      5278\n",
            "           1       0.95      0.95      0.95      5367\n",
            "\n",
            "    accuracy                           0.95     10645\n",
            "   macro avg       0.95      0.95      0.95     10645\n",
            "weighted avg       0.95      0.95      0.95     10645\n",
            "\n"
          ],
          "name": "stdout"
        }
      ]
    },
    {
      "cell_type": "code",
      "metadata": {
        "id": "KyRpaJn9uVor"
      },
      "source": [
        "lgb_featimp = pd.DataFrame(lgb.feature_importances_, index=x_train.columns).sort_values(by=0,ascending=False)"
      ],
      "execution_count": null,
      "outputs": []
    },
    {
      "cell_type": "code",
      "metadata": {
        "id": "IZ2HTOa0uVor",
        "outputId": "80829273-4393-4b04-f603-0b80992fc635"
      },
      "source": [
        "## Feature importance LGBM\n",
        "\n",
        "plt.figure(figsize=(10,12))\n",
        "sort_lgb = lgb.feature_importances_.argsort()\n",
        "plt.barh(x_train.columns[sort_lgb], lgb.feature_importances_[sort_lgb])\n",
        "plt.show()"
      ],
      "execution_count": null,
      "outputs": [
        {
          "output_type": "display_data",
          "data": {
            "image/png": "[encoded data removed]",
            "text/plain": [
              "<Figure size 720x864 with 1 Axes>"
            ]
          },
          "metadata": {
            "tags": [],
            "needs_background": "light"
          }
        }
      ]
    },
    {
      "cell_type": "markdown",
      "metadata": {
        "id": "s9yjTbDtuVos"
      },
      "source": [
        "#### Voting Classifier "
      ]
    },
    {
      "cell_type": "code",
      "metadata": {
        "id": "cQe26BxeuVos"
      },
      "source": [
        "estimator = [] \n",
        "estimator.append(('LR',  \n",
        "                  LogisticRegression(max_iter = 10000))) \n",
        "estimator.append(('KNN', KNeighborsClassifier(n_neighbors=5, metric='minkowski', p=2 ))) \n",
        "estimator.append(('DTC', DecisionTreeClassifier())) "
      ],
      "execution_count": null,
      "outputs": []
    },
    {
      "cell_type": "code",
      "metadata": {
        "id": "E6OvnPU0uVot"
      },
      "source": [
        "vot_soft = VotingClassifier(estimators = estimator, voting ='soft') "
      ],
      "execution_count": null,
      "outputs": []
    },
    {
      "cell_type": "code",
      "metadata": {
        "id": "d3pFQw6muVot",
        "outputId": "9da19af2-f638-48c9-f0ae-899335e324d7"
      },
      "source": [
        "vot_soft.fit(x_train, y_train)"
      ],
      "execution_count": null,
      "outputs": [
        {
          "output_type": "execute_result",
          "data": {
            "text/plain": [
              "VotingClassifier(estimators=[('LR', LogisticRegression(max_iter=10000)),\n",
              "                             ('KNN', KNeighborsClassifier()),\n",
              "                             ('DTC', DecisionTreeClassifier())],\n",
              "                 voting='soft')"
            ]
          },
          "metadata": {
            "tags": []
          },
          "execution_count": 68
        }
      ]
    },
    {
      "cell_type": "code",
      "metadata": {
        "id": "WyPxJz_VuVou",
        "outputId": "4a166c15-2c81-4b07-96d7-41f5612a84e7"
      },
      "source": [
        "vot_soft.score(x_test, y_test)"
      ],
      "execution_count": null,
      "outputs": [
        {
          "output_type": "execute_result",
          "data": {
            "text/plain": [
              "0.9389384687646782"
            ]
          },
          "metadata": {
            "tags": []
          },
          "execution_count": 71
        }
      ]
    },
    {
      "cell_type": "code",
      "metadata": {
        "id": "rJNCzXxxuVov",
        "outputId": "b94a4c45-cd64-41ce-8a09-4ee0799aa1c5"
      },
      "source": [
        "pred_vot_soft = vot_soft.predict(x_test)\n",
        "print(classification_report(y_test, pred_vot_soft))"
      ],
      "execution_count": null,
      "outputs": [
        {
          "output_type": "stream",
          "text": [
            "              precision    recall  f1-score   support\n",
            "\n",
            "           0       0.95      0.92      0.94      5278\n",
            "           1       0.92      0.96      0.94      5367\n",
            "\n",
            "    accuracy                           0.94     10645\n",
            "   macro avg       0.94      0.94      0.94     10645\n",
            "weighted avg       0.94      0.94      0.94     10645\n",
            "\n"
          ],
          "name": "stdout"
        }
      ]
    },
    {
      "cell_type": "markdown",
      "metadata": {
        "id": "mWqQZVfguVov"
      },
      "source": [
        "### No upsampling technique used and Label Encoded"
      ]
    },
    {
      "cell_type": "code",
      "metadata": {
        "id": "RFc1OLVjuVow"
      },
      "source": [
        "\n",
        "x1_train,x1_test,y1_train,y1_test = train_test_split(x1,y1,test_size=0.2,random_state=42)"
      ],
      "execution_count": null,
      "outputs": []
    },
    {
      "cell_type": "markdown",
      "metadata": {
        "id": "op0lfWkHuVow"
      },
      "source": [
        "#### Catboost "
      ]
    },
    {
      "cell_type": "code",
      "metadata": {
        "id": "FDS0JhduuVox",
        "outputId": "f4cb8ed0-6f3f-49a7-e787-d165366f3f92"
      },
      "source": [
        "cat.fit(x1_train, y1_train)"
      ],
      "execution_count": null,
      "outputs": [
        {
          "output_type": "stream",
          "text": [
            "Learning rate set to 0.040286\n",
            "0:\tlearn: 0.6195727\ttotal: 29.2ms\tremaining: 29.1s\n",
            "1:\tlearn: 0.5658136\ttotal: 53.9ms\tremaining: 26.9s\n",
            "2:\tlearn: 0.5240560\ttotal: 74.2ms\tremaining: 24.7s\n",
            "3:\tlearn: 0.4894272\ttotal: 96.2ms\tremaining: 23.9s\n",
            "4:\tlearn: 0.4535505\ttotal: 116ms\tremaining: 23.1s\n",
            "5:\tlearn: 0.4281995\ttotal: 139ms\tremaining: 23s\n",
            "6:\tlearn: 0.4049760\ttotal: 159ms\tremaining: 22.6s\n",
            "7:\tlearn: 0.3813578\ttotal: 186ms\tremaining: 23.1s\n",
            "8:\tlearn: 0.3614208\ttotal: 208ms\tremaining: 22.9s\n",
            "9:\tlearn: 0.3475701\ttotal: 229ms\tremaining: 22.6s\n",
            "10:\tlearn: 0.3333573\ttotal: 254ms\tremaining: 22.8s\n",
            "11:\tlearn: 0.3230448\ttotal: 277ms\tremaining: 22.8s\n",
            "12:\tlearn: 0.3123690\ttotal: 304ms\tremaining: 23.1s\n",
            "13:\tlearn: 0.3016555\ttotal: 324ms\tremaining: 22.8s\n",
            "14:\tlearn: 0.2927591\ttotal: 345ms\tremaining: 22.7s\n",
            "15:\tlearn: 0.2832380\ttotal: 365ms\tremaining: 22.5s\n",
            "16:\tlearn: 0.2754900\ttotal: 391ms\tremaining: 22.6s\n",
            "17:\tlearn: 0.2711581\ttotal: 411ms\tremaining: 22.4s\n",
            "18:\tlearn: 0.2671381\ttotal: 434ms\tremaining: 22.4s\n",
            "19:\tlearn: 0.2614278\ttotal: 454ms\tremaining: 22.2s\n",
            "20:\tlearn: 0.2566342\ttotal: 475ms\tremaining: 22.1s\n",
            "21:\tlearn: 0.2505374\ttotal: 495ms\tremaining: 22s\n",
            "22:\tlearn: 0.2469184\ttotal: 518ms\tremaining: 22s\n",
            "23:\tlearn: 0.2450195\ttotal: 537ms\tremaining: 21.8s\n",
            "24:\tlearn: 0.2413624\ttotal: 559ms\tremaining: 21.8s\n",
            "25:\tlearn: 0.2382140\ttotal: 587ms\tremaining: 22s\n",
            "26:\tlearn: 0.2350339\ttotal: 607ms\tremaining: 21.9s\n",
            "27:\tlearn: 0.2308359\ttotal: 626ms\tremaining: 21.7s\n",
            "28:\tlearn: 0.2283338\ttotal: 645ms\tremaining: 21.6s\n",
            "29:\tlearn: 0.2270811\ttotal: 664ms\tremaining: 21.5s\n",
            "30:\tlearn: 0.2250006\ttotal: 683ms\tremaining: 21.3s\n",
            "31:\tlearn: 0.2233207\ttotal: 702ms\tremaining: 21.2s\n",
            "32:\tlearn: 0.2210573\ttotal: 724ms\tremaining: 21.2s\n",
            "33:\tlearn: 0.2196131\ttotal: 747ms\tremaining: 21.2s\n",
            "34:\tlearn: 0.2184568\ttotal: 771ms\tremaining: 21.3s\n",
            "35:\tlearn: 0.2160455\ttotal: 793ms\tremaining: 21.2s\n",
            "36:\tlearn: 0.2148061\ttotal: 812ms\tremaining: 21.1s\n",
            "37:\tlearn: 0.2141081\ttotal: 832ms\tremaining: 21.1s\n",
            "38:\tlearn: 0.2129822\ttotal: 852ms\tremaining: 21s\n",
            "39:\tlearn: 0.2121761\ttotal: 872ms\tremaining: 20.9s\n",
            "40:\tlearn: 0.2116162\ttotal: 890ms\tremaining: 20.8s\n",
            "41:\tlearn: 0.2104917\ttotal: 911ms\tremaining: 20.8s\n",
            "42:\tlearn: 0.2092115\ttotal: 934ms\tremaining: 20.8s\n",
            "43:\tlearn: 0.2088506\ttotal: 959ms\tremaining: 20.8s\n",
            "44:\tlearn: 0.2080911\ttotal: 978ms\tremaining: 20.8s\n",
            "45:\tlearn: 0.2069410\ttotal: 997ms\tremaining: 20.7s\n",
            "46:\tlearn: 0.2065400\ttotal: 1.01s\tremaining: 20.6s\n",
            "47:\tlearn: 0.2059794\ttotal: 1.03s\tremaining: 20.5s\n",
            "48:\tlearn: 0.2053275\ttotal: 1.05s\tremaining: 20.4s\n",
            "49:\tlearn: 0.2049210\ttotal: 1.07s\tremaining: 20.3s\n",
            "50:\tlearn: 0.2042738\ttotal: 1.09s\tremaining: 20.2s\n",
            "51:\tlearn: 0.2032284\ttotal: 1.11s\tremaining: 20.3s\n",
            "52:\tlearn: 0.2027466\ttotal: 1.14s\tremaining: 20.3s\n",
            "53:\tlearn: 0.2022735\ttotal: 1.16s\tremaining: 20.3s\n",
            "54:\tlearn: 0.2019164\ttotal: 1.18s\tremaining: 20.2s\n",
            "55:\tlearn: 0.2014821\ttotal: 1.19s\tremaining: 20.1s\n",
            "56:\tlearn: 0.2011802\ttotal: 1.21s\tremaining: 20.1s\n",
            "57:\tlearn: 0.2006056\ttotal: 1.23s\tremaining: 20s\n",
            "58:\tlearn: 0.2002652\ttotal: 1.25s\tremaining: 20s\n",
            "59:\tlearn: 0.1998654\ttotal: 1.27s\tremaining: 20s\n",
            "60:\tlearn: 0.1992307\ttotal: 1.3s\tremaining: 20s\n",
            "61:\tlearn: 0.1989210\ttotal: 1.32s\tremaining: 20s\n",
            "62:\tlearn: 0.1984975\ttotal: 1.35s\tremaining: 20s\n",
            "63:\tlearn: 0.1981990\ttotal: 1.37s\tremaining: 20s\n",
            "64:\tlearn: 0.1978177\ttotal: 1.39s\tremaining: 20s\n",
            "65:\tlearn: 0.1975348\ttotal: 1.41s\tremaining: 19.9s\n",
            "66:\tlearn: 0.1973566\ttotal: 1.42s\tremaining: 19.8s\n",
            "67:\tlearn: 0.1971479\ttotal: 1.44s\tremaining: 19.8s\n",
            "68:\tlearn: 0.1968244\ttotal: 1.46s\tremaining: 19.7s\n",
            "69:\tlearn: 0.1966292\ttotal: 1.48s\tremaining: 19.7s\n",
            "70:\tlearn: 0.1961488\ttotal: 1.5s\tremaining: 19.7s\n",
            "71:\tlearn: 0.1957705\ttotal: 1.52s\tremaining: 19.6s\n",
            "72:\tlearn: 0.1953122\ttotal: 1.54s\tremaining: 19.6s\n",
            "73:\tlearn: 0.1949572\ttotal: 1.56s\tremaining: 19.5s\n",
            "74:\tlearn: 0.1947828\ttotal: 1.57s\tremaining: 19.4s\n",
            "75:\tlearn: 0.1945262\ttotal: 1.59s\tremaining: 19.4s\n",
            "76:\tlearn: 0.1943333\ttotal: 1.61s\tremaining: 19.3s\n",
            "77:\tlearn: 0.1940952\ttotal: 1.63s\tremaining: 19.2s\n",
            "78:\tlearn: 0.1937026\ttotal: 1.64s\tremaining: 19.2s\n",
            "79:\tlearn: 0.1934466\ttotal: 1.67s\tremaining: 19.2s\n",
            "80:\tlearn: 0.1930523\ttotal: 1.69s\tremaining: 19.1s\n",
            "81:\tlearn: 0.1928532\ttotal: 1.71s\tremaining: 19.1s\n",
            "82:\tlearn: 0.1926224\ttotal: 1.73s\tremaining: 19.1s\n",
            "83:\tlearn: 0.1924083\ttotal: 1.74s\tremaining: 19s\n",
            "84:\tlearn: 0.1923235\ttotal: 1.76s\tremaining: 19s\n",
            "85:\tlearn: 0.1919774\ttotal: 1.78s\tremaining: 18.9s\n",
            "86:\tlearn: 0.1917113\ttotal: 1.8s\tremaining: 18.8s\n",
            "87:\tlearn: 0.1914474\ttotal: 1.81s\tremaining: 18.8s\n",
            "88:\tlearn: 0.1912503\ttotal: 1.83s\tremaining: 18.8s\n",
            "89:\tlearn: 0.1910953\ttotal: 1.86s\tremaining: 18.8s\n",
            "90:\tlearn: 0.1908348\ttotal: 1.88s\tremaining: 18.8s\n",
            "91:\tlearn: 0.1905901\ttotal: 1.9s\tremaining: 18.7s\n",
            "92:\tlearn: 0.1904310\ttotal: 1.92s\tremaining: 18.7s\n",
            "93:\tlearn: 0.1902477\ttotal: 1.93s\tremaining: 18.6s\n",
            "94:\tlearn: 0.1900260\ttotal: 1.95s\tremaining: 18.6s\n",
            "95:\tlearn: 0.1898283\ttotal: 1.97s\tremaining: 18.5s\n",
            "96:\tlearn: 0.1896377\ttotal: 1.98s\tremaining: 18.5s\n",
            "97:\tlearn: 0.1894415\ttotal: 2s\tremaining: 18.4s\n",
            "98:\tlearn: 0.1892999\ttotal: 2.02s\tremaining: 18.4s\n",
            "99:\tlearn: 0.1891666\ttotal: 2.04s\tremaining: 18.4s\n",
            "100:\tlearn: 0.1889716\ttotal: 2.06s\tremaining: 18.3s\n",
            "101:\tlearn: 0.1887994\ttotal: 2.08s\tremaining: 18.3s\n",
            "102:\tlearn: 0.1887113\ttotal: 2.09s\tremaining: 18.2s\n",
            "103:\tlearn: 0.1885961\ttotal: 2.11s\tremaining: 18.2s\n",
            "104:\tlearn: 0.1884754\ttotal: 2.13s\tremaining: 18.1s\n",
            "105:\tlearn: 0.1883081\ttotal: 2.14s\tremaining: 18.1s\n",
            "106:\tlearn: 0.1880772\ttotal: 2.16s\tremaining: 18s\n",
            "107:\tlearn: 0.1879120\ttotal: 2.18s\tremaining: 18s\n",
            "108:\tlearn: 0.1878376\ttotal: 2.2s\tremaining: 18s\n",
            "109:\tlearn: 0.1877001\ttotal: 2.22s\tremaining: 18s\n",
            "110:\tlearn: 0.1874135\ttotal: 2.24s\tremaining: 17.9s\n",
            "111:\tlearn: 0.1872753\ttotal: 2.26s\tremaining: 17.9s\n",
            "112:\tlearn: 0.1871268\ttotal: 2.27s\tremaining: 17.8s\n",
            "113:\tlearn: 0.1870544\ttotal: 2.29s\tremaining: 17.8s\n",
            "114:\tlearn: 0.1869718\ttotal: 2.31s\tremaining: 17.7s\n",
            "115:\tlearn: 0.1868435\ttotal: 2.32s\tremaining: 17.7s\n",
            "116:\tlearn: 0.1867609\ttotal: 2.34s\tremaining: 17.7s\n",
            "117:\tlearn: 0.1865299\ttotal: 2.36s\tremaining: 17.6s\n",
            "118:\tlearn: 0.1863744\ttotal: 2.38s\tremaining: 17.6s\n",
            "119:\tlearn: 0.1862961\ttotal: 2.4s\tremaining: 17.6s\n",
            "120:\tlearn: 0.1861227\ttotal: 2.42s\tremaining: 17.6s\n",
            "121:\tlearn: 0.1860202\ttotal: 2.44s\tremaining: 17.6s\n",
            "122:\tlearn: 0.1858644\ttotal: 2.46s\tremaining: 17.5s\n",
            "123:\tlearn: 0.1857270\ttotal: 2.48s\tremaining: 17.5s\n",
            "124:\tlearn: 0.1855310\ttotal: 2.49s\tremaining: 17.4s\n",
            "125:\tlearn: 0.1854148\ttotal: 2.51s\tremaining: 17.4s\n",
            "126:\tlearn: 0.1853403\ttotal: 2.53s\tremaining: 17.4s\n",
            "127:\tlearn: 0.1852917\ttotal: 2.55s\tremaining: 17.4s\n",
            "128:\tlearn: 0.1851249\ttotal: 2.57s\tremaining: 17.4s\n",
            "129:\tlearn: 0.1848888\ttotal: 2.59s\tremaining: 17.3s\n",
            "130:\tlearn: 0.1847629\ttotal: 2.61s\tremaining: 17.3s\n",
            "131:\tlearn: 0.1846154\ttotal: 2.62s\tremaining: 17.2s\n",
            "132:\tlearn: 0.1845371\ttotal: 2.64s\tremaining: 17.2s\n",
            "133:\tlearn: 0.1844214\ttotal: 2.65s\tremaining: 17.2s\n",
            "134:\tlearn: 0.1842986\ttotal: 2.67s\tremaining: 17.1s\n",
            "135:\tlearn: 0.1842309\ttotal: 2.69s\tremaining: 17.1s\n",
            "136:\tlearn: 0.1841312\ttotal: 2.7s\tremaining: 17s\n",
            "137:\tlearn: 0.1840542\ttotal: 2.72s\tremaining: 17s\n",
            "138:\tlearn: 0.1839933\ttotal: 2.74s\tremaining: 17s\n",
            "139:\tlearn: 0.1838043\ttotal: 2.76s\tremaining: 16.9s\n",
            "140:\tlearn: 0.1836954\ttotal: 2.77s\tremaining: 16.9s\n",
            "141:\tlearn: 0.1835899\ttotal: 2.79s\tremaining: 16.9s\n",
            "142:\tlearn: 0.1834392\ttotal: 2.81s\tremaining: 16.8s\n",
            "143:\tlearn: 0.1832774\ttotal: 2.83s\tremaining: 16.8s\n",
            "144:\tlearn: 0.1831732\ttotal: 2.84s\tremaining: 16.8s\n",
            "145:\tlearn: 0.1830362\ttotal: 2.86s\tremaining: 16.7s\n",
            "146:\tlearn: 0.1829198\ttotal: 2.88s\tremaining: 16.7s\n",
            "147:\tlearn: 0.1828066\ttotal: 2.89s\tremaining: 16.7s\n",
            "148:\tlearn: 0.1827241\ttotal: 2.91s\tremaining: 16.6s\n",
            "149:\tlearn: 0.1826127\ttotal: 2.93s\tremaining: 16.6s\n",
            "150:\tlearn: 0.1825454\ttotal: 2.95s\tremaining: 16.6s\n",
            "151:\tlearn: 0.1824694\ttotal: 2.96s\tremaining: 16.5s\n",
            "152:\tlearn: 0.1822765\ttotal: 2.98s\tremaining: 16.5s\n",
            "153:\tlearn: 0.1822299\ttotal: 2.99s\tremaining: 16.4s\n",
            "154:\tlearn: 0.1821605\ttotal: 3.01s\tremaining: 16.4s\n",
            "155:\tlearn: 0.1820982\ttotal: 3.02s\tremaining: 16.4s\n",
            "156:\tlearn: 0.1820301\ttotal: 3.04s\tremaining: 16.3s\n",
            "157:\tlearn: 0.1819202\ttotal: 3.05s\tremaining: 16.3s\n",
            "158:\tlearn: 0.1818601\ttotal: 3.06s\tremaining: 16.2s\n",
            "159:\tlearn: 0.1817897\ttotal: 3.08s\tremaining: 16.2s\n",
            "160:\tlearn: 0.1817078\ttotal: 3.09s\tremaining: 16.1s\n",
            "161:\tlearn: 0.1816305\ttotal: 3.11s\tremaining: 16.1s\n",
            "162:\tlearn: 0.1815068\ttotal: 3.13s\tremaining: 16.1s\n",
            "163:\tlearn: 0.1814157\ttotal: 3.14s\tremaining: 16s\n",
            "164:\tlearn: 0.1813154\ttotal: 3.16s\tremaining: 16s\n",
            "165:\tlearn: 0.1812691\ttotal: 3.17s\tremaining: 15.9s\n",
            "166:\tlearn: 0.1811616\ttotal: 3.19s\tremaining: 15.9s\n",
            "167:\tlearn: 0.1811021\ttotal: 3.2s\tremaining: 15.9s\n",
            "168:\tlearn: 0.1809519\ttotal: 3.22s\tremaining: 15.8s\n",
            "169:\tlearn: 0.1808526\ttotal: 3.23s\tremaining: 15.8s\n",
            "170:\tlearn: 0.1808107\ttotal: 3.25s\tremaining: 15.7s\n",
            "171:\tlearn: 0.1806901\ttotal: 3.26s\tremaining: 15.7s\n",
            "172:\tlearn: 0.1806026\ttotal: 3.27s\tremaining: 15.7s\n",
            "173:\tlearn: 0.1804721\ttotal: 3.3s\tremaining: 15.7s\n",
            "174:\tlearn: 0.1804046\ttotal: 3.31s\tremaining: 15.6s\n",
            "175:\tlearn: 0.1803293\ttotal: 3.33s\tremaining: 15.6s\n",
            "176:\tlearn: 0.1802330\ttotal: 3.34s\tremaining: 15.5s\n",
            "177:\tlearn: 0.1801572\ttotal: 3.35s\tremaining: 15.5s\n",
            "178:\tlearn: 0.1800404\ttotal: 3.37s\tremaining: 15.5s\n",
            "179:\tlearn: 0.1799492\ttotal: 3.38s\tremaining: 15.4s\n",
            "180:\tlearn: 0.1798237\ttotal: 3.4s\tremaining: 15.4s\n",
            "181:\tlearn: 0.1797467\ttotal: 3.41s\tremaining: 15.3s\n",
            "182:\tlearn: 0.1796522\ttotal: 3.43s\tremaining: 15.3s\n",
            "183:\tlearn: 0.1796059\ttotal: 3.44s\tremaining: 15.3s\n",
            "184:\tlearn: 0.1795504\ttotal: 3.46s\tremaining: 15.2s\n",
            "185:\tlearn: 0.1794755\ttotal: 3.48s\tremaining: 15.2s\n",
            "186:\tlearn: 0.1794087\ttotal: 3.5s\tremaining: 15.2s\n",
            "187:\tlearn: 0.1793246\ttotal: 3.51s\tremaining: 15.2s\n",
            "188:\tlearn: 0.1792477\ttotal: 3.52s\tremaining: 15.1s\n",
            "189:\tlearn: 0.1791531\ttotal: 3.54s\tremaining: 15.1s\n",
            "190:\tlearn: 0.1790715\ttotal: 3.55s\tremaining: 15s\n",
            "191:\tlearn: 0.1790122\ttotal: 3.57s\tremaining: 15s\n",
            "192:\tlearn: 0.1789426\ttotal: 3.58s\tremaining: 15s\n",
            "193:\tlearn: 0.1787549\ttotal: 3.6s\tremaining: 14.9s\n",
            "194:\tlearn: 0.1786550\ttotal: 3.61s\tremaining: 14.9s\n",
            "195:\tlearn: 0.1785903\ttotal: 3.63s\tremaining: 14.9s\n",
            "196:\tlearn: 0.1785248\ttotal: 3.64s\tremaining: 14.9s\n",
            "197:\tlearn: 0.1784177\ttotal: 3.66s\tremaining: 14.8s\n",
            "198:\tlearn: 0.1783141\ttotal: 3.68s\tremaining: 14.8s\n",
            "199:\tlearn: 0.1782459\ttotal: 3.69s\tremaining: 14.8s\n",
            "200:\tlearn: 0.1781304\ttotal: 3.71s\tremaining: 14.7s\n",
            "201:\tlearn: 0.1780379\ttotal: 3.72s\tremaining: 14.7s\n",
            "202:\tlearn: 0.1779762\ttotal: 3.74s\tremaining: 14.7s\n",
            "203:\tlearn: 0.1778248\ttotal: 3.75s\tremaining: 14.6s\n",
            "204:\tlearn: 0.1777124\ttotal: 3.77s\tremaining: 14.6s\n",
            "205:\tlearn: 0.1775031\ttotal: 3.78s\tremaining: 14.6s\n",
            "206:\tlearn: 0.1774344\ttotal: 3.79s\tremaining: 14.5s\n",
            "207:\tlearn: 0.1773138\ttotal: 3.81s\tremaining: 14.5s\n",
            "208:\tlearn: 0.1772667\ttotal: 3.83s\tremaining: 14.5s\n",
            "209:\tlearn: 0.1772047\ttotal: 3.84s\tremaining: 14.5s\n",
            "210:\tlearn: 0.1770949\ttotal: 3.86s\tremaining: 14.4s\n",
            "211:\tlearn: 0.1770542\ttotal: 3.87s\tremaining: 14.4s\n",
            "212:\tlearn: 0.1769775\ttotal: 3.89s\tremaining: 14.4s\n",
            "213:\tlearn: 0.1768679\ttotal: 3.9s\tremaining: 14.3s\n",
            "214:\tlearn: 0.1767850\ttotal: 3.92s\tremaining: 14.3s\n",
            "215:\tlearn: 0.1765955\ttotal: 3.93s\tremaining: 14.3s\n",
            "216:\tlearn: 0.1765400\ttotal: 3.95s\tremaining: 14.2s\n",
            "217:\tlearn: 0.1764845\ttotal: 3.96s\tremaining: 14.2s\n",
            "218:\tlearn: 0.1764183\ttotal: 3.98s\tremaining: 14.2s\n",
            "219:\tlearn: 0.1763327\ttotal: 4s\tremaining: 14.2s\n",
            "220:\tlearn: 0.1762699\ttotal: 4.01s\tremaining: 14.1s\n",
            "221:\tlearn: 0.1761858\ttotal: 4.03s\tremaining: 14.1s\n",
            "222:\tlearn: 0.1760860\ttotal: 4.05s\tremaining: 14.1s\n",
            "223:\tlearn: 0.1759954\ttotal: 4.06s\tremaining: 14.1s\n",
            "224:\tlearn: 0.1759329\ttotal: 4.07s\tremaining: 14s\n",
            "225:\tlearn: 0.1758802\ttotal: 4.09s\tremaining: 14s\n",
            "226:\tlearn: 0.1758436\ttotal: 4.1s\tremaining: 14s\n",
            "227:\tlearn: 0.1758107\ttotal: 4.12s\tremaining: 13.9s\n",
            "228:\tlearn: 0.1757070\ttotal: 4.13s\tremaining: 13.9s\n",
            "229:\tlearn: 0.1755293\ttotal: 4.14s\tremaining: 13.9s\n",
            "230:\tlearn: 0.1754740\ttotal: 4.16s\tremaining: 13.8s\n",
            "231:\tlearn: 0.1754289\ttotal: 4.17s\tremaining: 13.8s\n",
            "232:\tlearn: 0.1753254\ttotal: 4.19s\tremaining: 13.8s\n",
            "233:\tlearn: 0.1752702\ttotal: 4.21s\tremaining: 13.8s\n",
            "234:\tlearn: 0.1752121\ttotal: 4.22s\tremaining: 13.7s\n",
            "235:\tlearn: 0.1751906\ttotal: 4.24s\tremaining: 13.7s\n",
            "236:\tlearn: 0.1750995\ttotal: 4.25s\tremaining: 13.7s\n",
            "237:\tlearn: 0.1750013\ttotal: 4.26s\tremaining: 13.7s\n",
            "238:\tlearn: 0.1749223\ttotal: 4.28s\tremaining: 13.6s\n",
            "239:\tlearn: 0.1748548\ttotal: 4.3s\tremaining: 13.6s\n",
            "240:\tlearn: 0.1747643\ttotal: 4.32s\tremaining: 13.6s\n",
            "241:\tlearn: 0.1746761\ttotal: 4.34s\tremaining: 13.6s\n",
            "242:\tlearn: 0.1745303\ttotal: 4.35s\tremaining: 13.6s\n",
            "243:\tlearn: 0.1743594\ttotal: 4.37s\tremaining: 13.5s\n",
            "244:\tlearn: 0.1742827\ttotal: 4.38s\tremaining: 13.5s\n",
            "245:\tlearn: 0.1742088\ttotal: 4.41s\tremaining: 13.5s\n",
            "246:\tlearn: 0.1741336\ttotal: 4.42s\tremaining: 13.5s\n",
            "247:\tlearn: 0.1740573\ttotal: 4.45s\tremaining: 13.5s\n",
            "248:\tlearn: 0.1739677\ttotal: 4.46s\tremaining: 13.5s\n",
            "249:\tlearn: 0.1739044\ttotal: 4.48s\tremaining: 13.4s\n",
            "250:\tlearn: 0.1737921\ttotal: 4.5s\tremaining: 13.4s\n",
            "251:\tlearn: 0.1736712\ttotal: 4.52s\tremaining: 13.4s\n",
            "252:\tlearn: 0.1735985\ttotal: 4.53s\tremaining: 13.4s\n",
            "253:\tlearn: 0.1735450\ttotal: 4.55s\tremaining: 13.4s\n",
            "254:\tlearn: 0.1735095\ttotal: 4.57s\tremaining: 13.3s\n",
            "255:\tlearn: 0.1734390\ttotal: 4.58s\tremaining: 13.3s\n",
            "256:\tlearn: 0.1733406\ttotal: 4.6s\tremaining: 13.3s\n",
            "257:\tlearn: 0.1732796\ttotal: 4.61s\tremaining: 13.3s\n",
            "258:\tlearn: 0.1732275\ttotal: 4.63s\tremaining: 13.2s\n",
            "259:\tlearn: 0.1731812\ttotal: 4.64s\tremaining: 13.2s\n",
            "260:\tlearn: 0.1730872\ttotal: 4.66s\tremaining: 13.2s\n",
            "261:\tlearn: 0.1730511\ttotal: 4.67s\tremaining: 13.2s\n",
            "262:\tlearn: 0.1729445\ttotal: 4.68s\tremaining: 13.1s\n",
            "263:\tlearn: 0.1728720\ttotal: 4.7s\tremaining: 13.1s\n",
            "264:\tlearn: 0.1727780\ttotal: 4.71s\tremaining: 13.1s\n",
            "265:\tlearn: 0.1727230\ttotal: 4.73s\tremaining: 13.1s\n",
            "266:\tlearn: 0.1726305\ttotal: 4.75s\tremaining: 13s\n",
            "267:\tlearn: 0.1725599\ttotal: 4.77s\tremaining: 13s\n",
            "268:\tlearn: 0.1725431\ttotal: 4.78s\tremaining: 13s\n",
            "269:\tlearn: 0.1724559\ttotal: 4.79s\tremaining: 13s\n",
            "270:\tlearn: 0.1723747\ttotal: 4.81s\tremaining: 12.9s\n",
            "271:\tlearn: 0.1722330\ttotal: 4.82s\tremaining: 12.9s\n",
            "272:\tlearn: 0.1721106\ttotal: 4.84s\tremaining: 12.9s\n",
            "273:\tlearn: 0.1720329\ttotal: 4.85s\tremaining: 12.9s\n",
            "274:\tlearn: 0.1719262\ttotal: 4.87s\tremaining: 12.8s\n",
            "275:\tlearn: 0.1718537\ttotal: 4.88s\tremaining: 12.8s\n",
            "276:\tlearn: 0.1718159\ttotal: 4.9s\tremaining: 12.8s\n",
            "277:\tlearn: 0.1717561\ttotal: 4.91s\tremaining: 12.8s\n",
            "278:\tlearn: 0.1717086\ttotal: 4.93s\tremaining: 12.7s\n",
            "279:\tlearn: 0.1716519\ttotal: 4.95s\tremaining: 12.7s\n",
            "280:\tlearn: 0.1716010\ttotal: 4.96s\tremaining: 12.7s\n",
            "281:\tlearn: 0.1715809\ttotal: 4.97s\tremaining: 12.7s\n",
            "282:\tlearn: 0.1714975\ttotal: 4.99s\tremaining: 12.6s\n",
            "283:\tlearn: 0.1714213\ttotal: 5s\tremaining: 12.6s\n",
            "284:\tlearn: 0.1713494\ttotal: 5.02s\tremaining: 12.6s\n",
            "285:\tlearn: 0.1713310\ttotal: 5.03s\tremaining: 12.6s\n",
            "286:\tlearn: 0.1713254\ttotal: 5.04s\tremaining: 12.5s\n",
            "287:\tlearn: 0.1712256\ttotal: 5.06s\tremaining: 12.5s\n",
            "288:\tlearn: 0.1711673\ttotal: 5.07s\tremaining: 12.5s\n",
            "289:\tlearn: 0.1711208\ttotal: 5.08s\tremaining: 12.5s\n",
            "290:\tlearn: 0.1709625\ttotal: 5.11s\tremaining: 12.4s\n",
            "291:\tlearn: 0.1709269\ttotal: 5.13s\tremaining: 12.4s\n",
            "292:\tlearn: 0.1708344\ttotal: 5.14s\tremaining: 12.4s\n",
            "293:\tlearn: 0.1706998\ttotal: 5.16s\tremaining: 12.4s\n",
            "294:\tlearn: 0.1706301\ttotal: 5.18s\tremaining: 12.4s\n",
            "295:\tlearn: 0.1705672\ttotal: 5.19s\tremaining: 12.4s\n",
            "296:\tlearn: 0.1704710\ttotal: 5.21s\tremaining: 12.3s\n",
            "297:\tlearn: 0.1704246\ttotal: 5.22s\tremaining: 12.3s\n",
            "298:\tlearn: 0.1704072\ttotal: 5.24s\tremaining: 12.3s\n",
            "299:\tlearn: 0.1703016\ttotal: 5.25s\tremaining: 12.3s\n",
            "300:\tlearn: 0.1702640\ttotal: 5.27s\tremaining: 12.2s\n",
            "301:\tlearn: 0.1702244\ttotal: 5.28s\tremaining: 12.2s\n",
            "302:\tlearn: 0.1701467\ttotal: 5.3s\tremaining: 12.2s\n",
            "303:\tlearn: 0.1700772\ttotal: 5.31s\tremaining: 12.2s\n",
            "304:\tlearn: 0.1699786\ttotal: 5.33s\tremaining: 12.1s\n",
            "305:\tlearn: 0.1699106\ttotal: 5.34s\tremaining: 12.1s\n",
            "306:\tlearn: 0.1698335\ttotal: 5.36s\tremaining: 12.1s\n",
            "307:\tlearn: 0.1697988\ttotal: 5.37s\tremaining: 12.1s\n",
            "308:\tlearn: 0.1696838\ttotal: 5.39s\tremaining: 12.1s\n",
            "309:\tlearn: 0.1696612\ttotal: 5.41s\tremaining: 12s\n",
            "310:\tlearn: 0.1695712\ttotal: 5.43s\tremaining: 12s\n",
            "311:\tlearn: 0.1695446\ttotal: 5.44s\tremaining: 12s\n",
            "312:\tlearn: 0.1695195\ttotal: 5.46s\tremaining: 12s\n",
            "313:\tlearn: 0.1694566\ttotal: 5.47s\tremaining: 12s\n",
            "314:\tlearn: 0.1693537\ttotal: 5.49s\tremaining: 11.9s\n",
            "315:\tlearn: 0.1692857\ttotal: 5.51s\tremaining: 11.9s\n",
            "316:\tlearn: 0.1692411\ttotal: 5.52s\tremaining: 11.9s\n",
            "317:\tlearn: 0.1691918\ttotal: 5.54s\tremaining: 11.9s\n",
            "318:\tlearn: 0.1691340\ttotal: 5.55s\tremaining: 11.9s\n",
            "319:\tlearn: 0.1690830\ttotal: 5.57s\tremaining: 11.8s\n",
            "320:\tlearn: 0.1690666\ttotal: 5.58s\tremaining: 11.8s\n",
            "321:\tlearn: 0.1690046\ttotal: 5.6s\tremaining: 11.8s\n",
            "322:\tlearn: 0.1689885\ttotal: 5.61s\tremaining: 11.8s\n",
            "323:\tlearn: 0.1688132\ttotal: 5.63s\tremaining: 11.7s\n",
            "324:\tlearn: 0.1687151\ttotal: 5.65s\tremaining: 11.7s\n",
            "325:\tlearn: 0.1686648\ttotal: 5.67s\tremaining: 11.7s\n",
            "326:\tlearn: 0.1686083\ttotal: 5.7s\tremaining: 11.7s\n",
            "327:\tlearn: 0.1685618\ttotal: 5.72s\tremaining: 11.7s\n",
            "328:\tlearn: 0.1684778\ttotal: 5.74s\tremaining: 11.7s\n",
            "329:\tlearn: 0.1684631\ttotal: 5.76s\tremaining: 11.7s\n",
            "330:\tlearn: 0.1684276\ttotal: 5.78s\tremaining: 11.7s\n",
            "331:\tlearn: 0.1683707\ttotal: 5.79s\tremaining: 11.7s\n",
            "332:\tlearn: 0.1683214\ttotal: 5.81s\tremaining: 11.6s\n",
            "333:\tlearn: 0.1682523\ttotal: 5.82s\tremaining: 11.6s\n",
            "334:\tlearn: 0.1681737\ttotal: 5.84s\tremaining: 11.6s\n",
            "335:\tlearn: 0.1681018\ttotal: 5.86s\tremaining: 11.6s\n",
            "336:\tlearn: 0.1680874\ttotal: 5.88s\tremaining: 11.6s\n",
            "337:\tlearn: 0.1680238\ttotal: 5.89s\tremaining: 11.5s\n",
            "338:\tlearn: 0.1679373\ttotal: 5.91s\tremaining: 11.5s\n",
            "339:\tlearn: 0.1678793\ttotal: 5.94s\tremaining: 11.5s\n",
            "340:\tlearn: 0.1678116\ttotal: 5.96s\tremaining: 11.5s\n",
            "341:\tlearn: 0.1677290\ttotal: 5.98s\tremaining: 11.5s\n",
            "342:\tlearn: 0.1676323\ttotal: 6s\tremaining: 11.5s\n",
            "343:\tlearn: 0.1675838\ttotal: 6.02s\tremaining: 11.5s\n",
            "344:\tlearn: 0.1675267\ttotal: 6.03s\tremaining: 11.5s\n",
            "345:\tlearn: 0.1674688\ttotal: 6.05s\tremaining: 11.4s\n",
            "346:\tlearn: 0.1674579\ttotal: 6.07s\tremaining: 11.4s\n",
            "347:\tlearn: 0.1673961\ttotal: 6.08s\tremaining: 11.4s\n",
            "348:\tlearn: 0.1673194\ttotal: 6.1s\tremaining: 11.4s\n",
            "349:\tlearn: 0.1672391\ttotal: 6.12s\tremaining: 11.4s\n",
            "350:\tlearn: 0.1671630\ttotal: 6.13s\tremaining: 11.3s\n",
            "351:\tlearn: 0.1671555\ttotal: 6.16s\tremaining: 11.3s\n",
            "352:\tlearn: 0.1670643\ttotal: 6.17s\tremaining: 11.3s\n",
            "353:\tlearn: 0.1669687\ttotal: 6.19s\tremaining: 11.3s\n",
            "354:\tlearn: 0.1669242\ttotal: 6.21s\tremaining: 11.3s\n",
            "355:\tlearn: 0.1668849\ttotal: 6.23s\tremaining: 11.3s\n",
            "356:\tlearn: 0.1668093\ttotal: 6.24s\tremaining: 11.2s\n",
            "357:\tlearn: 0.1667475\ttotal: 6.26s\tremaining: 11.2s\n",
            "358:\tlearn: 0.1666147\ttotal: 6.27s\tremaining: 11.2s\n",
            "359:\tlearn: 0.1665274\ttotal: 6.29s\tremaining: 11.2s\n",
            "360:\tlearn: 0.1664451\ttotal: 6.3s\tremaining: 11.2s\n",
            "361:\tlearn: 0.1663686\ttotal: 6.32s\tremaining: 11.1s\n",
            "362:\tlearn: 0.1663232\ttotal: 6.33s\tremaining: 11.1s\n",
            "363:\tlearn: 0.1662331\ttotal: 6.34s\tremaining: 11.1s\n",
            "364:\tlearn: 0.1661620\ttotal: 6.36s\tremaining: 11.1s\n",
            "365:\tlearn: 0.1660783\ttotal: 6.37s\tremaining: 11s\n",
            "366:\tlearn: 0.1660008\ttotal: 6.39s\tremaining: 11s\n",
            "367:\tlearn: 0.1658994\ttotal: 6.41s\tremaining: 11s\n",
            "368:\tlearn: 0.1658374\ttotal: 6.42s\tremaining: 11s\n",
            "369:\tlearn: 0.1657758\ttotal: 6.44s\tremaining: 11s\n",
            "370:\tlearn: 0.1657308\ttotal: 6.45s\tremaining: 10.9s\n",
            "371:\tlearn: 0.1656654\ttotal: 6.46s\tremaining: 10.9s\n",
            "372:\tlearn: 0.1656142\ttotal: 6.48s\tremaining: 10.9s\n",
            "373:\tlearn: 0.1655415\ttotal: 6.49s\tremaining: 10.9s\n",
            "374:\tlearn: 0.1654494\ttotal: 6.51s\tremaining: 10.9s\n",
            "375:\tlearn: 0.1654261\ttotal: 6.53s\tremaining: 10.8s\n",
            "376:\tlearn: 0.1653694\ttotal: 6.54s\tremaining: 10.8s\n",
            "377:\tlearn: 0.1653264\ttotal: 6.56s\tremaining: 10.8s\n",
            "378:\tlearn: 0.1652532\ttotal: 6.57s\tremaining: 10.8s\n",
            "379:\tlearn: 0.1652018\ttotal: 6.59s\tremaining: 10.8s\n",
            "380:\tlearn: 0.1651445\ttotal: 6.61s\tremaining: 10.7s\n",
            "381:\tlearn: 0.1651321\ttotal: 6.62s\tremaining: 10.7s\n",
            "382:\tlearn: 0.1650487\ttotal: 6.64s\tremaining: 10.7s\n",
            "383:\tlearn: 0.1649948\ttotal: 6.65s\tremaining: 10.7s\n",
            "384:\tlearn: 0.1649515\ttotal: 6.66s\tremaining: 10.6s\n",
            "385:\tlearn: 0.1648616\ttotal: 6.68s\tremaining: 10.6s\n",
            "386:\tlearn: 0.1647843\ttotal: 6.69s\tremaining: 10.6s\n",
            "387:\tlearn: 0.1646449\ttotal: 6.71s\tremaining: 10.6s\n",
            "388:\tlearn: 0.1646143\ttotal: 6.72s\tremaining: 10.6s\n",
            "389:\tlearn: 0.1645147\ttotal: 6.74s\tremaining: 10.5s\n",
            "390:\tlearn: 0.1644914\ttotal: 6.75s\tremaining: 10.5s\n",
            "391:\tlearn: 0.1644568\ttotal: 6.77s\tremaining: 10.5s\n",
            "392:\tlearn: 0.1643841\ttotal: 6.8s\tremaining: 10.5s\n",
            "393:\tlearn: 0.1643136\ttotal: 6.81s\tremaining: 10.5s\n",
            "394:\tlearn: 0.1642336\ttotal: 6.83s\tremaining: 10.5s\n",
            "395:\tlearn: 0.1641438\ttotal: 6.84s\tremaining: 10.4s\n",
            "396:\tlearn: 0.1640818\ttotal: 6.86s\tremaining: 10.4s\n",
            "397:\tlearn: 0.1640706\ttotal: 6.87s\tremaining: 10.4s\n",
            "398:\tlearn: 0.1639913\ttotal: 6.88s\tremaining: 10.4s\n",
            "399:\tlearn: 0.1639277\ttotal: 6.9s\tremaining: 10.3s\n",
            "400:\tlearn: 0.1639174\ttotal: 6.91s\tremaining: 10.3s\n",
            "401:\tlearn: 0.1638456\ttotal: 6.93s\tremaining: 10.3s\n",
            "402:\tlearn: 0.1637752\ttotal: 6.94s\tremaining: 10.3s\n",
            "403:\tlearn: 0.1637104\ttotal: 6.96s\tremaining: 10.3s\n",
            "404:\tlearn: 0.1636727\ttotal: 6.98s\tremaining: 10.3s\n",
            "405:\tlearn: 0.1636218\ttotal: 7s\tremaining: 10.2s\n",
            "406:\tlearn: 0.1635668\ttotal: 7.01s\tremaining: 10.2s\n",
            "407:\tlearn: 0.1634781\ttotal: 7.02s\tremaining: 10.2s\n",
            "408:\tlearn: 0.1634007\ttotal: 7.04s\tremaining: 10.2s\n",
            "409:\tlearn: 0.1633121\ttotal: 7.05s\tremaining: 10.1s\n",
            "410:\tlearn: 0.1632515\ttotal: 7.07s\tremaining: 10.1s\n",
            "411:\tlearn: 0.1631876\ttotal: 7.08s\tremaining: 10.1s\n",
            "412:\tlearn: 0.1631738\ttotal: 7.09s\tremaining: 10.1s\n",
            "413:\tlearn: 0.1631260\ttotal: 7.11s\tremaining: 10.1s\n",
            "414:\tlearn: 0.1630820\ttotal: 7.12s\tremaining: 10s\n",
            "415:\tlearn: 0.1629959\ttotal: 7.14s\tremaining: 10s\n",
            "416:\tlearn: 0.1629431\ttotal: 7.16s\tremaining: 10s\n",
            "417:\tlearn: 0.1628670\ttotal: 7.17s\tremaining: 9.99s\n",
            "418:\tlearn: 0.1628033\ttotal: 7.19s\tremaining: 9.97s\n",
            "419:\tlearn: 0.1627375\ttotal: 7.2s\tremaining: 9.95s\n",
            "420:\tlearn: 0.1626650\ttotal: 7.22s\tremaining: 9.93s\n",
            "421:\tlearn: 0.1625927\ttotal: 7.23s\tremaining: 9.91s\n",
            "422:\tlearn: 0.1625144\ttotal: 7.26s\tremaining: 9.9s\n",
            "423:\tlearn: 0.1624627\ttotal: 7.27s\tremaining: 9.88s\n",
            "424:\tlearn: 0.1623742\ttotal: 7.29s\tremaining: 9.86s\n",
            "425:\tlearn: 0.1622902\ttotal: 7.3s\tremaining: 9.84s\n",
            "426:\tlearn: 0.1622409\ttotal: 7.32s\tremaining: 9.82s\n",
            "427:\tlearn: 0.1621163\ttotal: 7.33s\tremaining: 9.8s\n",
            "428:\tlearn: 0.1620388\ttotal: 7.35s\tremaining: 9.78s\n",
            "429:\tlearn: 0.1619983\ttotal: 7.36s\tremaining: 9.76s\n",
            "430:\tlearn: 0.1619668\ttotal: 7.38s\tremaining: 9.74s\n",
            "431:\tlearn: 0.1619018\ttotal: 7.4s\tremaining: 9.73s\n",
            "432:\tlearn: 0.1618067\ttotal: 7.41s\tremaining: 9.71s\n",
            "433:\tlearn: 0.1616696\ttotal: 7.43s\tremaining: 9.69s\n",
            "434:\tlearn: 0.1616242\ttotal: 7.44s\tremaining: 9.67s\n",
            "435:\tlearn: 0.1615943\ttotal: 7.46s\tremaining: 9.65s\n",
            "436:\tlearn: 0.1615458\ttotal: 7.47s\tremaining: 9.63s\n",
            "437:\tlearn: 0.1614861\ttotal: 7.49s\tremaining: 9.61s\n",
            "438:\tlearn: 0.1614016\ttotal: 7.5s\tremaining: 9.59s\n",
            "439:\tlearn: 0.1613533\ttotal: 7.52s\tremaining: 9.57s\n",
            "440:\tlearn: 0.1612987\ttotal: 7.54s\tremaining: 9.56s\n",
            "441:\tlearn: 0.1612201\ttotal: 7.56s\tremaining: 9.54s\n",
            "442:\tlearn: 0.1611379\ttotal: 7.57s\tremaining: 9.52s\n",
            "443:\tlearn: 0.1610858\ttotal: 7.58s\tremaining: 9.5s\n",
            "444:\tlearn: 0.1610099\ttotal: 7.6s\tremaining: 9.48s\n",
            "445:\tlearn: 0.1609622\ttotal: 7.61s\tremaining: 9.46s\n",
            "446:\tlearn: 0.1608957\ttotal: 7.63s\tremaining: 9.44s\n",
            "447:\tlearn: 0.1607612\ttotal: 7.64s\tremaining: 9.42s\n",
            "448:\tlearn: 0.1607246\ttotal: 7.66s\tremaining: 9.4s\n",
            "449:\tlearn: 0.1606558\ttotal: 7.67s\tremaining: 9.38s\n",
            "450:\tlearn: 0.1605901\ttotal: 7.7s\tremaining: 9.37s\n",
            "451:\tlearn: 0.1605066\ttotal: 7.71s\tremaining: 9.35s\n",
            "452:\tlearn: 0.1604321\ttotal: 7.73s\tremaining: 9.33s\n",
            "453:\tlearn: 0.1603812\ttotal: 7.74s\tremaining: 9.31s\n",
            "454:\tlearn: 0.1602953\ttotal: 7.76s\tremaining: 9.29s\n",
            "455:\tlearn: 0.1602417\ttotal: 7.77s\tremaining: 9.27s\n",
            "456:\tlearn: 0.1601458\ttotal: 7.78s\tremaining: 9.25s\n",
            "457:\tlearn: 0.1600887\ttotal: 7.8s\tremaining: 9.23s\n",
            "458:\tlearn: 0.1600202\ttotal: 7.81s\tremaining: 9.21s\n",
            "459:\tlearn: 0.1599726\ttotal: 7.83s\tremaining: 9.19s\n",
            "460:\tlearn: 0.1599276\ttotal: 7.85s\tremaining: 9.17s\n",
            "461:\tlearn: 0.1599166\ttotal: 7.87s\tremaining: 9.16s\n",
            "462:\tlearn: 0.1598565\ttotal: 7.88s\tremaining: 9.14s\n",
            "463:\tlearn: 0.1597986\ttotal: 7.9s\tremaining: 9.13s\n",
            "464:\tlearn: 0.1597273\ttotal: 7.92s\tremaining: 9.11s\n",
            "465:\tlearn: 0.1596433\ttotal: 7.93s\tremaining: 9.09s\n",
            "466:\tlearn: 0.1595993\ttotal: 7.95s\tremaining: 9.07s\n",
            "467:\tlearn: 0.1595255\ttotal: 7.97s\tremaining: 9.06s\n",
            "468:\tlearn: 0.1594553\ttotal: 7.99s\tremaining: 9.04s\n",
            "469:\tlearn: 0.1594298\ttotal: 8s\tremaining: 9.02s\n",
            "470:\tlearn: 0.1593310\ttotal: 8.02s\tremaining: 9s\n",
            "471:\tlearn: 0.1592769\ttotal: 8.03s\tremaining: 8.98s\n",
            "472:\tlearn: 0.1591477\ttotal: 8.04s\tremaining: 8.96s\n",
            "473:\tlearn: 0.1591125\ttotal: 8.06s\tremaining: 8.94s\n",
            "474:\tlearn: 0.1590585\ttotal: 8.08s\tremaining: 8.93s\n",
            "475:\tlearn: 0.1589747\ttotal: 8.09s\tremaining: 8.91s\n",
            "476:\tlearn: 0.1589014\ttotal: 8.11s\tremaining: 8.89s\n",
            "477:\tlearn: 0.1588190\ttotal: 8.13s\tremaining: 8.87s\n",
            "478:\tlearn: 0.1587649\ttotal: 8.14s\tremaining: 8.85s\n",
            "479:\tlearn: 0.1586703\ttotal: 8.15s\tremaining: 8.83s\n",
            "480:\tlearn: 0.1586132\ttotal: 8.17s\tremaining: 8.81s\n",
            "481:\tlearn: 0.1585829\ttotal: 8.18s\tremaining: 8.79s\n",
            "482:\tlearn: 0.1584941\ttotal: 8.2s\tremaining: 8.78s\n",
            "483:\tlearn: 0.1584555\ttotal: 8.22s\tremaining: 8.76s\n",
            "484:\tlearn: 0.1583966\ttotal: 8.23s\tremaining: 8.74s\n",
            "485:\tlearn: 0.1583440\ttotal: 8.25s\tremaining: 8.72s\n",
            "486:\tlearn: 0.1583034\ttotal: 8.26s\tremaining: 8.7s\n",
            "487:\tlearn: 0.1582476\ttotal: 8.28s\tremaining: 8.69s\n",
            "488:\tlearn: 0.1581851\ttotal: 8.29s\tremaining: 8.67s\n",
            "489:\tlearn: 0.1581168\ttotal: 8.31s\tremaining: 8.65s\n",
            "490:\tlearn: 0.1580871\ttotal: 8.32s\tremaining: 8.63s\n",
            "491:\tlearn: 0.1580614\ttotal: 8.34s\tremaining: 8.61s\n",
            "492:\tlearn: 0.1580514\ttotal: 8.35s\tremaining: 8.59s\n",
            "493:\tlearn: 0.1579551\ttotal: 8.37s\tremaining: 8.57s\n",
            "494:\tlearn: 0.1578990\ttotal: 8.39s\tremaining: 8.56s\n",
            "495:\tlearn: 0.1578628\ttotal: 8.4s\tremaining: 8.54s\n",
            "496:\tlearn: 0.1578014\ttotal: 8.42s\tremaining: 8.52s\n",
            "497:\tlearn: 0.1577210\ttotal: 8.44s\tremaining: 8.5s\n",
            "498:\tlearn: 0.1576976\ttotal: 8.45s\tremaining: 8.48s\n",
            "499:\tlearn: 0.1576389\ttotal: 8.47s\tremaining: 8.47s\n",
            "500:\tlearn: 0.1575704\ttotal: 8.48s\tremaining: 8.45s\n",
            "501:\tlearn: 0.1575185\ttotal: 8.5s\tremaining: 8.44s\n",
            "502:\tlearn: 0.1574662\ttotal: 8.52s\tremaining: 8.42s\n",
            "503:\tlearn: 0.1574247\ttotal: 8.54s\tremaining: 8.4s\n",
            "504:\tlearn: 0.1573536\ttotal: 8.55s\tremaining: 8.38s\n",
            "505:\tlearn: 0.1572890\ttotal: 8.56s\tremaining: 8.36s\n",
            "506:\tlearn: 0.1572605\ttotal: 8.58s\tremaining: 8.34s\n",
            "507:\tlearn: 0.1572442\ttotal: 8.59s\tremaining: 8.32s\n",
            "508:\tlearn: 0.1572131\ttotal: 8.62s\tremaining: 8.31s\n",
            "509:\tlearn: 0.1571526\ttotal: 8.63s\tremaining: 8.29s\n",
            "510:\tlearn: 0.1571423\ttotal: 8.64s\tremaining: 8.27s\n",
            "511:\tlearn: 0.1570754\ttotal: 8.66s\tremaining: 8.25s\n",
            "512:\tlearn: 0.1570310\ttotal: 8.67s\tremaining: 8.23s\n",
            "513:\tlearn: 0.1570061\ttotal: 8.69s\tremaining: 8.21s\n",
            "514:\tlearn: 0.1569411\ttotal: 8.7s\tremaining: 8.2s\n",
            "515:\tlearn: 0.1568416\ttotal: 8.72s\tremaining: 8.18s\n",
            "516:\tlearn: 0.1567714\ttotal: 8.74s\tremaining: 8.16s\n",
            "517:\tlearn: 0.1567147\ttotal: 8.75s\tremaining: 8.15s\n",
            "518:\tlearn: 0.1566432\ttotal: 8.77s\tremaining: 8.13s\n",
            "519:\tlearn: 0.1566042\ttotal: 8.79s\tremaining: 8.11s\n",
            "520:\tlearn: 0.1565442\ttotal: 8.8s\tremaining: 8.09s\n",
            "521:\tlearn: 0.1565300\ttotal: 8.81s\tremaining: 8.07s\n",
            "522:\tlearn: 0.1564801\ttotal: 8.83s\tremaining: 8.05s\n",
            "523:\tlearn: 0.1563928\ttotal: 8.85s\tremaining: 8.04s\n",
            "524:\tlearn: 0.1563272\ttotal: 8.86s\tremaining: 8.02s\n",
            "525:\tlearn: 0.1562687\ttotal: 8.88s\tremaining: 8s\n",
            "526:\tlearn: 0.1562051\ttotal: 8.89s\tremaining: 7.98s\n",
            "527:\tlearn: 0.1561904\ttotal: 8.9s\tremaining: 7.96s\n",
            "528:\tlearn: 0.1561324\ttotal: 8.92s\tremaining: 7.94s\n",
            "529:\tlearn: 0.1560657\ttotal: 8.93s\tremaining: 7.92s\n",
            "530:\tlearn: 0.1560017\ttotal: 8.95s\tremaining: 7.9s\n",
            "531:\tlearn: 0.1559580\ttotal: 8.96s\tremaining: 7.88s\n",
            "532:\tlearn: 0.1559053\ttotal: 8.98s\tremaining: 7.87s\n",
            "533:\tlearn: 0.1558346\ttotal: 9s\tremaining: 7.85s\n",
            "534:\tlearn: 0.1557711\ttotal: 9.01s\tremaining: 7.83s\n",
            "535:\tlearn: 0.1556863\ttotal: 9.03s\tremaining: 7.81s\n",
            "536:\tlearn: 0.1556453\ttotal: 9.04s\tremaining: 7.79s\n",
            "537:\tlearn: 0.1555408\ttotal: 9.05s\tremaining: 7.78s\n",
            "538:\tlearn: 0.1554924\ttotal: 9.07s\tremaining: 7.76s\n",
            "539:\tlearn: 0.1554445\ttotal: 9.08s\tremaining: 7.74s\n",
            "540:\tlearn: 0.1553871\ttotal: 9.1s\tremaining: 7.72s\n",
            "541:\tlearn: 0.1553131\ttotal: 9.11s\tremaining: 7.7s\n",
            "542:\tlearn: 0.1552755\ttotal: 9.13s\tremaining: 7.68s\n",
            "543:\tlearn: 0.1552189\ttotal: 9.15s\tremaining: 7.67s\n",
            "544:\tlearn: 0.1551498\ttotal: 9.17s\tremaining: 7.65s\n",
            "545:\tlearn: 0.1550800\ttotal: 9.18s\tremaining: 7.63s\n",
            "546:\tlearn: 0.1550232\ttotal: 9.2s\tremaining: 7.62s\n",
            "547:\tlearn: 0.1549301\ttotal: 9.21s\tremaining: 7.6s\n",
            "548:\tlearn: 0.1548863\ttotal: 9.23s\tremaining: 7.58s\n",
            "549:\tlearn: 0.1548249\ttotal: 9.24s\tremaining: 7.56s\n",
            "550:\tlearn: 0.1547363\ttotal: 9.26s\tremaining: 7.54s\n",
            "551:\tlearn: 0.1547194\ttotal: 9.27s\tremaining: 7.52s\n",
            "552:\tlearn: 0.1546440\ttotal: 9.29s\tremaining: 7.51s\n",
            "553:\tlearn: 0.1546059\ttotal: 9.3s\tremaining: 7.49s\n",
            "554:\tlearn: 0.1545762\ttotal: 9.32s\tremaining: 7.47s\n",
            "555:\tlearn: 0.1545346\ttotal: 9.33s\tremaining: 7.45s\n",
            "556:\tlearn: 0.1544696\ttotal: 9.35s\tremaining: 7.44s\n",
            "557:\tlearn: 0.1543871\ttotal: 9.37s\tremaining: 7.42s\n",
            "558:\tlearn: 0.1543568\ttotal: 9.38s\tremaining: 7.4s\n",
            "559:\tlearn: 0.1543137\ttotal: 9.4s\tremaining: 7.38s\n",
            "560:\tlearn: 0.1542331\ttotal: 9.41s\tremaining: 7.37s\n",
            "561:\tlearn: 0.1541700\ttotal: 9.43s\tremaining: 7.35s\n",
            "562:\tlearn: 0.1541213\ttotal: 9.44s\tremaining: 7.33s\n",
            "563:\tlearn: 0.1540603\ttotal: 9.46s\tremaining: 7.31s\n",
            "564:\tlearn: 0.1540180\ttotal: 9.47s\tremaining: 7.29s\n",
            "565:\tlearn: 0.1539537\ttotal: 9.49s\tremaining: 7.28s\n",
            "566:\tlearn: 0.1539021\ttotal: 9.51s\tremaining: 7.26s\n",
            "567:\tlearn: 0.1538325\ttotal: 9.53s\tremaining: 7.25s\n",
            "568:\tlearn: 0.1537775\ttotal: 9.54s\tremaining: 7.23s\n",
            "569:\tlearn: 0.1536862\ttotal: 9.56s\tremaining: 7.21s\n",
            "570:\tlearn: 0.1536293\ttotal: 9.58s\tremaining: 7.2s\n",
            "571:\tlearn: 0.1535821\ttotal: 9.59s\tremaining: 7.18s\n",
            "572:\tlearn: 0.1535162\ttotal: 9.61s\tremaining: 7.16s\n",
            "573:\tlearn: 0.1534506\ttotal: 9.62s\tremaining: 7.14s\n",
            "574:\tlearn: 0.1533901\ttotal: 9.64s\tremaining: 7.12s\n",
            "575:\tlearn: 0.1533426\ttotal: 9.65s\tremaining: 7.1s\n",
            "576:\tlearn: 0.1532470\ttotal: 9.66s\tremaining: 7.08s\n",
            "577:\tlearn: 0.1531875\ttotal: 9.68s\tremaining: 7.07s\n",
            "578:\tlearn: 0.1531066\ttotal: 9.7s\tremaining: 7.05s\n",
            "579:\tlearn: 0.1530084\ttotal: 9.72s\tremaining: 7.04s\n",
            "580:\tlearn: 0.1529663\ttotal: 9.73s\tremaining: 7.02s\n",
            "581:\tlearn: 0.1529335\ttotal: 9.74s\tremaining: 7s\n",
            "582:\tlearn: 0.1528831\ttotal: 9.76s\tremaining: 6.98s\n",
            "583:\tlearn: 0.1528305\ttotal: 9.77s\tremaining: 6.96s\n",
            "584:\tlearn: 0.1527942\ttotal: 9.79s\tremaining: 6.94s\n",
            "585:\tlearn: 0.1527535\ttotal: 9.8s\tremaining: 6.92s\n",
            "586:\tlearn: 0.1527102\ttotal: 9.81s\tremaining: 6.9s\n",
            "587:\tlearn: 0.1526592\ttotal: 9.83s\tremaining: 6.89s\n",
            "588:\tlearn: 0.1526026\ttotal: 9.84s\tremaining: 6.87s\n",
            "589:\tlearn: 0.1525516\ttotal: 9.86s\tremaining: 6.85s\n",
            "590:\tlearn: 0.1525082\ttotal: 9.88s\tremaining: 6.83s\n",
            "591:\tlearn: 0.1524783\ttotal: 9.89s\tremaining: 6.82s\n",
            "592:\tlearn: 0.1524382\ttotal: 9.91s\tremaining: 6.8s\n",
            "593:\tlearn: 0.1523770\ttotal: 9.92s\tremaining: 6.78s\n",
            "594:\tlearn: 0.1523126\ttotal: 9.94s\tremaining: 6.76s\n",
            "595:\tlearn: 0.1522297\ttotal: 9.95s\tremaining: 6.75s\n",
            "596:\tlearn: 0.1521688\ttotal: 9.97s\tremaining: 6.73s\n",
            "597:\tlearn: 0.1520737\ttotal: 9.98s\tremaining: 6.71s\n",
            "598:\tlearn: 0.1519822\ttotal: 9.99s\tremaining: 6.69s\n",
            "599:\tlearn: 0.1519357\ttotal: 10s\tremaining: 6.67s\n",
            "600:\tlearn: 0.1519053\ttotal: 10s\tremaining: 6.65s\n",
            "601:\tlearn: 0.1518571\ttotal: 10s\tremaining: 6.63s\n",
            "602:\tlearn: 0.1517984\ttotal: 10.1s\tremaining: 6.62s\n",
            "603:\tlearn: 0.1517182\ttotal: 10.1s\tremaining: 6.61s\n",
            "604:\tlearn: 0.1516536\ttotal: 10.1s\tremaining: 6.59s\n",
            "605:\tlearn: 0.1515985\ttotal: 10.1s\tremaining: 6.57s\n",
            "606:\tlearn: 0.1515400\ttotal: 10.1s\tremaining: 6.55s\n",
            "607:\tlearn: 0.1514856\ttotal: 10.1s\tremaining: 6.53s\n",
            "608:\tlearn: 0.1514039\ttotal: 10.1s\tremaining: 6.52s\n",
            "609:\tlearn: 0.1513459\ttotal: 10.2s\tremaining: 6.5s\n",
            "610:\tlearn: 0.1512939\ttotal: 10.2s\tremaining: 6.48s\n",
            "611:\tlearn: 0.1512399\ttotal: 10.2s\tremaining: 6.46s\n",
            "612:\tlearn: 0.1512068\ttotal: 10.2s\tremaining: 6.44s\n",
            "613:\tlearn: 0.1511522\ttotal: 10.2s\tremaining: 6.43s\n",
            "614:\tlearn: 0.1511057\ttotal: 10.2s\tremaining: 6.41s\n",
            "615:\tlearn: 0.1510603\ttotal: 10.3s\tremaining: 6.39s\n",
            "616:\tlearn: 0.1510246\ttotal: 10.3s\tremaining: 6.38s\n",
            "617:\tlearn: 0.1509857\ttotal: 10.3s\tremaining: 6.36s\n",
            "618:\tlearn: 0.1509410\ttotal: 10.3s\tremaining: 6.34s\n",
            "619:\tlearn: 0.1508836\ttotal: 10.3s\tremaining: 6.33s\n",
            "620:\tlearn: 0.1508310\ttotal: 10.3s\tremaining: 6.31s\n",
            "621:\tlearn: 0.1508200\ttotal: 10.4s\tremaining: 6.29s\n",
            "622:\tlearn: 0.1507753\ttotal: 10.4s\tremaining: 6.27s\n",
            "623:\tlearn: 0.1506979\ttotal: 10.4s\tremaining: 6.25s\n",
            "624:\tlearn: 0.1506500\ttotal: 10.4s\tremaining: 6.24s\n",
            "625:\tlearn: 0.1505896\ttotal: 10.4s\tremaining: 6.22s\n",
            "626:\tlearn: 0.1505549\ttotal: 10.4s\tremaining: 6.21s\n",
            "627:\tlearn: 0.1505021\ttotal: 10.4s\tremaining: 6.19s\n",
            "628:\tlearn: 0.1504490\ttotal: 10.5s\tremaining: 6.17s\n",
            "629:\tlearn: 0.1503733\ttotal: 10.5s\tremaining: 6.15s\n",
            "630:\tlearn: 0.1503643\ttotal: 10.5s\tremaining: 6.13s\n",
            "631:\tlearn: 0.1503022\ttotal: 10.5s\tremaining: 6.12s\n",
            "632:\tlearn: 0.1502378\ttotal: 10.5s\tremaining: 6.1s\n",
            "633:\tlearn: 0.1501891\ttotal: 10.5s\tremaining: 6.08s\n",
            "634:\tlearn: 0.1501644\ttotal: 10.5s\tremaining: 6.06s\n",
            "635:\tlearn: 0.1501302\ttotal: 10.6s\tremaining: 6.04s\n",
            "636:\tlearn: 0.1500427\ttotal: 10.6s\tremaining: 6.03s\n",
            "637:\tlearn: 0.1499887\ttotal: 10.6s\tremaining: 6.01s\n",
            "638:\tlearn: 0.1499492\ttotal: 10.6s\tremaining: 5.99s\n",
            "639:\tlearn: 0.1498754\ttotal: 10.6s\tremaining: 5.97s\n",
            "640:\tlearn: 0.1498377\ttotal: 10.6s\tremaining: 5.96s\n",
            "641:\tlearn: 0.1497887\ttotal: 10.6s\tremaining: 5.94s\n",
            "642:\tlearn: 0.1497482\ttotal: 10.7s\tremaining: 5.92s\n",
            "643:\tlearn: 0.1497049\ttotal: 10.7s\tremaining: 5.9s\n",
            "644:\tlearn: 0.1496966\ttotal: 10.7s\tremaining: 5.88s\n",
            "645:\tlearn: 0.1496478\ttotal: 10.7s\tremaining: 5.87s\n",
            "646:\tlearn: 0.1496091\ttotal: 10.7s\tremaining: 5.85s\n",
            "647:\tlearn: 0.1495698\ttotal: 10.7s\tremaining: 5.83s\n",
            "648:\tlearn: 0.1495234\ttotal: 10.8s\tremaining: 5.82s\n",
            "649:\tlearn: 0.1494518\ttotal: 10.8s\tremaining: 5.8s\n",
            "650:\tlearn: 0.1494220\ttotal: 10.8s\tremaining: 5.78s\n",
            "651:\tlearn: 0.1493409\ttotal: 10.8s\tremaining: 5.77s\n",
            "652:\tlearn: 0.1492803\ttotal: 10.8s\tremaining: 5.75s\n",
            "653:\tlearn: 0.1492242\ttotal: 10.8s\tremaining: 5.73s\n",
            "654:\tlearn: 0.1491594\ttotal: 10.9s\tremaining: 5.72s\n",
            "655:\tlearn: 0.1491169\ttotal: 10.9s\tremaining: 5.7s\n",
            "656:\tlearn: 0.1490771\ttotal: 10.9s\tremaining: 5.68s\n",
            "657:\tlearn: 0.1490105\ttotal: 10.9s\tremaining: 5.66s\n",
            "658:\tlearn: 0.1489782\ttotal: 10.9s\tremaining: 5.64s\n",
            "659:\tlearn: 0.1489361\ttotal: 10.9s\tremaining: 5.63s\n",
            "660:\tlearn: 0.1488988\ttotal: 10.9s\tremaining: 5.61s\n",
            "661:\tlearn: 0.1488143\ttotal: 11s\tremaining: 5.6s\n",
            "662:\tlearn: 0.1487694\ttotal: 11s\tremaining: 5.58s\n",
            "663:\tlearn: 0.1487266\ttotal: 11s\tremaining: 5.56s\n",
            "664:\tlearn: 0.1486888\ttotal: 11s\tremaining: 5.54s\n",
            "665:\tlearn: 0.1486333\ttotal: 11s\tremaining: 5.53s\n",
            "666:\tlearn: 0.1485798\ttotal: 11s\tremaining: 5.51s\n",
            "667:\tlearn: 0.1485317\ttotal: 11.1s\tremaining: 5.49s\n",
            "668:\tlearn: 0.1485055\ttotal: 11.1s\tremaining: 5.48s\n",
            "669:\tlearn: 0.1484442\ttotal: 11.1s\tremaining: 5.46s\n",
            "670:\tlearn: 0.1483846\ttotal: 11.1s\tremaining: 5.44s\n",
            "671:\tlearn: 0.1483356\ttotal: 11.1s\tremaining: 5.43s\n",
            "672:\tlearn: 0.1482936\ttotal: 11.1s\tremaining: 5.41s\n",
            "673:\tlearn: 0.1482272\ttotal: 11.1s\tremaining: 5.39s\n",
            "674:\tlearn: 0.1481877\ttotal: 11.2s\tremaining: 5.37s\n",
            "675:\tlearn: 0.1481334\ttotal: 11.2s\tremaining: 5.36s\n",
            "676:\tlearn: 0.1480810\ttotal: 11.2s\tremaining: 5.34s\n",
            "677:\tlearn: 0.1480349\ttotal: 11.2s\tremaining: 5.32s\n",
            "678:\tlearn: 0.1480267\ttotal: 11.2s\tremaining: 5.3s\n",
            "679:\tlearn: 0.1479773\ttotal: 11.2s\tremaining: 5.29s\n",
            "680:\tlearn: 0.1479082\ttotal: 11.2s\tremaining: 5.27s\n",
            "681:\tlearn: 0.1478514\ttotal: 11.3s\tremaining: 5.25s\n",
            "682:\tlearn: 0.1477904\ttotal: 11.3s\tremaining: 5.23s\n",
            "683:\tlearn: 0.1477429\ttotal: 11.3s\tremaining: 5.22s\n",
            "684:\tlearn: 0.1476823\ttotal: 11.3s\tremaining: 5.2s\n",
            "685:\tlearn: 0.1476209\ttotal: 11.3s\tremaining: 5.18s\n",
            "686:\tlearn: 0.1475849\ttotal: 11.3s\tremaining: 5.17s\n",
            "687:\tlearn: 0.1475188\ttotal: 11.4s\tremaining: 5.15s\n",
            "688:\tlearn: 0.1474678\ttotal: 11.4s\tremaining: 5.13s\n",
            "689:\tlearn: 0.1474055\ttotal: 11.4s\tremaining: 5.11s\n",
            "690:\tlearn: 0.1473356\ttotal: 11.4s\tremaining: 5.09s\n",
            "691:\tlearn: 0.1472892\ttotal: 11.4s\tremaining: 5.08s\n",
            "692:\tlearn: 0.1472576\ttotal: 11.4s\tremaining: 5.06s\n",
            "693:\tlearn: 0.1471675\ttotal: 11.4s\tremaining: 5.04s\n",
            "694:\tlearn: 0.1471085\ttotal: 11.5s\tremaining: 5.03s\n",
            "695:\tlearn: 0.1470807\ttotal: 11.5s\tremaining: 5.01s\n",
            "696:\tlearn: 0.1470647\ttotal: 11.5s\tremaining: 4.99s\n",
            "697:\tlearn: 0.1470056\ttotal: 11.5s\tremaining: 4.97s\n",
            "698:\tlearn: 0.1469315\ttotal: 11.5s\tremaining: 4.96s\n",
            "699:\tlearn: 0.1468457\ttotal: 11.5s\tremaining: 4.94s\n",
            "700:\tlearn: 0.1467923\ttotal: 11.5s\tremaining: 4.92s\n",
            "701:\tlearn: 0.1467539\ttotal: 11.6s\tremaining: 4.91s\n",
            "702:\tlearn: 0.1466915\ttotal: 11.6s\tremaining: 4.89s\n",
            "703:\tlearn: 0.1466385\ttotal: 11.6s\tremaining: 4.87s\n",
            "704:\tlearn: 0.1466064\ttotal: 11.6s\tremaining: 4.86s\n",
            "705:\tlearn: 0.1465676\ttotal: 11.6s\tremaining: 4.84s\n",
            "706:\tlearn: 0.1465316\ttotal: 11.6s\tremaining: 4.82s\n",
            "707:\tlearn: 0.1465019\ttotal: 11.7s\tremaining: 4.81s\n",
            "708:\tlearn: 0.1464682\ttotal: 11.7s\tremaining: 4.79s\n",
            "709:\tlearn: 0.1464361\ttotal: 11.7s\tremaining: 4.77s\n",
            "710:\tlearn: 0.1463672\ttotal: 11.7s\tremaining: 4.76s\n",
            "711:\tlearn: 0.1462860\ttotal: 11.7s\tremaining: 4.74s\n",
            "712:\tlearn: 0.1462338\ttotal: 11.7s\tremaining: 4.72s\n",
            "713:\tlearn: 0.1461914\ttotal: 11.8s\tremaining: 4.71s\n",
            "714:\tlearn: 0.1461295\ttotal: 11.8s\tremaining: 4.69s\n",
            "715:\tlearn: 0.1460553\ttotal: 11.8s\tremaining: 4.67s\n",
            "716:\tlearn: 0.1459986\ttotal: 11.8s\tremaining: 4.66s\n",
            "717:\tlearn: 0.1459576\ttotal: 11.8s\tremaining: 4.64s\n",
            "718:\tlearn: 0.1459288\ttotal: 11.8s\tremaining: 4.62s\n",
            "719:\tlearn: 0.1458621\ttotal: 11.8s\tremaining: 4.61s\n",
            "720:\tlearn: 0.1458238\ttotal: 11.9s\tremaining: 4.59s\n",
            "721:\tlearn: 0.1457897\ttotal: 11.9s\tremaining: 4.57s\n",
            "722:\tlearn: 0.1457596\ttotal: 11.9s\tremaining: 4.55s\n",
            "723:\tlearn: 0.1456947\ttotal: 11.9s\tremaining: 4.54s\n",
            "724:\tlearn: 0.1456318\ttotal: 11.9s\tremaining: 4.52s\n",
            "725:\tlearn: 0.1455988\ttotal: 11.9s\tremaining: 4.5s\n",
            "726:\tlearn: 0.1455094\ttotal: 12s\tremaining: 4.49s\n",
            "727:\tlearn: 0.1454624\ttotal: 12s\tremaining: 4.47s\n",
            "728:\tlearn: 0.1454121\ttotal: 12s\tremaining: 4.46s\n",
            "729:\tlearn: 0.1453587\ttotal: 12s\tremaining: 4.44s\n",
            "730:\tlearn: 0.1453532\ttotal: 12s\tremaining: 4.42s\n",
            "731:\tlearn: 0.1453102\ttotal: 12s\tremaining: 4.41s\n",
            "732:\tlearn: 0.1452593\ttotal: 12.1s\tremaining: 4.39s\n",
            "733:\tlearn: 0.1452153\ttotal: 12.1s\tremaining: 4.37s\n",
            "734:\tlearn: 0.1451514\ttotal: 12.1s\tremaining: 4.36s\n",
            "735:\tlearn: 0.1451450\ttotal: 12.1s\tremaining: 4.34s\n",
            "736:\tlearn: 0.1451093\ttotal: 12.1s\tremaining: 4.32s\n",
            "737:\tlearn: 0.1450468\ttotal: 12.1s\tremaining: 4.3s\n",
            "738:\tlearn: 0.1449812\ttotal: 12.1s\tremaining: 4.29s\n",
            "739:\tlearn: 0.1449126\ttotal: 12.2s\tremaining: 4.27s\n",
            "740:\tlearn: 0.1448515\ttotal: 12.2s\tremaining: 4.25s\n",
            "741:\tlearn: 0.1447856\ttotal: 12.2s\tremaining: 4.24s\n",
            "742:\tlearn: 0.1447308\ttotal: 12.2s\tremaining: 4.22s\n",
            "743:\tlearn: 0.1446917\ttotal: 12.2s\tremaining: 4.21s\n",
            "744:\tlearn: 0.1446230\ttotal: 12.2s\tremaining: 4.19s\n",
            "745:\tlearn: 0.1445803\ttotal: 12.3s\tremaining: 4.17s\n",
            "746:\tlearn: 0.1445769\ttotal: 12.3s\tremaining: 4.15s\n",
            "747:\tlearn: 0.1445484\ttotal: 12.3s\tremaining: 4.14s\n",
            "748:\tlearn: 0.1445192\ttotal: 12.3s\tremaining: 4.12s\n",
            "749:\tlearn: 0.1444679\ttotal: 12.3s\tremaining: 4.1s\n",
            "750:\tlearn: 0.1444252\ttotal: 12.3s\tremaining: 4.08s\n",
            "751:\tlearn: 0.1443767\ttotal: 12.3s\tremaining: 4.07s\n",
            "752:\tlearn: 0.1443494\ttotal: 12.3s\tremaining: 4.05s\n",
            "753:\tlearn: 0.1442990\ttotal: 12.4s\tremaining: 4.03s\n",
            "754:\tlearn: 0.1442243\ttotal: 12.4s\tremaining: 4.02s\n",
            "755:\tlearn: 0.1441439\ttotal: 12.4s\tremaining: 4s\n",
            "756:\tlearn: 0.1441050\ttotal: 12.4s\tremaining: 3.98s\n",
            "757:\tlearn: 0.1440659\ttotal: 12.4s\tremaining: 3.97s\n",
            "758:\tlearn: 0.1440061\ttotal: 12.4s\tremaining: 3.95s\n",
            "759:\tlearn: 0.1439803\ttotal: 12.5s\tremaining: 3.94s\n",
            "760:\tlearn: 0.1439753\ttotal: 12.5s\tremaining: 3.92s\n",
            "761:\tlearn: 0.1438913\ttotal: 12.5s\tremaining: 3.9s\n",
            "762:\tlearn: 0.1438129\ttotal: 12.5s\tremaining: 3.89s\n",
            "763:\tlearn: 0.1437788\ttotal: 12.5s\tremaining: 3.87s\n",
            "764:\tlearn: 0.1437029\ttotal: 12.5s\tremaining: 3.85s\n",
            "765:\tlearn: 0.1436633\ttotal: 12.6s\tremaining: 3.83s\n",
            "766:\tlearn: 0.1436111\ttotal: 12.6s\tremaining: 3.82s\n",
            "767:\tlearn: 0.1435580\ttotal: 12.6s\tremaining: 3.8s\n",
            "768:\tlearn: 0.1434886\ttotal: 12.6s\tremaining: 3.79s\n",
            "769:\tlearn: 0.1434265\ttotal: 12.6s\tremaining: 3.77s\n",
            "770:\tlearn: 0.1433856\ttotal: 12.6s\tremaining: 3.75s\n",
            "771:\tlearn: 0.1433416\ttotal: 12.6s\tremaining: 3.73s\n",
            "772:\tlearn: 0.1432816\ttotal: 12.7s\tremaining: 3.72s\n",
            "773:\tlearn: 0.1432134\ttotal: 12.7s\tremaining: 3.7s\n",
            "774:\tlearn: 0.1431601\ttotal: 12.7s\tremaining: 3.69s\n",
            "775:\tlearn: 0.1431144\ttotal: 12.7s\tremaining: 3.67s\n",
            "776:\tlearn: 0.1430726\ttotal: 12.7s\tremaining: 3.65s\n",
            "777:\tlearn: 0.1430074\ttotal: 12.7s\tremaining: 3.64s\n",
            "778:\tlearn: 0.1429505\ttotal: 12.8s\tremaining: 3.62s\n",
            "779:\tlearn: 0.1429067\ttotal: 12.8s\tremaining: 3.6s\n",
            "780:\tlearn: 0.1428584\ttotal: 12.8s\tremaining: 3.59s\n",
            "781:\tlearn: 0.1428072\ttotal: 12.8s\tremaining: 3.57s\n",
            "782:\tlearn: 0.1427480\ttotal: 12.8s\tremaining: 3.55s\n",
            "783:\tlearn: 0.1426884\ttotal: 12.8s\tremaining: 3.54s\n",
            "784:\tlearn: 0.1426150\ttotal: 12.9s\tremaining: 3.52s\n",
            "785:\tlearn: 0.1425673\ttotal: 12.9s\tremaining: 3.5s\n",
            "786:\tlearn: 0.1425447\ttotal: 12.9s\tremaining: 3.49s\n",
            "787:\tlearn: 0.1424864\ttotal: 12.9s\tremaining: 3.47s\n",
            "788:\tlearn: 0.1424564\ttotal: 12.9s\tremaining: 3.45s\n",
            "789:\tlearn: 0.1424138\ttotal: 12.9s\tremaining: 3.44s\n",
            "790:\tlearn: 0.1423535\ttotal: 12.9s\tremaining: 3.42s\n",
            "791:\tlearn: 0.1423215\ttotal: 13s\tremaining: 3.4s\n",
            "792:\tlearn: 0.1422268\ttotal: 13s\tremaining: 3.39s\n",
            "793:\tlearn: 0.1421908\ttotal: 13s\tremaining: 3.37s\n",
            "794:\tlearn: 0.1421376\ttotal: 13s\tremaining: 3.35s\n",
            "795:\tlearn: 0.1421187\ttotal: 13s\tremaining: 3.34s\n",
            "796:\tlearn: 0.1420831\ttotal: 13s\tremaining: 3.32s\n",
            "797:\tlearn: 0.1420267\ttotal: 13.1s\tremaining: 3.31s\n",
            "798:\tlearn: 0.1419795\ttotal: 13.1s\tremaining: 3.29s\n",
            "799:\tlearn: 0.1419284\ttotal: 13.1s\tremaining: 3.27s\n",
            "800:\tlearn: 0.1418830\ttotal: 13.1s\tremaining: 3.25s\n",
            "801:\tlearn: 0.1418776\ttotal: 13.1s\tremaining: 3.24s\n",
            "802:\tlearn: 0.1418384\ttotal: 13.1s\tremaining: 3.22s\n",
            "803:\tlearn: 0.1417786\ttotal: 13.1s\tremaining: 3.21s\n",
            "804:\tlearn: 0.1417301\ttotal: 13.2s\tremaining: 3.19s\n",
            "805:\tlearn: 0.1416631\ttotal: 13.2s\tremaining: 3.17s\n",
            "806:\tlearn: 0.1416238\ttotal: 13.2s\tremaining: 3.16s\n",
            "807:\tlearn: 0.1415602\ttotal: 13.2s\tremaining: 3.14s\n",
            "808:\tlearn: 0.1415311\ttotal: 13.2s\tremaining: 3.12s\n",
            "809:\tlearn: 0.1414838\ttotal: 13.2s\tremaining: 3.11s\n",
            "810:\tlearn: 0.1414169\ttotal: 13.3s\tremaining: 3.09s\n",
            "811:\tlearn: 0.1413758\ttotal: 13.3s\tremaining: 3.07s\n",
            "812:\tlearn: 0.1413494\ttotal: 13.3s\tremaining: 3.06s\n",
            "813:\tlearn: 0.1413189\ttotal: 13.3s\tremaining: 3.04s\n",
            "814:\tlearn: 0.1413123\ttotal: 13.3s\tremaining: 3.02s\n",
            "815:\tlearn: 0.1412646\ttotal: 13.3s\tremaining: 3.01s\n",
            "816:\tlearn: 0.1412604\ttotal: 13.4s\tremaining: 2.99s\n",
            "817:\tlearn: 0.1412292\ttotal: 13.4s\tremaining: 2.97s\n",
            "818:\tlearn: 0.1411766\ttotal: 13.4s\tremaining: 2.96s\n",
            "819:\tlearn: 0.1411311\ttotal: 13.4s\tremaining: 2.94s\n",
            "820:\tlearn: 0.1410956\ttotal: 13.4s\tremaining: 2.92s\n",
            "821:\tlearn: 0.1410407\ttotal: 13.4s\tremaining: 2.91s\n",
            "822:\tlearn: 0.1410096\ttotal: 13.4s\tremaining: 2.89s\n",
            "823:\tlearn: 0.1410040\ttotal: 13.5s\tremaining: 2.87s\n",
            "824:\tlearn: 0.1409485\ttotal: 13.5s\tremaining: 2.86s\n",
            "825:\tlearn: 0.1409057\ttotal: 13.5s\tremaining: 2.84s\n",
            "826:\tlearn: 0.1409007\ttotal: 13.5s\tremaining: 2.82s\n",
            "827:\tlearn: 0.1408715\ttotal: 13.5s\tremaining: 2.81s\n",
            "828:\tlearn: 0.1408019\ttotal: 13.5s\tremaining: 2.79s\n",
            "829:\tlearn: 0.1407359\ttotal: 13.5s\tremaining: 2.77s\n",
            "830:\tlearn: 0.1406912\ttotal: 13.6s\tremaining: 2.76s\n",
            "831:\tlearn: 0.1406805\ttotal: 13.6s\tremaining: 2.74s\n",
            "832:\tlearn: 0.1406328\ttotal: 13.6s\tremaining: 2.72s\n",
            "833:\tlearn: 0.1405866\ttotal: 13.6s\tremaining: 2.71s\n",
            "834:\tlearn: 0.1405460\ttotal: 13.6s\tremaining: 2.69s\n",
            "835:\tlearn: 0.1404763\ttotal: 13.6s\tremaining: 2.67s\n",
            "836:\tlearn: 0.1404347\ttotal: 13.6s\tremaining: 2.66s\n",
            "837:\tlearn: 0.1404058\ttotal: 13.7s\tremaining: 2.64s\n",
            "838:\tlearn: 0.1403523\ttotal: 13.7s\tremaining: 2.62s\n",
            "839:\tlearn: 0.1403430\ttotal: 13.7s\tremaining: 2.61s\n",
            "840:\tlearn: 0.1403004\ttotal: 13.7s\tremaining: 2.59s\n",
            "841:\tlearn: 0.1402576\ttotal: 13.7s\tremaining: 2.58s\n",
            "842:\tlearn: 0.1402400\ttotal: 13.7s\tremaining: 2.56s\n",
            "843:\tlearn: 0.1402018\ttotal: 13.8s\tremaining: 2.54s\n",
            "844:\tlearn: 0.1401442\ttotal: 13.8s\tremaining: 2.52s\n",
            "845:\tlearn: 0.1400803\ttotal: 13.8s\tremaining: 2.51s\n",
            "846:\tlearn: 0.1400326\ttotal: 13.8s\tremaining: 2.49s\n",
            "847:\tlearn: 0.1399693\ttotal: 13.8s\tremaining: 2.48s\n",
            "848:\tlearn: 0.1399530\ttotal: 13.8s\tremaining: 2.46s\n",
            "849:\tlearn: 0.1399103\ttotal: 13.8s\tremaining: 2.44s\n",
            "850:\tlearn: 0.1398779\ttotal: 13.9s\tremaining: 2.43s\n",
            "851:\tlearn: 0.1398372\ttotal: 13.9s\tremaining: 2.41s\n",
            "852:\tlearn: 0.1398318\ttotal: 13.9s\tremaining: 2.39s\n",
            "853:\tlearn: 0.1397682\ttotal: 13.9s\tremaining: 2.38s\n",
            "854:\tlearn: 0.1397080\ttotal: 13.9s\tremaining: 2.36s\n",
            "855:\tlearn: 0.1396559\ttotal: 13.9s\tremaining: 2.34s\n",
            "856:\tlearn: 0.1396321\ttotal: 13.9s\tremaining: 2.33s\n",
            "857:\tlearn: 0.1395958\ttotal: 14s\tremaining: 2.31s\n",
            "858:\tlearn: 0.1395210\ttotal: 14s\tremaining: 2.29s\n",
            "859:\tlearn: 0.1394636\ttotal: 14s\tremaining: 2.28s\n",
            "860:\tlearn: 0.1394286\ttotal: 14s\tremaining: 2.26s\n",
            "861:\tlearn: 0.1393880\ttotal: 14s\tremaining: 2.25s\n",
            "862:\tlearn: 0.1393242\ttotal: 14s\tremaining: 2.23s\n",
            "863:\tlearn: 0.1392891\ttotal: 14.1s\tremaining: 2.21s\n",
            "864:\tlearn: 0.1392514\ttotal: 14.1s\tremaining: 2.2s\n",
            "865:\tlearn: 0.1392084\ttotal: 14.1s\tremaining: 2.18s\n",
            "866:\tlearn: 0.1391560\ttotal: 14.1s\tremaining: 2.17s\n",
            "867:\tlearn: 0.1390904\ttotal: 14.1s\tremaining: 2.15s\n",
            "868:\tlearn: 0.1390317\ttotal: 14.1s\tremaining: 2.13s\n",
            "869:\tlearn: 0.1389901\ttotal: 14.2s\tremaining: 2.12s\n",
            "870:\tlearn: 0.1389433\ttotal: 14.2s\tremaining: 2.1s\n",
            "871:\tlearn: 0.1389051\ttotal: 14.2s\tremaining: 2.08s\n",
            "872:\tlearn: 0.1388466\ttotal: 14.2s\tremaining: 2.07s\n",
            "873:\tlearn: 0.1388098\ttotal: 14.2s\tremaining: 2.05s\n",
            "874:\tlearn: 0.1387644\ttotal: 14.2s\tremaining: 2.03s\n",
            "875:\tlearn: 0.1387399\ttotal: 14.3s\tremaining: 2.02s\n",
            "876:\tlearn: 0.1387083\ttotal: 14.3s\tremaining: 2s\n",
            "877:\tlearn: 0.1386570\ttotal: 14.3s\tremaining: 1.99s\n",
            "878:\tlearn: 0.1386537\ttotal: 14.3s\tremaining: 1.97s\n",
            "879:\tlearn: 0.1386461\ttotal: 14.3s\tremaining: 1.95s\n",
            "880:\tlearn: 0.1385926\ttotal: 14.3s\tremaining: 1.94s\n",
            "881:\tlearn: 0.1385491\ttotal: 14.4s\tremaining: 1.92s\n",
            "882:\tlearn: 0.1385220\ttotal: 14.4s\tremaining: 1.9s\n",
            "883:\tlearn: 0.1384873\ttotal: 14.4s\tremaining: 1.89s\n",
            "884:\tlearn: 0.1384249\ttotal: 14.4s\tremaining: 1.87s\n",
            "885:\tlearn: 0.1383848\ttotal: 14.4s\tremaining: 1.85s\n",
            "886:\tlearn: 0.1383520\ttotal: 14.4s\tremaining: 1.84s\n",
            "887:\tlearn: 0.1382627\ttotal: 14.4s\tremaining: 1.82s\n",
            "888:\tlearn: 0.1382169\ttotal: 14.5s\tremaining: 1.81s\n",
            "889:\tlearn: 0.1381797\ttotal: 14.5s\tremaining: 1.79s\n",
            "890:\tlearn: 0.1381470\ttotal: 14.5s\tremaining: 1.77s\n",
            "891:\tlearn: 0.1380932\ttotal: 14.5s\tremaining: 1.76s\n",
            "892:\tlearn: 0.1380572\ttotal: 14.5s\tremaining: 1.74s\n",
            "893:\tlearn: 0.1380055\ttotal: 14.5s\tremaining: 1.72s\n",
            "894:\tlearn: 0.1379736\ttotal: 14.6s\tremaining: 1.71s\n",
            "895:\tlearn: 0.1379335\ttotal: 14.6s\tremaining: 1.69s\n",
            "896:\tlearn: 0.1379002\ttotal: 14.6s\tremaining: 1.68s\n",
            "897:\tlearn: 0.1378551\ttotal: 14.6s\tremaining: 1.66s\n",
            "898:\tlearn: 0.1377940\ttotal: 14.6s\tremaining: 1.64s\n",
            "899:\tlearn: 0.1377541\ttotal: 14.6s\tremaining: 1.63s\n",
            "900:\tlearn: 0.1376929\ttotal: 14.7s\tremaining: 1.61s\n",
            "901:\tlearn: 0.1376486\ttotal: 14.7s\tremaining: 1.59s\n",
            "902:\tlearn: 0.1376342\ttotal: 14.7s\tremaining: 1.58s\n",
            "903:\tlearn: 0.1376054\ttotal: 14.7s\tremaining: 1.56s\n",
            "904:\tlearn: 0.1375722\ttotal: 14.7s\tremaining: 1.54s\n",
            "905:\tlearn: 0.1374902\ttotal: 14.7s\tremaining: 1.53s\n",
            "906:\tlearn: 0.1374457\ttotal: 14.7s\tremaining: 1.51s\n",
            "907:\tlearn: 0.1374110\ttotal: 14.8s\tremaining: 1.5s\n",
            "908:\tlearn: 0.1373805\ttotal: 14.8s\tremaining: 1.48s\n",
            "909:\tlearn: 0.1373359\ttotal: 14.8s\tremaining: 1.46s\n",
            "910:\tlearn: 0.1373166\ttotal: 14.8s\tremaining: 1.45s\n",
            "911:\tlearn: 0.1372584\ttotal: 14.8s\tremaining: 1.43s\n",
            "912:\tlearn: 0.1372055\ttotal: 14.8s\tremaining: 1.41s\n",
            "913:\tlearn: 0.1371628\ttotal: 14.8s\tremaining: 1.4s\n",
            "914:\tlearn: 0.1371075\ttotal: 14.9s\tremaining: 1.38s\n",
            "915:\tlearn: 0.1370609\ttotal: 14.9s\tremaining: 1.36s\n",
            "916:\tlearn: 0.1370207\ttotal: 14.9s\tremaining: 1.35s\n",
            "917:\tlearn: 0.1369541\ttotal: 14.9s\tremaining: 1.33s\n",
            "918:\tlearn: 0.1369098\ttotal: 14.9s\tremaining: 1.31s\n",
            "919:\tlearn: 0.1368653\ttotal: 14.9s\tremaining: 1.3s\n",
            "920:\tlearn: 0.1368575\ttotal: 15s\tremaining: 1.28s\n",
            "921:\tlearn: 0.1368141\ttotal: 15s\tremaining: 1.27s\n",
            "922:\tlearn: 0.1367653\ttotal: 15s\tremaining: 1.25s\n",
            "923:\tlearn: 0.1367390\ttotal: 15s\tremaining: 1.23s\n",
            "924:\tlearn: 0.1367051\ttotal: 15s\tremaining: 1.22s\n",
            "925:\tlearn: 0.1366696\ttotal: 15s\tremaining: 1.2s\n",
            "926:\tlearn: 0.1366249\ttotal: 15s\tremaining: 1.18s\n",
            "927:\tlearn: 0.1365713\ttotal: 15.1s\tremaining: 1.17s\n",
            "928:\tlearn: 0.1365189\ttotal: 15.1s\tremaining: 1.15s\n",
            "929:\tlearn: 0.1364379\ttotal: 15.1s\tremaining: 1.14s\n",
            "930:\tlearn: 0.1363941\ttotal: 15.1s\tremaining: 1.12s\n",
            "931:\tlearn: 0.1363649\ttotal: 15.1s\tremaining: 1.1s\n",
            "932:\tlearn: 0.1363104\ttotal: 15.1s\tremaining: 1.09s\n",
            "933:\tlearn: 0.1362695\ttotal: 15.2s\tremaining: 1.07s\n",
            "934:\tlearn: 0.1362626\ttotal: 15.2s\tremaining: 1.05s\n",
            "935:\tlearn: 0.1362560\ttotal: 15.2s\tremaining: 1.04s\n",
            "936:\tlearn: 0.1361936\ttotal: 15.2s\tremaining: 1.02s\n",
            "937:\tlearn: 0.1361454\ttotal: 15.2s\tremaining: 1s\n",
            "938:\tlearn: 0.1361121\ttotal: 15.2s\tremaining: 989ms\n",
            "939:\tlearn: 0.1360513\ttotal: 15.2s\tremaining: 973ms\n",
            "940:\tlearn: 0.1359936\ttotal: 15.3s\tremaining: 956ms\n",
            "941:\tlearn: 0.1359784\ttotal: 15.3s\tremaining: 943ms\n",
            "942:\tlearn: 0.1359284\ttotal: 15.3s\tremaining: 927ms\n",
            "943:\tlearn: 0.1358858\ttotal: 15.4s\tremaining: 912ms\n",
            "944:\tlearn: 0.1358321\ttotal: 15.4s\tremaining: 896ms\n",
            "945:\tlearn: 0.1358000\ttotal: 15.4s\tremaining: 881ms\n",
            "946:\tlearn: 0.1357651\ttotal: 15.5s\tremaining: 865ms\n",
            "947:\tlearn: 0.1357213\ttotal: 15.5s\tremaining: 850ms\n",
            "948:\tlearn: 0.1356621\ttotal: 15.5s\tremaining: 834ms\n",
            "949:\tlearn: 0.1356214\ttotal: 15.5s\tremaining: 818ms\n",
            "950:\tlearn: 0.1355765\ttotal: 15.5s\tremaining: 801ms\n",
            "951:\tlearn: 0.1355313\ttotal: 15.6s\tremaining: 785ms\n",
            "952:\tlearn: 0.1354964\ttotal: 15.6s\tremaining: 769ms\n",
            "953:\tlearn: 0.1354499\ttotal: 15.6s\tremaining: 752ms\n",
            "954:\tlearn: 0.1353956\ttotal: 15.6s\tremaining: 736ms\n",
            "955:\tlearn: 0.1353491\ttotal: 15.6s\tremaining: 720ms\n",
            "956:\tlearn: 0.1353105\ttotal: 15.7s\tremaining: 704ms\n",
            "957:\tlearn: 0.1352738\ttotal: 15.7s\tremaining: 687ms\n",
            "958:\tlearn: 0.1352235\ttotal: 15.7s\tremaining: 671ms\n",
            "959:\tlearn: 0.1351535\ttotal: 15.7s\tremaining: 655ms\n",
            "960:\tlearn: 0.1351161\ttotal: 15.7s\tremaining: 639ms\n",
            "961:\tlearn: 0.1350731\ttotal: 15.8s\tremaining: 622ms\n",
            "962:\tlearn: 0.1350318\ttotal: 15.8s\tremaining: 606ms\n",
            "963:\tlearn: 0.1350010\ttotal: 15.8s\tremaining: 590ms\n",
            "964:\tlearn: 0.1349571\ttotal: 15.8s\tremaining: 574ms\n",
            "965:\tlearn: 0.1349328\ttotal: 15.9s\tremaining: 558ms\n",
            "966:\tlearn: 0.1348855\ttotal: 15.9s\tremaining: 542ms\n",
            "967:\tlearn: 0.1348465\ttotal: 15.9s\tremaining: 526ms\n",
            "968:\tlearn: 0.1348040\ttotal: 15.9s\tremaining: 509ms\n",
            "969:\tlearn: 0.1347772\ttotal: 15.9s\tremaining: 493ms\n",
            "970:\tlearn: 0.1347166\ttotal: 16s\tremaining: 476ms\n",
            "971:\tlearn: 0.1346897\ttotal: 16s\tremaining: 460ms\n",
            "972:\tlearn: 0.1346565\ttotal: 16s\tremaining: 444ms\n",
            "973:\tlearn: 0.1346186\ttotal: 16s\tremaining: 427ms\n",
            "974:\tlearn: 0.1345988\ttotal: 16s\tremaining: 411ms\n",
            "975:\tlearn: 0.1345284\ttotal: 16s\tremaining: 394ms\n",
            "976:\tlearn: 0.1344816\ttotal: 16.1s\tremaining: 378ms\n",
            "977:\tlearn: 0.1344265\ttotal: 16.1s\tremaining: 362ms\n",
            "978:\tlearn: 0.1343784\ttotal: 16.1s\tremaining: 345ms\n",
            "979:\tlearn: 0.1343324\ttotal: 16.1s\tremaining: 329ms\n",
            "980:\tlearn: 0.1342768\ttotal: 16.1s\tremaining: 312ms\n",
            "981:\tlearn: 0.1342723\ttotal: 16.1s\tremaining: 296ms\n",
            "982:\tlearn: 0.1342336\ttotal: 16.2s\tremaining: 279ms\n",
            "983:\tlearn: 0.1341919\ttotal: 16.2s\tremaining: 263ms\n",
            "984:\tlearn: 0.1341441\ttotal: 16.2s\tremaining: 246ms\n",
            "985:\tlearn: 0.1341415\ttotal: 16.2s\tremaining: 230ms\n",
            "986:\tlearn: 0.1341216\ttotal: 16.2s\tremaining: 214ms\n",
            "987:\tlearn: 0.1340702\ttotal: 16.2s\tremaining: 197ms\n",
            "988:\tlearn: 0.1340059\ttotal: 16.3s\tremaining: 181ms\n",
            "989:\tlearn: 0.1339628\ttotal: 16.3s\tremaining: 164ms\n",
            "990:\tlearn: 0.1339157\ttotal: 16.3s\tremaining: 148ms\n",
            "991:\tlearn: 0.1338797\ttotal: 16.3s\tremaining: 131ms\n",
            "992:\tlearn: 0.1338543\ttotal: 16.3s\tremaining: 115ms\n",
            "993:\tlearn: 0.1338484\ttotal: 16.3s\tremaining: 98.5ms\n",
            "994:\tlearn: 0.1337995\ttotal: 16.3s\tremaining: 82.1ms\n",
            "995:\tlearn: 0.1337599\ttotal: 16.4s\tremaining: 65.7ms\n",
            "996:\tlearn: 0.1337552\ttotal: 16.4s\tremaining: 49.3ms\n",
            "997:\tlearn: 0.1337262\ttotal: 16.4s\tremaining: 32.8ms\n",
            "998:\tlearn: 0.1337006\ttotal: 16.4s\tremaining: 16.4ms\n",
            "999:\tlearn: 0.1336566\ttotal: 16.4s\tremaining: 0us\n"
          ],
          "name": "stdout"
        },
        {
          "output_type": "execute_result",
          "data": {
            "text/plain": [
              "<catboost.core.CatBoostClassifier at 0x1ddae3e4280>"
            ]
          },
          "metadata": {
            "tags": []
          },
          "execution_count": 74
        }
      ]
    },
    {
      "cell_type": "code",
      "metadata": {
        "id": "YE9wbvNyuVoy",
        "outputId": "060b1272-5c90-4ddd-d28d-4e8e05c12242"
      },
      "source": [
        "print(\"Accuracy : \", cat.score(x1_test, y1_test),\"\\n\")\n",
        "print(classification_report(y1_test, cat.predict(x1_test)))\n"
      ],
      "execution_count": null,
      "outputs": [
        {
          "output_type": "stream",
          "text": [
            "Accuracy :  0.9081063340991139 \n",
            "\n",
            "              precision    recall  f1-score   support\n",
            "\n",
            "           0       0.94      0.96      0.95      5302\n",
            "           1       0.67      0.57      0.62       792\n",
            "\n",
            "    accuracy                           0.91      6094\n",
            "   macro avg       0.81      0.76      0.78      6094\n",
            "weighted avg       0.90      0.91      0.90      6094\n",
            "\n"
          ],
          "name": "stdout"
        }
      ]
    },
    {
      "cell_type": "markdown",
      "metadata": {
        "id": "TmJtOVE7uVoz"
      },
      "source": [
        "#### LGBM"
      ]
    },
    {
      "cell_type": "code",
      "metadata": {
        "id": "EldhoD2duVoz",
        "outputId": "c6c3375a-9bd9-4fc6-8548-6c35a9f0a821"
      },
      "source": [
        "lgb.fit(x1_train, y1_train)"
      ],
      "execution_count": null,
      "outputs": [
        {
          "output_type": "execute_result",
          "data": {
            "text/plain": [
              "LGBMClassifier()"
            ]
          },
          "metadata": {
            "tags": []
          },
          "execution_count": 83
        }
      ]
    },
    {
      "cell_type": "code",
      "metadata": {
        "id": "Yzbk-nfGuVo0",
        "outputId": "8764b75f-fc1d-4e40-ae81-f404fd1a6317"
      },
      "source": [
        "print(\"Accuracy : \", lgb.score(x1_test, y1_test),\"\\n\")\n",
        "print(classification_report(y1_test, lgb.predict(x1_test)))"
      ],
      "execution_count": null,
      "outputs": [
        {
          "output_type": "stream",
          "text": [
            "Accuracy :  0.9043321299638989 \n",
            "\n",
            "              precision    recall  f1-score   support\n",
            "\n",
            "           0       0.93      0.96      0.95      5302\n",
            "           1       0.66      0.55      0.60       792\n",
            "\n",
            "    accuracy                           0.90      6094\n",
            "   macro avg       0.80      0.76      0.77      6094\n",
            "weighted avg       0.90      0.90      0.90      6094\n",
            "\n"
          ],
          "name": "stdout"
        }
      ]
    },
    {
      "cell_type": "code",
      "metadata": {
        "id": "r02PBkyfuVo0"
      },
      "source": [
        "### Hyper parameter tuning:\n",
        "\n",
        "# xgboost : 0.9460779708783467\n",
        "# RandomForestClassifier : 0.8956317519962423\n",
        "\n",
        "\n",
        "### UP SAMPLING and One Hot encoding\n",
        "\n",
        "# Catboost : 0.9428839830906529\n",
        "# LightGBM : 0.9457022076092062\n",
        "\n",
        "\n",
        "### No Up sampling and LabelEncoding\n",
        "\n",
        "# Catboost : 0.9081063340991139\n",
        "# LightGBM : 0.9043321299638989\n",
        "\n",
        "\n",
        "### Voting Classifier ( Logistic Regression, KNN, Decision Tree Classifier)\n",
        "\n",
        "## Accuracy : 0.9389384687646782"
      ],
      "execution_count": null,
      "outputs": []
    },
    {
      "cell_type": "code",
      "metadata": {
        "id": "RLd8T_RhuVo1"
      },
      "source": [
        ""
      ],
      "execution_count": null,
      "outputs": []
    },
    {
      "cell_type": "code",
      "metadata": {
        "id": "G2dcy71AuVo2"
      },
      "source": [
        ""
      ],
      "execution_count": null,
      "outputs": []
    },
    {
      "cell_type": "code",
      "metadata": {
        "id": "IFarOwN_uVo2"
      },
      "source": [
        ""
      ],
      "execution_count": null,
      "outputs": []
    },
    {
      "cell_type": "code",
      "metadata": {
        "id": "t8xm-yE7vJ-t"
      },
      "source": [
        ""
      ],
      "execution_count": null,
      "outputs": []
    }
  ]
}